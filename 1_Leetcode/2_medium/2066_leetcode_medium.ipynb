{
 "cells": [
  {
   "cell_type": "markdown",
   "metadata": {
    "application/vnd.databricks.v1+cell": {
     "cellMetadata": {},
     "inputWidgets": {},
     "nuid": "00db53ac-a5b2-4a7f-a114-79993801f157",
     "showTitle": false,
     "tableResultSettingsMap": {},
     "title": ""
    }
   },
   "source": [
    "## 2066 - Account Balance\n",
    "### Table: Transactions\n",
    "\n",
    "| Column Name | Type |\n",
    "|-------------|------|\n",
    "| account_id  | int  |\n",
    "| day         | date |\n",
    "| type        | ENUM |\n",
    "| amount      | int  |\n",
    "\n",
    "(account_id, day) is the primary key for this table.  \n",
    "Each row contains information about one transaction, including the transaction type, the day it occurred on, and the amount.  \n",
    "type is an ENUM of the type ('Deposit','Withdraw')  \n",
    "\n",
    "Write an SQL query to report the balance of each user after each transaction. You may assume that the balance of each account before any transaction is 0 and that the balance will never be below 0 at any moment.\n",
    "\n",
    "Return the result table in ascending order by account_id, then by day in case of a tie.\n",
    "\n",
    "---\n",
    "\n",
    "### Transactions table:\n",
    "\n",
    "| account_id | day        | type     | amount |\n",
    "|------------|------------|----------|--------|\n",
    "| 1          | 2021-11-07 | Deposit  | 2000   |\n",
    "| 1          | 2021-11-09 | Withdraw | 1000   |\n",
    "| 1          | 2021-11-11 | Deposit  | 3000   |\n",
    "| 2          | 2021-12-07 | Deposit  | 7000   |\n",
    "| 2          | 2021-12-12 | Withdraw | 7000   |\n",
    "\n",
    "---\n",
    "\n",
    "### Output:\n",
    "\n",
    "| account_id | day        | balance |\n",
    "|------------|------------|---------|\n",
    "| 1          | 2021-11-07 | 2000    |\n",
    "| 1          | 2021-11-09 | 1000    |\n",
    "| 1          | 2021-11-11 | 4000    |\n",
    "| 2          | 2021-12-07 | 7000    |\n",
    "| 2          | 2021-12-12 | 0       |\n",
    "\n",
    "---\n",
    "\n",
    "**Explanation:**  \n",
    "Account 1:  \n",
    "- Initial balance is 0.  \n",
    "- 2021-11-07 --> deposit 2000. Balance is 0 + 2000 = 2000.  \n",
    "- 2021-11-09 --> withdraw 1000. Balance is 2000 - 1000 = 1000.  \n",
    "- 2021-11-11 --> deposit 3000. Balance is 1000 + 3000 = 4000.  \n",
    "\n",
    "Account 2:  \n",
    "- Initial balance is 0.  \n",
    "- 2021-12-07 --> deposit 7000. Balance is 0 + 7000 = 7000.  \n",
    "- 2021-12-12 --> withdraw 7000. Balance is 7000 - 7000 = 0."
   ]
  },
  {
   "cell_type": "code",
   "execution_count": 0,
   "metadata": {
    "application/vnd.databricks.v1+cell": {
     "cellMetadata": {
      "byteLimit": 2048000,
      "rowLimit": 10000
     },
     "inputWidgets": {},
     "nuid": "8f1c0734-619d-45f3-a170-5e60a2b6ecd3",
     "showTitle": false,
     "tableResultSettingsMap": {},
     "title": ""
    }
   },
   "outputs": [],
   "source": [
    "from pyspark.sql import SparkSession\n",
    "from pyspark.sql.types import StructType, StructField, IntegerType, StringType, DateType\n",
    "from pyspark.sql.functions import col, when, sum\n",
    "from pyspark.sql.window import Window\n",
    "from datetime import datetime\n",
    "\n",
    "# Start Spark session\n",
    "spark = SparkSession.builder.appName(\"TransactionBalance\").getOrCreate()\n",
    "\n",
    "# Define schema\n",
    "schema = StructType([\n",
    "    StructField(\"account_id\", IntegerType(), True),\n",
    "    StructField(\"day\", DateType(), True),\n",
    "    StructField(\"type\", StringType(), True),\n",
    "    StructField(\"amount\", IntegerType(), True)\n",
    "])\n",
    "\n",
    "# Sample data\n",
    "raw_data = [\n",
    "    (1, \"2021-11-07\", \"Deposit\", 2000),\n",
    "    (1, \"2021-11-09\", \"Withdraw\", 1000),\n",
    "    (1, \"2021-11-11\", \"Deposit\", 3000),\n",
    "    (2, \"2021-12-07\", \"Deposit\", 7000),\n",
    "    (2, \"2021-12-12\", \"Withdraw\", 7000)\n",
    "]\n",
    "\n",
    "# ✅ Convert date strings to datetime.datetime objects\n",
    "data = [(aid, datetime.strptime(day, \"%Y-%m-%d\"), ttype, amt) for aid, day, ttype, amt in raw_data]\n",
    "\n",
    "# Create DataFrame\n",
    "df = spark.createDataFrame(data, schema)\n",
    "df.createOrReplaceTempView(\"Transactions\")\n"
   ]
  },
  {
   "cell_type": "code",
   "execution_count": 0,
   "metadata": {
    "application/vnd.databricks.v1+cell": {
     "cellMetadata": {
      "byteLimit": 2048000,
      "rowLimit": 10000
     },
     "inputWidgets": {},
     "nuid": "5152369b-220b-431d-b164-b994302d7ca4",
     "showTitle": true,
     "tableResultSettingsMap": {},
     "title": "h"
    }
   },
   "outputs": [],
   "source": [
    "df_2 = df.withColumn(\n",
    "    \"balance_2\", when(col(\"type\") == \"Deposit\", col(\"amount\")).otherwise(-col(\"amount\"))\n",
    ").select(\"account_id\", \"day\", \"balance_2\")\n",
    "win_spec = Window.partitionBy(\"account_id\").orderBy(\"day\")\n",
    "c_sum = sum(\"balance_2\").over(win_spec)\n",
    "df_2 = (\n",
    "    df_2.withColumn(\"balance\", c_sum)\n",
    "    .select(\"account_id\", \"day\", \"balance\")\n",
    "    .orderBy([\"account_id\", \"day\"], ascending=[1, 1])\n",
    "    .display()\n",
    ")"
   ]
  },
  {
   "cell_type": "code",
   "execution_count": 0,
   "metadata": {
    "application/vnd.databricks.v1+cell": {
     "cellMetadata": {
      "byteLimit": 2048000,
      "implicitDf": true,
      "rowLimit": 10000
     },
     "inputWidgets": {},
     "nuid": "acc0cd47-ae68-4624-aae3-dfb4d4475528",
     "showTitle": false,
     "tableResultSettingsMap": {
      "0": {
       "dataGridStateBlob": "{\"version\":1,\"tableState\":{\"columnPinning\":{\"left\":[\"#row_number#\"],\"right\":[]},\"columnSizing\":{},\"columnVisibility\":{}},\"settings\":{\"columns\":{}},\"syncTimestamp\":1758517212743}",
       "filterBlob": null,
       "queryPlanFiltersBlob": null,
       "tableResultIndex": 0
      }
     },
     "title": ""
    }
   },
   "outputs": [],
   "source": [
    "%sql\n",
    "with cte as (\n",
    "  select case \n",
    "    when type   = 'Deposit' then amount \n",
    "    else -1 * amount\n",
    "    end as balance\n",
    "    , account_id ,day \n",
    "      from Transactions\n",
    "),cte_2 as (\n",
    "\n",
    "  select  account_id ,day ,sum(balance)over(partition by account_id order by day ) as balance from cte\n",
    ")\n",
    "Select * from cte_2\n",
    "order by account_id ,day"
   ]
  },
  {
   "cell_type": "code",
   "execution_count": 0,
   "metadata": {
    "application/vnd.databricks.v1+cell": {
     "cellMetadata": {
      "byteLimit": 2048000,
      "rowLimit": 10000
     },
     "inputWidgets": {},
     "nuid": "d26e4535-e293-4f1a-83d0-6951d2cfee59",
     "showTitle": false,
     "tableResultSettingsMap": {},
     "title": ""
    }
   },
   "outputs": [],
   "source": [
    "\n",
    "# Transform amount based on type\n",
    "df_transformed = df.withColumn(\"net_amount\", when(col(\"type\") == \"Deposit\", col(\"amount\")).otherwise(-col(\"amount\")))\n",
    "\n",
    "# Define window for cumulative sum\n",
    "window_spec = Window.partitionBy(\"account_id\").orderBy(\"day\").rowsBetween(Window.unboundedPreceding, Window.currentRow)\n",
    "\n",
    "# Calculate balance\n",
    "df_result = df_transformed.withColumn(\"balance\", sum(\"net_amount\").over(window_spec)) \\\n",
    "                          .select(\"account_id\", \"day\", \"balance\") \\\n",
    "                          .orderBy(\"account_id\", \"day\")\n",
    "\n",
    "# Display result\n",
    "display(df_result)"
   ]
  }
 ],
 "metadata": {
  "application/vnd.databricks.v1+notebook": {
   "computePreferences": null,
   "dashboards": [],
   "environmentMetadata": {
    "base_environment": "",
    "environment_version": "3"
   },
   "inputWidgetPreferences": null,
   "language": "python",
   "notebookMetadata": {
    "mostRecentlyExecutedCommandWithImplicitDF": {
     "commandId": 4954692329817651,
     "dataframes": [
      "_sqldf"
     ]
    },
    "pythonIndentUnit": 4
   },
   "notebookName": "2066_leetcode_medium",
   "widgets": {}
  },
  "language_info": {
   "name": "python"
  }
 },
 "nbformat": 4,
 "nbformat_minor": 0
}
