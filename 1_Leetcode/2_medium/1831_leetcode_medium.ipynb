{
 "cells": [
  {
   "cell_type": "markdown",
   "metadata": {
    "application/vnd.databricks.v1+cell": {
     "cellMetadata": {},
     "inputWidgets": {},
     "nuid": "c33aef3c-4fe4-4fdb-be53-d3b291070c5f",
     "showTitle": false,
     "tableResultSettingsMap": {},
     "title": ""
    }
   },
   "source": [
    "## 1831. Maximum Transaction Each Day\n",
    "### Table: Transactions\n",
    "\n",
    "| Column Name    | Type     |\n",
    "|----------------|----------|\n",
    "| transaction_id | int      |\n",
    "| day            | datetime |\n",
    "| amount         | int      |\n",
    "\n",
    "transaction_id is the primary key for this table.  \n",
    "Each row contains information about one transaction.\n",
    "\n",
    "---\n",
    "\n",
    "Write an SQL query to report the IDs of the transactions with the maximum amount on their respective day. If in one day there are multiple such transactions, return all of them.\n",
    "\n",
    "Return the result table in ascending order by transaction_id.\n",
    "\n",
    "---\n",
    "\n",
    "### Transactions table:\n",
    "\n",
    "| transaction_id | day                | amount |\n",
    "|----------------|--------------------|--------|\n",
    "| 8              | 2021-4-3 15:57:28  | 57     |\n",
    "| 9              | 2021-4-28 08:47:25 | 21     |\n",
    "| 1              | 2021-4-29 13:28:30 | 58     |\n",
    "| 5              | 2021-4-28 16:39:59 | 40     |\n",
    "| 6              | 2021-4-29 23:39:28 | 58     |\n",
    "\n",
    "---\n",
    "\n",
    "### Result table:\n",
    "\n",
    "| transaction_id |\n",
    "|----------------|\n",
    "| 1              |\n",
    "| 5              |\n",
    "| 6              |\n",
    "| 8              |\n",
    "\n",
    "---\n",
    "\n",
    "**Explanation:**  \n",
    "\"2021-4-3\"  --> We have one transaction with ID 8, so we add 8 to the result table.  \n",
    "\"2021-4-28\" --> We have two transactions with IDs 5 and 9. The transaction with ID 5 has an amount of 40, while the transaction with ID 9 has an amount of 21. We only include the transaction with ID 5 as it has the maximum amount this day.  \n",
    "\"2021-4-29\" --> We have two transactions with IDs 1 and 6. Both transactions have the same amount of 58, so we include both in the result table.  \n",
    "We order the result table by transaction_id after collecting these IDs."
   ]
  },
  {
   "cell_type": "code",
   "execution_count": 0,
   "metadata": {
    "application/vnd.databricks.v1+cell": {
     "cellMetadata": {
      "byteLimit": 2048000,
      "rowLimit": 10000
     },
     "inputWidgets": {},
     "nuid": "7003e3d0-19cc-4ce7-91d9-21693e62c8e5",
     "showTitle": false,
     "tableResultSettingsMap": {},
     "title": ""
    }
   },
   "outputs": [],
   "source": [
    "from pyspark.sql import SparkSession\n",
    "from pyspark.sql.types import StructType, StructField, IntegerType, TimestampType\n",
    "from pyspark.sql.functions import col, max as max_, to_date\n",
    "from pyspark.sql.window import Window\n",
    "\n",
    "# Start Spark session\n",
    "spark = SparkSession.builder.appName(\"MaxTransactionPerDay\").getOrCreate()\n",
    "\n",
    "# Define schema\n",
    "schema = StructType([\n",
    "    StructField(\"transaction_id\", IntegerType(), True),\n",
    "    StructField(\"day\", TimestampType(), True),\n",
    "    StructField(\"amount\", IntegerType(), True)\n",
    "])\n",
    "\n",
    "# Sample data\n",
    "from datetime import datetime\n",
    "data = [\n",
    "    (8, datetime.strptime(\"2021-04-03 15:57:28\", \"%Y-%m-%d %H:%M:%S\"), 57),\n",
    "    (9, datetime.strptime(\"2021-04-28 08:47:25\", \"%Y-%m-%d %H:%M:%S\"), 21),\n",
    "    (1, datetime.strptime(\"2021-04-29 13:28:30\", \"%Y-%m-%d %H:%M:%S\"), 58),\n",
    "    (5, datetime.strptime(\"2021-04-28 16:39:59\", \"%Y-%m-%d %H:%M:%S\"), 40),\n",
    "    (6, datetime.strptime(\"2021-04-29 23:39:28\", \"%Y-%m-%d %H:%M:%S\"), 58)\n",
    "]\n",
    "\n",
    "# Create DataFrame\n",
    "df = spark.createDataFrame(data, schema)\n",
    "\n",
    "#create Sql temp_view\n",
    "\n",
    "df.createOrReplaceTempView(\"Transactions\")\n",
    "\n"
   ]
  },
  {
   "cell_type": "code",
   "execution_count": 0,
   "metadata": {
    "application/vnd.databricks.v1+cell": {
     "cellMetadata": {
      "byteLimit": 2048000,
      "implicitDf": true,
      "rowLimit": 10000
     },
     "inputWidgets": {},
     "nuid": "36c3fceb-a746-4302-ae98-93cb56b29198",
     "showTitle": false,
     "tableResultSettingsMap": {
      "0": {
       "dataGridStateBlob": "{\"version\":1,\"tableState\":{\"columnPinning\":{\"left\":[\"#row_number#\"],\"right\":[]},\"columnSizing\":{},\"columnVisibility\":{}},\"settings\":{\"columns\":{}},\"syncTimestamp\":1758599813797}",
       "filterBlob": null,
       "queryPlanFiltersBlob": null,
       "tableResultIndex": 0
      }
     },
     "title": ""
    }
   },
   "outputs": [],
   "source": [
    "%sql\n",
    "with cte as (\n",
    "SELECT \n",
    "    date_FORMAT(day, 'yyyy-MM-dd') AS formatted_day,\n",
    "    transaction_id,\n",
    "    day,\n",
    "    amount\n",
    "FROM transactions\n",
    ")\n",
    ", cte2 as (\n",
    "\n",
    "    Select rank()over(partition by formatted_day order by amount desc) as d_rank  , * from cte \n",
    ")\n",
    "select transaction_id from cte2 where d_rank =1 order by transaction_id asc;"
   ]
  },
  {
   "cell_type": "code",
   "execution_count": 0,
   "metadata": {
    "application/vnd.databricks.v1+cell": {
     "cellMetadata": {
      "byteLimit": 2048000,
      "rowLimit": 10000
     },
     "inputWidgets": {},
     "nuid": "a041f0ca-178b-4d1a-a47b-88c1e44423ee",
     "showTitle": false,
     "tableResultSettingsMap": {},
     "title": ""
    }
   },
   "outputs": [],
   "source": [
    "from pyspark.sql.functions import *\n",
    "from pyspark.sql.window import *\n",
    "#format date\n",
    "df_formated = df.withColumn(\"formated_date\", date_format(col(\"day\"),\"yyyy-MM-dd\"))\n",
    "\n",
    "win_spec = Window.partitionBy(\"formated_date\").orderBy(col(\"amount\").desc())\n",
    "rank = rank().over(win_spec)\n",
    "df_formated.withColumn(\"rank\",rank).filter(col(\"rank\")==1).select(\"transaction_id\").orderBy(\"transaction_id\").display()"
   ]
  }
 ],
 "metadata": {
  "application/vnd.databricks.v1+notebook": {
   "computePreferences": null,
   "dashboards": [],
   "environmentMetadata": {
    "base_environment": "",
    "environment_version": "3"
   },
   "inputWidgetPreferences": null,
   "language": "python",
   "notebookMetadata": {
    "mostRecentlyExecutedCommandWithImplicitDF": {
     "commandId": 5762497092723473,
     "dataframes": [
      "_sqldf"
     ]
    },
    "pythonIndentUnit": 4
   },
   "notebookName": "1831_leetcode_medium",
   "widgets": {}
  },
  "language_info": {
   "name": "python"
  }
 },
 "nbformat": 4,
 "nbformat_minor": 0
}
