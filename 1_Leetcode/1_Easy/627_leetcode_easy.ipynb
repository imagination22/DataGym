{
 "cells": [
  {
   "cell_type": "markdown",
   "metadata": {
    "application/vnd.databricks.v1+cell": {
     "cellMetadata": {},
     "inputWidgets": {},
     "nuid": "6f1e2539-6a5f-44dc-9372-306f30ac33ef",
     "showTitle": false,
     "tableResultSettingsMap": {},
     "title": ""
    }
   },
   "source": [
    "## 627. Swap Salary\n",
    "### Table: Salary\n",
    "\n",
    "| Column Name | Type    |\n",
    "|-------------|---------|\n",
    "| id          | int     |\n",
    "| name        | varchar |\n",
    "| sex         | ENUM    |\n",
    "| salary      | int     |\n",
    "\n",
    "**Primary Key**: `id` — each row contains unique information about an employee.\n",
    "\n",
    "**Description**:\n",
    "The table contains information about employees, including their name, gender (`sex`), and salary.  \n",
    "The `sex` column is an ENUM type with values `'m'` and `'f'`.\n",
    "\n",
    "---\n",
    "\n",
    "### 🧠 Business Logic:\n",
    "Write a solution to **swap all `'f'` and `'m'` values** in the `sex` column:\n",
    "- `'f'` → `'m'`\n",
    "- `'m'` → `'f'`\n",
    "\n",
    "Use a **single update statement** — no intermediate temporary tables or select statements.\n",
    "\n",
    "---\n",
    "\n",
    "### ✅ Expected Output Format:\n",
    "\n",
    "#### Input:\n",
    "| id | name | sex | salary |\n",
    "|----|------|-----|--------|\n",
    "| 1  | A    | m   | 2500   |\n",
    "| 2  | B    | f   | 1500   |\n",
    "| 3  | C    | m   | 5500   |\n",
    "| 4  | D    | f   | 500    |\n",
    "\n",
    "#### Output:\n",
    "| id | name | sex | salary |\n",
    "|----|------|-----|--------|\n",
    "| 1  | A    | f   | 2500   |\n",
    "| 2  | B    | m   | 1500   |\n",
    "| 3  | C    | f   | 5500   |\n",
    "| 4  | D    | m   | 500    |\n",
    "\n",
    "**Explanation**:  \n",
    "- IDs 1 and 3: `'m'` → `'f'`  \n",
    "- IDs 2 and 4: `'f'` → `'m'`"
   ]
  },
  {
   "cell_type": "code",
   "execution_count": 0,
   "metadata": {
    "application/vnd.databricks.v1+cell": {
     "cellMetadata": {
      "byteLimit": 2048000,
      "rowLimit": 10000
     },
     "inputWidgets": {},
     "nuid": "63a339d2-4f32-43ba-a0e4-a369bdc00e30",
     "showTitle": false,
     "tableResultSettingsMap": {},
     "title": ""
    }
   },
   "outputs": [],
   "source": [
    "from pyspark.sql import SparkSession\n",
    "from pyspark.sql.types import StructType, StructField, IntegerType, StringType\n",
    "from pyspark.sql.functions import when, col\n",
    "\n",
    "# Sample data\n",
    "data = [\n",
    "    (1, \"A\", \"m\", 2500),\n",
    "    (2, \"B\", \"f\", 1500),\n",
    "    (3, \"C\", \"m\", 5500),\n",
    "    (4, \"D\", \"f\", 500)\n",
    "]\n",
    "\n",
    "# Define schema\n",
    "schema = StructType([\n",
    "    StructField(\"id\", IntegerType(), False),\n",
    "    StructField(\"name\", StringType(), True),\n",
    "    StructField(\"sex\", StringType(), True),\n",
    "    StructField(\"salary\", IntegerType(), True)\n",
    "])\n",
    "\n",
    "# Create DataFrame\n",
    "df = spark.createDataFrame(data, schema)\n",
    "\n"
   ]
  },
  {
   "cell_type": "markdown",
   "metadata": {
    "application/vnd.databricks.v1+cell": {
     "cellMetadata": {},
     "inputWidgets": {},
     "nuid": "a4ce8cdf-59f6-4ef9-9bca-b3d54ac6983c",
     "showTitle": false,
     "tableResultSettingsMap": {},
     "title": ""
    }
   },
   "source": [
    "#Update statement is  not suppoted in pyspark and unity catlog"
   ]
  },
  {
   "cell_type": "code",
   "execution_count": 0,
   "metadata": {
    "application/vnd.databricks.v1+cell": {
     "cellMetadata": {
      "byteLimit": 2048000,
      "rowLimit": 10000
     },
     "inputWidgets": {},
     "nuid": "ab174954-222f-485c-b000-e0908cbe2416",
     "showTitle": false,
     "tableResultSettingsMap": {},
     "title": ""
    }
   },
   "outputs": [],
   "source": [
    "df.display()\n",
    "updated_df = df.withColumn(\"sex\",when(col(\"sex\")==\"m\", \"f\").when(col(\"sex\")==\"f\",\"m\").otherwise(\"sex\")).select(\"id\",\"name\",\"sex\",\"salary\")\n",
    "display(updated_df)"
   ]
  },
  {
   "cell_type": "code",
   "execution_count": 0,
   "metadata": {
    "application/vnd.databricks.v1+cell": {
     "cellMetadata": {},
     "inputWidgets": {},
     "nuid": "88274779-c7fa-4909-9c67-9456721c6f38",
     "showTitle": false,
     "tableResultSettingsMap": {},
     "title": ""
    }
   },
   "outputs": [],
   "source": []
  }
 ],
 "metadata": {
  "application/vnd.databricks.v1+notebook": {
   "computePreferences": null,
   "dashboards": [],
   "environmentMetadata": {
    "base_environment": "",
    "environment_version": "3"
   },
   "inputWidgetPreferences": null,
   "language": "python",
   "notebookMetadata": {
    "pythonIndentUnit": 4
   },
   "notebookName": "627_leetcode_easy",
   "widgets": {}
  },
  "language_info": {
   "name": "python"
  }
 },
 "nbformat": 4,
 "nbformat_minor": 0
}
