{
 "cells": [
  {
   "cell_type": "markdown",
   "metadata": {
    "application/vnd.databricks.v1+cell": {
     "cellMetadata": {
      "byteLimit": 2048000,
      "rowLimit": 10000
     },
     "inputWidgets": {},
     "nuid": "afc73efc-625e-4241-a976-1c9119040507",
     "showTitle": false,
     "tableResultSettingsMap": {},
     "title": ""
    }
   },
   "source": [
    "##620. Not Boring Movies\n",
    "### Table: Cinema\n",
    "\n",
    "| Column Name | Type    |\n",
    "|-------------|---------|\n",
    "| id          | int     |\n",
    "| movie       | varchar |\n",
    "| description | varchar |\n",
    "| rating      | float   |\n",
    "\n",
    "**Primary Key**: `id` — each row contains unique information about a movie.\n",
    "\n",
    "**Description**:\n",
    "Each row contains the name of a movie, its description (genre or comment), and its rating.  \n",
    "The `rating` is a float with 2 decimal places in the range [0, 10].\n",
    "\n",
    "---\n",
    "\n",
    "### 🧠 Business Logic:\n",
    "Report the movies that meet **both** of the following criteria:\n",
    "- Have an **odd-numbered ID**\n",
    "- Have a **description that is not \"boring\"**\n",
    "\n",
    "Return the result table **ordered by rating in descending order**.\n",
    "\n",
    "---\n",
    "\n",
    "### ✅ Expected Output Format:\n",
    "\n",
    "#### Input:\n",
    "| id | movie      | description | rating |\n",
    "|----|------------|-------------|--------|\n",
    "| 1  | War        | great 3D    | 8.9    |\n",
    "| 2  | Science    | fiction     | 8.5    |\n",
    "| 3  | irish      | boring      | 6.2    |\n",
    "| 4  | Ice song   | Fantacy     | 8.6    |\n",
    "| 5  | House card | Interesting | 9.1    |\n",
    "\n",
    "#### Output:\n",
    "| id | movie      | description | rating |\n",
    "|----|------------|-------------|--------|\n",
    "| 5  | House card | Interesting | 9.1    |\n",
    "| 1  | War        | great 3D    | 8.9    |\n",
    "\n",
    "**Explanation**:  \n",
    "Odd IDs are 1, 3, and 5.  \n",
    "Movie with ID = 3 is \"boring\" → excluded.  \n",
    "Movies with ID = 1 and 5 are included and sorted by rating."
   ]
  },
  {
   "cell_type": "code",
   "execution_count": 0,
   "metadata": {
    "application/vnd.databricks.v1+cell": {
     "cellMetadata": {
      "byteLimit": 2048000,
      "rowLimit": 10000
     },
     "inputWidgets": {},
     "nuid": "cbb69f80-9119-4734-b679-40f834907014",
     "showTitle": false,
     "tableResultSettingsMap": {},
     "title": ""
    }
   },
   "outputs": [],
   "source": [
    "from pyspark.sql import SparkSession\n",
    "from pyspark.sql.types import StructType, StructField, IntegerType, StringType, FloatType\n",
    "\n",
    "# Sample data\n",
    "data = [\n",
    "    (1, \"War\", \"great 3D\", 8.9),\n",
    "    (2, \"Science\", \"fiction\", 8.5),\n",
    "    (3, \"irish\", \"boring\", 6.2),\n",
    "    (4, \"Ice song\", \"Fantacy\", 8.6),\n",
    "    (5, \"House card\", \"Interesting\", 9.1)\n",
    "]\n",
    "\n",
    "# Define schema\n",
    "schema = StructType([\n",
    "    StructField(\"id\", IntegerType(), False),\n",
    "    StructField(\"movie\", StringType(), True),\n",
    "    StructField(\"description\", StringType(), True),\n",
    "    StructField(\"rating\", FloatType(), True)\n",
    "])\n",
    "\n",
    "# Create DataFrame\n",
    "df = spark.createDataFrame(data, schema)\n",
    "\n",
    "# Register Temp View\n",
    "df.createOrReplaceTempView(\"Cinema\")\n",
    "\n",
    "# SQL logic to filter odd IDs and non-boring descriptions\n",
    "result = spark.sql(\"\"\"\n",
    "    SELECT id, movie, description, rating\n",
    "    FROM Cinema\n",
    "    WHERE id % 2 = 1 AND description != 'boring'\n",
    "    ORDER BY rating DESC\n",
    "\"\"\")\n",
    "\n",
    "# Display result\n",
    "display(result)"
   ]
  },
  {
   "cell_type": "code",
   "execution_count": 0,
   "metadata": {
    "application/vnd.databricks.v1+cell": {
     "cellMetadata": {
      "byteLimit": 2048000,
      "implicitDf": true,
      "rowLimit": 10000
     },
     "inputWidgets": {},
     "nuid": "1839ac1d-be0b-443b-83f8-af85efd5b25e",
     "showTitle": false,
     "tableResultSettingsMap": {},
     "title": ""
    }
   },
   "outputs": [],
   "source": [
    "%sql\n",
    "Select id , movie , description , CAST(rating AS DECIMAL(4,1))  as rating from cinema where id%2 = 1 and description <> 'boring' order by rating desc "
   ]
  },
  {
   "cell_type": "code",
   "execution_count": 0,
   "metadata": {
    "application/vnd.databricks.v1+cell": {
     "cellMetadata": {
      "byteLimit": 2048000,
      "rowLimit": 10000
     },
     "inputWidgets": {},
     "nuid": "4b31d9dc-45d7-463d-81d6-588cb7c1a104",
     "showTitle": false,
     "tableResultSettingsMap": {},
     "title": ""
    }
   },
   "outputs": [],
   "source": [
    "from pyspark.sql.functions import *\n",
    "\n",
    "df.filter((col(\"id\") % 2 != 0) & (col(\"description\") != \"boring\"))\\\n",
    "    .selectExpr(\"id\", \"movie\", \"description\", \"cast(rating as decimal(4,1)) as rating\")\\\n",
    "    .orderBy(col(\"rating\").desc())\\\n",
    "    .display()"
   ]
  },
  {
   "cell_type": "code",
   "execution_count": 0,
   "metadata": {
    "application/vnd.databricks.v1+cell": {
     "cellMetadata": {
      "byteLimit": 2048000,
      "rowLimit": 10000
     },
     "inputWidgets": {},
     "nuid": "b75134e6-26bb-4931-b266-706e234c9a90",
     "showTitle": false,
     "tableResultSettingsMap": {},
     "title": ""
    }
   },
   "outputs": [],
   "source": []
  }
 ],
 "metadata": {
  "application/vnd.databricks.v1+notebook": {
   "computePreferences": null,
   "dashboards": [],
   "environmentMetadata": {
    "base_environment": "",
    "environment_version": "3"
   },
   "inputWidgetPreferences": null,
   "language": "python",
   "notebookMetadata": {
    "mostRecentlyExecutedCommandWithImplicitDF": {
     "commandId": 6335100106985697,
     "dataframes": [
      "_sqldf"
     ]
    },
    "pythonIndentUnit": 4
   },
   "notebookName": "620_leetcode_easy",
   "widgets": {}
  },
  "language_info": {
   "name": "python"
  }
 },
 "nbformat": 4,
 "nbformat_minor": 0
}
