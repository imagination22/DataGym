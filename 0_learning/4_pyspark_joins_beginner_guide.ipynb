{
 "cells": [
  {
   "cell_type": "markdown",
   "metadata": {
    "application/vnd.databricks.v1+cell": {
     "cellMetadata": {},
     "inputWidgets": {},
     "nuid": "8e27005b-3a4e-4dd2-bf7c-9d29ca20a87a",
     "showTitle": false,
     "tableResultSettingsMap": {},
     "title": ""
    }
   },
   "source": [
    "# 🔗 PySpark Joins — Beginner-Friendly Guide\n",
    "\n",
    "Let’s wrap up everything about **PySpark joins** into one clean, beginner-friendly guide — with:\n",
    "\n",
    "- ✅ Simple explanation of each join type  \n",
    "- 📦 One example setup  \n",
    "- 📌 Use case  \n",
    "- 🧾 Result table  \n",
    "- 🔍 How it works under the hood (including comparisons)\n",
    "\n",
    "---\n",
    "\n",
    "## 🧱 Setup: Two DataFrames\n",
    "\n",
    "### 🧾 Left DataFrame: `orders`\n",
    "\n",
    "| order_id | customer_id |\n",
    "|----------|-------------|\n",
    "| 101      | 1           |\n",
    "| 102      | 2           |\n",
    "\n",
    "### 💳 Right DataFrame: `payments`\n",
    "\n",
    "| payment_id | customer_id |\n",
    "|------------|-------------|\n",
    "| 201        | 1           |\n",
    "| 202        | 3           |\n",
    "\n",
    "We’ll join on `customer_id`.\n",
    "\n",
    "---\n",
    "\n",
    "## 🔗 1. **Inner Join** — \"Only matching rows\"\n",
    "\n",
    "```python\n",
    "orders.join(payments, \"customer_id\", \"inner\")"
   ]
  }
 ],
 "metadata": {
  "application/vnd.databricks.v1+notebook": {
   "computePreferences": null,
   "dashboards": [],
   "environmentMetadata": {
    "base_environment": "",
    "environment_version": "3"
   },
   "inputWidgetPreferences": null,
   "language": "python",
   "notebookMetadata": {
    "pythonIndentUnit": 4
   },
   "notebookName": "4_pyspark_joins_beginner_guide",
   "widgets": {}
  },
  "language_info": {
   "name": "python"
  }
 },
 "nbformat": 4,
 "nbformat_minor": 0
}
