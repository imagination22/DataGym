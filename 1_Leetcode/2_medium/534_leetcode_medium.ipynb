{
 "cells": [
  {
   "cell_type": "markdown",
   "metadata": {
    "application/vnd.databricks.v1+cell": {
     "cellMetadata": {},
     "inputWidgets": {},
     "nuid": "957b3f60-b1ae-4f89-a590-e2fd9e70ec34",
     "showTitle": false,
     "tableResultSettingsMap": {},
     "title": ""
    }
   },
   "source": [
    "## 534. Game Play Analysis III\n",
    "### Table: Activity\n",
    "\n",
    "| Column Name  | Type |\n",
    "|--------------|------|\n",
    "| player_id    | int  |\n",
    "| device_id    | int  |\n",
    "| event_date   | date |\n",
    "| games_played | int  |\n",
    "\n",
    "(player_id, event_date) is the primary key of this table.  \n",
    "This table shows the activity of players of some game.  \n",
    "Each row is a record of a player who logged in and played a number of games (possibly 0) before logging out on some day using some device.\n",
    "\n",
    "---\n",
    "\n",
    "Write an SQL query that reports for each player and date, how many games played so far by the player. That is, the total number of games played by the player until that date. Check the example for clarity.\n",
    "\n",
    "---\n",
    "\n",
    "### Activity table:\n",
    "\n",
    "| player_id | device_id | event_date | games_played |\n",
    "|-----------|-----------|------------|--------------|\n",
    "| 1         | 2         | 2016-03-01 | 5            |\n",
    "| 1         | 2         | 2016-05-02 | 6            |\n",
    "| 1         | 3         | 2017-06-25 | 1            |\n",
    "| 3         | 1         | 2016-03-02 | 0            |\n",
    "| 3         | 4         | 2018-07-03 | 5            |\n",
    "\n",
    "---\n",
    "\n",
    "### Result table:\n",
    "\n",
    "| player_id | event_date | games_played_so_far |\n",
    "|-----------|------------|---------------------|\n",
    "| 1         | 2016-03-01 | 5                   |\n",
    "| 1         | 2016-05-02 | 11                  |\n",
    "| 1         | 2017-06-25 | 12                  |\n",
    "| 3         | 2016-03-02 | 0                   |\n",
    "| 3         | 2018-07-03 | 5                   |\n",
    "\n",
    "---\n",
    "\n",
    "**Explanation:**  \n",
    "For the player with id 1, 5 + 6 = 11 games played by 2016-05-02, and 5 + 6 + 1 = 12 games played by 2017-06-25.  \n",
    "For the player with id 3, 0 + 5 = 5 games played by 2018-07-03.  \n",
    "Note that for each player we only care about the days when the player logged in."
   ]
  },
  {
   "cell_type": "code",
   "execution_count": 0,
   "metadata": {
    "application/vnd.databricks.v1+cell": {
     "cellMetadata": {
      "byteLimit": 2048000,
      "rowLimit": 10000
     },
     "inputWidgets": {},
     "nuid": "73140a3a-579c-4627-9842-d299f5f79f2b",
     "showTitle": false,
     "tableResultSettingsMap": {},
     "title": ""
    }
   },
   "outputs": [],
   "source": [
    "from pyspark.sql import SparkSession\n",
    "from pyspark.sql.types import StructType, StructField, IntegerType, DateType\n",
    "from pyspark.sql.functions import col, sum as sum_, to_date\n",
    "from pyspark.sql.window import Window\n",
    "\n",
    "# Start Spark session\n",
    "spark = SparkSession.builder.appName(\"GamesPlayedSoFar\").getOrCreate()\n",
    "\n",
    "# Define schema\n",
    "schema = StructType([\n",
    "    StructField(\"player_id\", IntegerType(), True),\n",
    "    StructField(\"device_id\", IntegerType(), True),\n",
    "    StructField(\"event_date\", DateType(), True),\n",
    "    StructField(\"games_played\", IntegerType(), True)\n",
    "])\n",
    "\n",
    "# Sample data\n",
    "from datetime import date\n",
    "data = [\n",
    "    (1, 2, date(2016, 3, 1), 5),\n",
    "    (1, 2, date(2016, 5, 2), 6),\n",
    "    (1, 3, date(2017, 6, 25), 1),\n",
    "    (3, 1, date(2016, 3, 2), 0),\n",
    "    (3, 4, date(2018, 7, 3), 5)\n",
    "]\n",
    "\n",
    "# Create DataFrame\n",
    "df = spark.createDataFrame(data, schema)\n",
    "\n",
    "# create temp view \n",
    "df.createOrReplaceTempView(\"Activity\")\n"
   ]
  },
  {
   "cell_type": "code",
   "execution_count": 0,
   "metadata": {
    "application/vnd.databricks.v1+cell": {
     "cellMetadata": {
      "byteLimit": 2048000,
      "rowLimit": 10000
     },
     "inputWidgets": {},
     "nuid": "bd5093c0-5fea-45db-8a3c-c7a23bfda2fb",
     "showTitle": false,
     "tableResultSettingsMap": {},
     "title": ""
    }
   },
   "outputs": [],
   "source": [
    "from pyspark.sql.functions import *\n",
    "from pyspark.sql.window import *\n",
    "\n",
    "#winspec\n",
    "win_spec = Window.partitionBy(col(\"player_id\")).orderBy(col(\"event_date\"))\n",
    "c_sum= sum(col(\"games_played\")).over(win_spec)\n",
    "df.withColumn(\"games_played_so_far\",c_sum).select(\"player_id\",\"event_date\",\"games_played_so_far\").display()"
   ]
  },
  {
   "cell_type": "code",
   "execution_count": 0,
   "metadata": {
    "application/vnd.databricks.v1+cell": {
     "cellMetadata": {
      "byteLimit": 2048000,
      "implicitDf": true,
      "rowLimit": 10000
     },
     "inputWidgets": {},
     "nuid": "186f9507-e1a4-415b-a76a-9c39fb0e90e5",
     "showTitle": false,
     "tableResultSettingsMap": {},
     "title": ""
    }
   },
   "outputs": [],
   "source": [
    "%sql\n",
    "-- note below will give error in sql in data bricks but will work in sql server.\n",
    "--Select player_id , event_date  , sum(games_played).over(partition by player_id  order  by event_date ) as games_played_so_far  from Activity \n",
    "with cte as (\n",
    "  Select sum(games_played)over(partition by player_id  order  by event_date ) as games_played_so_far , player_id , event_date    from Activity \n",
    ")\n",
    "select  player_id , event_date  ,games_played_so_far from cte "
   ]
  },
  {
   "cell_type": "code",
   "execution_count": 0,
   "metadata": {
    "application/vnd.databricks.v1+cell": {
     "cellMetadata": {
      "byteLimit": 2048000,
      "rowLimit": 10000
     },
     "inputWidgets": {},
     "nuid": "3b69946c-6cad-4287-afd6-399dd3e6381e",
     "showTitle": false,
     "tableResultSettingsMap": {},
     "title": ""
    }
   },
   "outputs": [],
   "source": [
    "\n",
    "# Define window spec\n",
    "win_spec = Window.partitionBy(\"player_id\").orderBy(\"event_date\").rowsBetween(Window.unboundedPreceding, Window.currentRow)\n",
    "\n",
    "# Compute cumulative sum\n",
    "df_result = df.withColumn(\"games_played_so_far\", sum_(\"games_played\").over(win_spec)) \\\n",
    "              .select(\"player_id\", \"event_date\", \"games_played_so_far\")\n",
    "\n",
    "# Display result\n",
    "display(df_result)"
   ]
  }
 ],
 "metadata": {
  "application/vnd.databricks.v1+notebook": {
   "computePreferences": null,
   "dashboards": [],
   "environmentMetadata": {
    "base_environment": "",
    "environment_version": "3"
   },
   "inputWidgetPreferences": null,
   "language": "python",
   "notebookMetadata": {
    "mostRecentlyExecutedCommandWithImplicitDF": {
     "commandId": 8420998414718298,
     "dataframes": [
      "_sqldf"
     ]
    },
    "pythonIndentUnit": 4
   },
   "notebookName": "534_leetcode_medium",
   "widgets": {}
  },
  "language_info": {
   "name": "python"
  }
 },
 "nbformat": 4,
 "nbformat_minor": 0
}
