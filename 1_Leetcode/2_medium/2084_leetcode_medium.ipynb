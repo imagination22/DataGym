{
 "cells": [
  {
   "cell_type": "markdown",
   "metadata": {
    "application/vnd.databricks.v1+cell": {
     "cellMetadata": {},
     "inputWidgets": {},
     "nuid": "a547faf3-836d-402b-9f72-2e40662b5951",
     "showTitle": false,
     "tableResultSettingsMap": {},
     "title": ""
    }
   },
   "source": [
    "## 2084 - Drop Type 1 Orders for Customers With Type 0 Orders\n",
    "\n",
    "### Table: Orders\n",
    "\n",
    "| Column Name | Type |\n",
    "|-------------|------|\n",
    "| order_id    | int  |\n",
    "| customer_id | int  |\n",
    "| order_type  | int  |\n",
    "\n",
    "order_id is the primary key column for this table.  \n",
    "Each row of this table indicates the ID of an order, the ID of the customer who ordered it, and the order type.  \n",
    "The orders could be of type 0 or type 1.\n",
    "\n",
    "Write an SQL query to report all the orders based on the following criteria:  \n",
    "If a customer has at least one order of type 0, do not report any order of type 1 from that customer.  \n",
    "Otherwise, report all the orders of the customer.\n",
    "\n",
    "Return the result table in any order.\n",
    "\n",
    "#### Example 1:\n",
    "\n",
    "**Input:**  \n",
    "Orders table:\n",
    "\n",
    "| order_id | customer_id | order_type |\n",
    "|----------|-------------|------------|\n",
    "| 1        | 1           | 0          |\n",
    "| 2        | 1           | 0          |\n",
    "| 11       | 2           | 0          |\n",
    "| 12       | 2           | 1          |\n",
    "| 21       | 3           | 1          |\n",
    "| 22       | 3           | 0          |\n",
    "| 31       | 4           | 1          |\n",
    "| 32       | 4           | 1          |\n",
    "\n",
    "**Output:**\n",
    "\n",
    "| order_id | customer_id | order_type |\n",
    "|----------|-------------|------------|\n",
    "| 31       | 4           | 1          |\n",
    "| 32       | 4           | 1          |\n",
    "| 1        | 1           | 0          |\n",
    "| 2        | 1           | 0          |\n",
    "| 11       | 2           | 0          |\n",
    "| 22       | 3           | 0          |\n",
    "\n",
    "**Explanation:**  \n",
    "Customer 1 has two orders of type 0. We return both of them.  \n",
    "Customer 2 has one order of type 0 and one order of type 1. We only return the order of type 0.  \n",
    "Customer 3 has one order of type 0 and one order of type 1. We only return the order of type 0.  \n",
    "Customer 4 has two orders of type 1. We return both of them."
   ]
  },
  {
   "cell_type": "code",
   "execution_count": 0,
   "metadata": {
    "application/vnd.databricks.v1+cell": {
     "cellMetadata": {
      "byteLimit": 2048000,
      "rowLimit": 10000
     },
     "inputWidgets": {},
     "nuid": "ac02fec2-7f24-4569-8b07-0bc6f3b00899",
     "showTitle": false,
     "tableResultSettingsMap": {},
     "title": ""
    }
   },
   "outputs": [],
   "source": [
    "from pyspark.sql import SparkSession\n",
    "from pyspark.sql.types import StructType, StructField, IntegerType\n",
    "from pyspark.sql.functions import col\n",
    "\n",
    "# Start Spark session\n",
    "spark = SparkSession.builder.appName(\"FilterOrders\").getOrCreate()\n",
    "\n",
    "# Define schema\n",
    "schema = StructType([\n",
    "    StructField(\"order_id\", IntegerType(), True),\n",
    "    StructField(\"customer_id\", IntegerType(), True),\n",
    "    StructField(\"order_type\", IntegerType(), True)\n",
    "])\n",
    "\n",
    "# Sample data\n",
    "data = [\n",
    "    (1, 1, 0),\n",
    "    (2, 1, 0),\n",
    "    (11, 2, 0),\n",
    "    (12, 2, 1),\n",
    "    (21, 3, 1),\n",
    "    (22, 3, 0),\n",
    "    (31, 4, 1),\n",
    "    (32, 4, 1)\n",
    "]\n",
    "\n",
    "# Create DataFrame\n",
    "df = spark.createDataFrame(data, schema)\n",
    "df.createOrReplaceTempView(\"Orders\")\n"
   ]
  },
  {
   "cell_type": "code",
   "execution_count": 0,
   "metadata": {
    "application/vnd.databricks.v1+cell": {
     "cellMetadata": {
      "byteLimit": 2048000,
      "implicitDf": true,
      "rowLimit": 10000
     },
     "inputWidgets": {},
     "nuid": "2d56ddde-1045-4698-94b4-6f6f4b7e962c",
     "showTitle": false,
     "tableResultSettingsMap": {},
     "title": ""
    }
   },
   "outputs": [],
   "source": [
    "%sql\n",
    "Select order_id , customer_id ,order_type  from orders where customer_id not in (Select distinct customer_id from orders where order_type = 0)\n",
    "union \n",
    "Select order_id , customer_id ,order_type  from orders where customer_id not in (Select distinct customer_id from orders where order_type = 1)\n",
    "union \n",
    "Select order_id , customer_id ,order_type  from orders where order_type = 0 and customer_id   in (Select distinct customer_id from orders where order_type = 1)"
   ]
  },
  {
   "cell_type": "code",
   "execution_count": 0,
   "metadata": {
    "application/vnd.databricks.v1+cell": {
     "cellMetadata": {
      "byteLimit": 2048000,
      "rowLimit": 10000
     },
     "inputWidgets": {},
     "nuid": "0362b4bb-9143-44a5-97aa-18218d4cb45a",
     "showTitle": false,
     "tableResultSettingsMap": {},
     "title": ""
    }
   },
   "outputs": [],
   "source": [
    "\n",
    "# SQL logic\n",
    "query = \"\"\"\n",
    "Select order_id , customer_id ,order_type  from orders where customer_id not in (Select distinct customer_id from orders where order_type = 0)\n",
    "union \n",
    "Select order_id , customer_id ,order_type  from orders where customer_id not in (Select distinct customer_id from orders where order_type = 1)\n",
    "union \n",
    "Select order_id , customer_id ,order_type  from orders where order_type = 0 and customer_id   in (Select distinct customer_id from orders where order_type = 1)\n",
    "\"\"\"\n",
    "\n",
    "# Execute and display\n",
    "result = spark.sql(query)\n",
    "display(result)"
   ]
  },
  {
   "cell_type": "code",
   "execution_count": 0,
   "metadata": {
    "application/vnd.databricks.v1+cell": {
     "cellMetadata": {
      "byteLimit": 2048000,
      "rowLimit": 10000
     },
     "inputWidgets": {},
     "nuid": "359886a8-6888-407b-bd6d-25fb77b1bae8",
     "showTitle": false,
     "tableResultSettingsMap": {},
     "title": ""
    }
   },
   "outputs": [],
   "source": [
    "from pyspark.sql.functions import *\n",
    "# Subquery: customers with type 0\n",
    "type0_customers = df.filter(col(\"order_type\") == 0).select(\"customer_id\").distinct()\n",
    "\n",
    "# Subquery: customers with type 1\n",
    "type1_customers = df.filter(col(\"order_type\") == 1).select(\"customer_id\").distinct()\n",
    "\n",
    "# Part 1: customers who never ordered type 0\n",
    "part1 = df.join(type0_customers, \"customer_id\", \"left_anti\")\n",
    "\n",
    "# Part 2: customers who never ordered type 1\n",
    "part2 = df.join(type1_customers, \"customer_id\", \"left_anti\")\n",
    "\n",
    "# Part 3: customers who ordered both, but only include their type 0 orders\n",
    "part3 = df.filter(col(\"order_type\") == 0).join(type1_customers, \"customer_id\", \"inner\")\n",
    "\n",
    "# Combine all parts\n",
    "part1.union(part2).union(part3).display()\n"
   ]
  }
 ],
 "metadata": {
  "application/vnd.databricks.v1+notebook": {
   "computePreferences": null,
   "dashboards": [],
   "environmentMetadata": {
    "base_environment": "",
    "environment_version": "3"
   },
   "inputWidgetPreferences": null,
   "language": "python",
   "notebookMetadata": {
    "mostRecentlyExecutedCommandWithImplicitDF": {
     "commandId": 7410925280062794,
     "dataframes": [
      "_sqldf"
     ]
    },
    "pythonIndentUnit": 4
   },
   "notebookName": "2084_leetcode_medium",
   "widgets": {}
  },
  "language_info": {
   "name": "python"
  }
 },
 "nbformat": 4,
 "nbformat_minor": 0
}
