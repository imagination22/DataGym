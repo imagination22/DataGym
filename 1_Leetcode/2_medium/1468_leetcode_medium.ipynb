{
 "cells": [
  {
   "cell_type": "markdown",
   "metadata": {
    "application/vnd.databricks.v1+cell": {
     "cellMetadata": {},
     "inputWidgets": {},
     "nuid": "5bd13361-c552-4a02-a71d-bf2e01f3b349",
     "showTitle": false,
     "tableResultSettingsMap": {},
     "title": ""
    }
   },
   "source": [
    "## 1468. Calculate Salaries\n",
    "### Table: Salaries\n",
    "\n",
    "| Column Name   | Type    |\n",
    "|---------------|---------|\n",
    "| company_id    | int     |\n",
    "| employee_id   | int     |\n",
    "| employee_name | varchar |\n",
    "| salary        | int     |\n",
    "\n",
    "(company_id, employee_id) is the primary key for this table.  \n",
    "This table contains the company id, the id, the name and the salary for an employee.\n",
    "\n",
    "---\n",
    "\n",
    "Write an SQL query to find the salaries of the employees after applying taxes.\n",
    "\n",
    "The tax rate is calculated for each company based on the following criteria:\n",
    "\n",
    "- 0% If the max salary of any employee in the company is less than 1000$.\n",
    "- 24% If the max salary of any employee in the company is in the range [1000, 10000] inclusive.\n",
    "- 49% If the max salary of any employee in the company is greater than 10000$.\n",
    "\n",
    "Return the result table in any order. Round the salary to the nearest integer.\n",
    "\n",
    "---\n",
    "\n",
    "### Salaries table:\n",
    "\n",
    "| company_id | employee_id | employee_name | salary |\n",
    "|------------|-------------|---------------|--------|\n",
    "| 1          | 1           | Tony          | 2000   |\n",
    "| 1          | 2           | Pronub        | 21300  |\n",
    "| 1          | 3           | Tyrrox        | 10800  |\n",
    "| 2          | 1           | Pam           | 300    |\n",
    "| 2          | 7           | Bassem        | 450    |\n",
    "| 2          | 9           | Hermione      | 700    |\n",
    "| 3          | 7           | Bocaben       | 100    |\n",
    "| 3          | 2           | Ognjen        | 2200   |\n",
    "| 3          | 13          | Nyancat       | 3300   |\n",
    "| 3          | 15          | Morninngcat   | 1866   |\n",
    "\n",
    "---\n",
    "\n",
    "### Result table:\n",
    "\n",
    "| company_id | employee_id | employee_name | salary |\n",
    "|------------|-------------|---------------|--------|\n",
    "| 1          | 1           | Tony          | 1020   |\n",
    "| 1          | 2           | Pronub        | 10863  |\n",
    "| 1          | 3           | Tyrrox        | 5508   |\n",
    "| 2          | 1           | Pam           | 300    |\n",
    "| 2          | 7           | Bassem        | 450    |\n",
    "| 2          | 9           | Hermione      | 700    |\n",
    "| 3          | 7           | Bocaben       | 76     |\n",
    "| 3          | 2           | Ognjen        | 1672   |\n",
    "| 3          | 13          | Nyancat       | 2508   |\n",
    "| 3          | 15          | Morninngcat   | 5911   |\n",
    "\n",
    "---\n",
    "\n",
    "**Explanation:**  \n",
    "For company 1, Max salary is 21300. Employees in company 1 have taxes = 49%  \n",
    "For company 2, Max salary is 700. Employees in company 2 have taxes = 0%  \n",
    "For company 3, Max salary is 7777. Employees in company 3 have taxes = 24%  \n",
    "The salary after taxes = salary - (taxes percentage / 100) * salary  \n",
    "For example, Salary for Morninngcat (3, 15) after taxes = 7777 - 7777 * (24 / 100) = 7777 - 1866.48 = 5910.52, which is rounded to 5911."
   ]
  },
  {
   "cell_type": "code",
   "execution_count": 0,
   "metadata": {
    "application/vnd.databricks.v1+cell": {
     "cellMetadata": {
      "byteLimit": 2048000,
      "rowLimit": 10000
     },
     "inputWidgets": {},
     "nuid": "1a2994b3-493b-4922-831a-d1f7233f5b52",
     "showTitle": false,
     "tableResultSettingsMap": {},
     "title": ""
    }
   },
   "outputs": [],
   "source": [
    "from pyspark.sql import SparkSession\n",
    "from pyspark.sql.types import StructType, StructField, IntegerType, StringType\n",
    "from pyspark.sql.functions import col, max as max_, when, round\n",
    "from pyspark.sql.window import Window\n",
    "\n",
    "# Start Spark session\n",
    "spark = SparkSession.builder.appName(\"TaxedSalaries\").getOrCreate()\n",
    "\n",
    "# Define schema\n",
    "schema = StructType([\n",
    "    StructField(\"company_id\", IntegerType(), True),\n",
    "    StructField(\"employee_id\", IntegerType(), True),\n",
    "    StructField(\"employee_name\", StringType(), True),\n",
    "    StructField(\"salary\", IntegerType(), True)\n",
    "])\n",
    "\n",
    "# Sample data\n",
    "data = [\n",
    "    (1, 1, \"Tony\", 2000),\n",
    "    (1, 2, \"Pronub\", 21300),\n",
    "    (1, 3, \"Tyrrox\", 10800),\n",
    "    (2, 1, \"Pam\", 300),\n",
    "    (2, 7, \"Bassem\", 450),\n",
    "    (2, 9, \"Hermione\", 700),\n",
    "    (3, 7, \"Bocaben\", 100),\n",
    "    (3, 2, \"Ognjen\", 2200),\n",
    "    (3, 13, \"Nyancat\", 3300),\n",
    "    (3, 15, \"Morninngcat\", 7777)\n",
    "]\n",
    "\n",
    "# Create DataFrame\n",
    "df = spark.createDataFrame(data, schema)\n",
    "\n",
    "#create tempview\n",
    "df.createOrReplaceTempView(\"Salaries\")   \n"
   ]
  },
  {
   "cell_type": "code",
   "execution_count": 0,
   "metadata": {
    "application/vnd.databricks.v1+cell": {
     "cellMetadata": {
      "byteLimit": 2048000,
      "implicitDf": true,
      "rowLimit": 10000
     },
     "inputWidgets": {},
     "nuid": "8fa65736-6434-4d69-94cf-8bc8583ef0dc",
     "showTitle": false,
     "tableResultSettingsMap": {},
     "title": ""
    }
   },
   "outputs": [],
   "source": [
    "%sql\n",
    "with cte as (\n",
    "  select max(salary)over(partition by company_id ) as max_sal , *  from Salaries\n",
    ")\n",
    "select \n",
    "company_id , employee_id ,employee_name ,\n",
    "case \n",
    "  when max_sal < 1000 then round(salary,0)\n",
    "  when max_sal between 1000 and 10000 then round( (salary - salary * 0.24),0)\n",
    "  when max_sal > 10000 then round((salary - salary * 0.47) ,0)\n",
    "  end as new_salary\n",
    "    from cte"
   ]
  },
  {
   "cell_type": "code",
   "execution_count": 0,
   "metadata": {
    "application/vnd.databricks.v1+cell": {
     "cellMetadata": {
      "byteLimit": 2048000,
      "rowLimit": 10000
     },
     "inputWidgets": {},
     "nuid": "1130fbca-6169-4ec7-88f4-1c048f4acccd",
     "showTitle": false,
     "tableResultSettingsMap": {
      "0": {
       "dataGridStateBlob": "{\"version\":1,\"tableState\":{\"columnPinning\":{\"left\":[\"#row_number#\"],\"right\":[]},\"columnSizing\":{},\"columnVisibility\":{}},\"settings\":{\"columns\":{}},\"syncTimestamp\":1758601924808}",
       "filterBlob": null,
       "queryPlanFiltersBlob": null,
       "tableResultIndex": 0
      }
     },
     "title": ""
    }
   },
   "outputs": [],
   "source": [
    "from pyspark.sql.functions import *\n",
    "from pyspark.sql.window import Window\n",
    "\n",
    "# win_spec\n",
    "win_spec = Window.partitionBy(col(\"company_id\"))\n",
    "max_win = max(col(\"salary\")).over(win_spec)\n",
    "max_df = (\n",
    "    df.withColumn(\"max_salary\", max_win)\n",
    "    .withColumnRenamed(\"salary\", \"salary_old\")\n",
    "    .withColumn(\n",
    "        \"new_tax\",\n",
    "        when(col(\"salary_old\") < 1000, col(\"salary_old\"))\n",
    "        .when(\n",
    "            ((col(\"salary_old\") >= 1000) & (col(\"salary_old\") <= 10000)),\n",
    "            col(\"salary_old\") - col(\"salary_old\") * 0.24,\n",
    "        )\n",
    "        .when(\n",
    "            (col(\"salary_old\") >= 1000), col(\"salary_old\") - col(\"salary_old\") * 0.49\n",
    "        ),\n",
    "    )\n",
    "    .withColumn(\"salary\", round(col(\"new_tax\"), 0))\n",
    "    .select(\"company_id\", \"employee_id\", \"employee_name\", \"salary\")\n",
    "    .display()\n",
    ")"
   ]
  },
  {
   "cell_type": "code",
   "execution_count": 0,
   "metadata": {
    "application/vnd.databricks.v1+cell": {
     "cellMetadata": {
      "byteLimit": 2048000,
      "rowLimit": 10000
     },
     "inputWidgets": {},
     "nuid": "f63e10e9-bdaf-4baf-8bcc-9ce478a7ce4a",
     "showTitle": false,
     "tableResultSettingsMap": {},
     "title": ""
    }
   },
   "outputs": [],
   "source": [
    "\n",
    "# Define window to get max salary per company\n",
    "win_spec = Window.partitionBy(\"company_id\")\n",
    "df_taxed = df.withColumn(\"max_salary\", max_(\"salary\").over(win_spec))\n",
    "\n",
    "# Determine tax rate\n",
    "df_taxed = df_taxed.withColumn(\"tax_rate\",\n",
    "    when(col(\"max_salary\") < 1000, 0)\n",
    "    .when((col(\"max_salary\") >= 1000) & (col(\"max_salary\") <= 10000), 0.24)\n",
    "    .otherwise(0.49)\n",
    ")\n",
    "\n",
    "# Apply tax and round salary\n",
    "df_result = df_taxed.withColumn(\"salary\",\n",
    "    round(col(\"salary\") * (1 - col(\"tax_rate\"))).cast(\"int\")\n",
    ").select(\"company_id\", \"employee_id\", \"employee_name\", \"salary\")\n",
    "\n",
    "# Display result\n",
    "display(df_result)"
   ]
  }
 ],
 "metadata": {
  "application/vnd.databricks.v1+notebook": {
   "computePreferences": null,
   "dashboards": [],
   "environmentMetadata": {
    "base_environment": "",
    "environment_version": "3"
   },
   "inputWidgetPreferences": null,
   "language": "python",
   "notebookMetadata": {
    "mostRecentlyExecutedCommandWithImplicitDF": {
     "commandId": 5762497092723479,
     "dataframes": [
      "_sqldf"
     ]
    },
    "pythonIndentUnit": 4
   },
   "notebookName": "1468_leetcode_medium",
   "widgets": {}
  },
  "language_info": {
   "name": "python"
  }
 },
 "nbformat": 4,
 "nbformat_minor": 0
}
