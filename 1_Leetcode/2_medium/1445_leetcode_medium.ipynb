{
 "cells": [
  {
   "cell_type": "markdown",
   "metadata": {
    "application/vnd.databricks.v1+cell": {
     "cellMetadata": {
      "byteLimit": 2048000,
      "rowLimit": 10000
     },
     "inputWidgets": {},
     "nuid": "df20917e-5763-4ea0-a0c6-9e508fc346db",
     "showTitle": false,
     "tableResultSettingsMap": {},
     "title": ""
    }
   },
   "source": [
    "## 1445. Apples & Oranges\n",
    "\n",
    "### Table: Sales\n",
    "\n",
    "| Column Name | Type |\n",
    "|-------------|------|\n",
    "| sale_date   | date |\n",
    "| fruit       | enum |\n",
    "| sold_num    | int  |\n",
    "\n",
    "(sale_date,fruit) is the primary key for this table.  \n",
    "This table contains the sales of \"apples\" and \"oranges\" sold each day.\n",
    "\n",
    "Write an SQL query to report the difference between number of apples and oranges sold each day.  \n",
    "SQL courses\n",
    "\n",
    "Return the result table ordered by sale_date in format ('YYYY-MM-DD').\n",
    "\n",
    "#### Sales table:\n",
    "\n",
    "| sale_date  | fruit   | sold_num |\n",
    "|------------|---------|----------|\n",
    "| 2020-05-01 | apples  | 10       |\n",
    "| 2020-05-01 | oranges | 8        |\n",
    "| 2020-05-02 | apples  | 15       |\n",
    "| 2020-05-02 | oranges | 15       |\n",
    "| 2020-05-03 | apples  | 20       |\n",
    "| 2020-05-03 | oranges | 0        |\n",
    "| 2020-05-04 | apples  | 15       |\n",
    "| 2020-05-04 | oranges | 16       |\n",
    "\n",
    "#### Result table:\n",
    "\n",
    "| sale_date  | diff |\n",
    "|------------|------|\n",
    "| 2020-05-01 | 2    |\n",
    "| 2020-05-02 | 0    |\n",
    "| 2020-05-03 | 20   |\n",
    "| 2020-05-04 | -1   |\n",
    "\n",
    "Day 2020-05-01, 10 apples and 8 oranges were sold (Difference 10 - 8 = 2).  \n",
    "Day 2020-05-02, 15 apples and 15 oranges were sold (Difference 15 - 15 = 0).  \n",
    "Day 2020-05-03, 20 apples and 0 oranges were sold (Difference 20 - 0 = 20).  \n",
    "Day 2020-05-04, 15 apples and 16 oranges were sold (Difference 15 - 16 = -1)."
   ]
  },
  {
   "cell_type": "code",
   "execution_count": 0,
   "metadata": {
    "application/vnd.databricks.v1+cell": {
     "cellMetadata": {
      "byteLimit": 2048000,
      "rowLimit": 10000
     },
     "inputWidgets": {},
     "nuid": "de3ceb90-c673-466d-8430-5ba5398d9a3c",
     "showTitle": false,
     "tableResultSettingsMap": {},
     "title": ""
    }
   },
   "outputs": [],
   "source": [
    "from pyspark.sql import SparkSession\n",
    "from pyspark.sql.types import StructType, StructField, StringType, DateType, IntegerType\n",
    "from pyspark.sql.functions import expr\n",
    "\n",
    "# Create Spark session\n",
    "spark = SparkSession.builder.appName(\"FruitSalesDiff\").getOrCreate()\n",
    "\n",
    "# Define schema\n",
    "schema = StructType([\n",
    "    StructField(\"sale_date\", DateType(), True),\n",
    "    StructField(\"fruit\", StringType(), True),\n",
    "    StructField(\"sold_num\", IntegerType(), True)\n",
    "])\n",
    "\n",
    "# Sample data\n",
    "from datetime import datetime\n",
    "\n",
    "# Sample data with proper date conversion\n",
    "data = [\n",
    "    (datetime.strptime(\"2020-05-01\", \"%Y-%m-%d\").date(), \"apples\", 10),\n",
    "    (datetime.strptime(\"2020-05-01\", \"%Y-%m-%d\").date(), \"oranges\", 8),\n",
    "    (datetime.strptime(\"2020-05-02\", \"%Y-%m-%d\").date(), \"apples\", 15),\n",
    "    (datetime.strptime(\"2020-05-02\", \"%Y-%m-%d\").date(), \"oranges\", 15),\n",
    "    (datetime.strptime(\"2020-05-03\", \"%Y-%m-%d\").date(), \"apples\", 20),\n",
    "    (datetime.strptime(\"2020-05-03\", \"%Y-%m-%d\").date(), \"oranges\", 0),\n",
    "    (datetime.strptime(\"2020-05-04\", \"%Y-%m-%d\").date(), \"apples\", 15),\n",
    "    (datetime.strptime(\"2020-05-04\", \"%Y-%m-%d\").date(), \"oranges\", 16)\n",
    "]\n",
    "\n",
    "# Create DataFrame\n",
    "df = spark.createDataFrame(data, schema)\n",
    "\n",
    "# Register temp view\n",
    "df.createOrReplaceTempView(\"Sales\")\n",
    "\n"
   ]
  },
  {
   "cell_type": "code",
   "execution_count": 0,
   "metadata": {
    "application/vnd.databricks.v1+cell": {
     "cellMetadata": {
      "byteLimit": 2048000,
      "rowLimit": 10000
     },
     "inputWidgets": {},
     "nuid": "4f5031fa-831d-4666-a59f-d9f0cc618d18",
     "showTitle": false,
     "tableResultSettingsMap": {
      "0": {
       "dataGridStateBlob": "{\"version\":1,\"tableState\":{\"columnPinning\":{\"left\":[\"#row_number#\"],\"right\":[]},\"columnSizing\":{},\"columnVisibility\":{}},\"settings\":{\"columns\":{}},\"syncTimestamp\":1758440709131}",
       "filterBlob": null,
       "queryPlanFiltersBlob": null,
       "tableResultIndex": 0
      }
     },
     "title": ""
    }
   },
   "outputs": [],
   "source": [
    "from pyspark.sql.functions import *\n",
    "apple = df.filter(col(\"fruit\")==\"apples\").selectExpr(\"sale_date as a_sd\",\"fruit as apple\", \"sold_num as a_sn\")\n",
    "oranges = df.filter(col(\"fruit\")==\"oranges\").selectExpr(\"sale_date as o_sd\",\"fruit as oranges\", \"sold_num as o_sn\")\n",
    "apple.join(oranges,(col(\"a_sd\")== col(\"o_sd\"))&(col(\"apple\")!=col(\"oranges\")),\"full_outer\")\\\n",
    "    .withColumn(\"diff\", col(\"a_sn\")-col(\"o_sn\"))\\\n",
    "    .selectExpr(\"coalesce(a_sd , o_sd) as sale_date\",\"diff\")\\\n",
    "        .display()\n",
    "        "
   ]
  },
  {
   "cell_type": "code",
   "execution_count": 0,
   "metadata": {
    "application/vnd.databricks.v1+cell": {
     "cellMetadata": {
      "byteLimit": 2048000,
      "implicitDf": true,
      "rowLimit": 10000
     },
     "inputWidgets": {},
     "nuid": "cc2fbb3f-d7f4-4195-bc3b-c0cc45140aa9",
     "showTitle": false,
     "tableResultSettingsMap": {},
     "title": ""
    }
   },
   "outputs": [],
   "source": [
    "%sql\n",
    "\n",
    "Select coalesce(a.sale_date , o.sale_date ) as sale_date, (a.sold_num - o.sold_num) as diff  from Sales a full outer join Sales o on a.sale_date = o.sale_date\n",
    "where a.fruit = 'apples' and o.fruit = 'oranges'\n",
    " "
   ]
  },
  {
   "cell_type": "code",
   "execution_count": 0,
   "metadata": {
    "application/vnd.databricks.v1+cell": {
     "cellMetadata": {
      "byteLimit": 2048000,
      "rowLimit": 10000
     },
     "inputWidgets": {},
     "nuid": "ebac59c6-d2c5-4c2e-b019-6cd6ce107a9a",
     "showTitle": false,
     "tableResultSettingsMap": {},
     "title": ""
    }
   },
   "outputs": [],
   "source": [
    "# SQL logic\n",
    "query = \"\"\"\n",
    "SELECT\n",
    "  sale_date,\n",
    "  MAX(CASE WHEN fruit = 'apples' THEN sold_num ELSE 0 END) -\n",
    "  MAX(CASE WHEN fruit = 'oranges' THEN sold_num ELSE 0 END) AS diff\n",
    "FROM Sales\n",
    "GROUP BY sale_date\n",
    "ORDER BY sale_date\n",
    "\"\"\"\n",
    "\n",
    "# Execute and display\n",
    "result = spark.sql(query)\n",
    "display(result)"
   ]
  }
 ],
 "metadata": {
  "application/vnd.databricks.v1+notebook": {
   "computePreferences": null,
   "dashboards": [],
   "environmentMetadata": {
    "base_environment": "",
    "environment_version": "3"
   },
   "inputWidgetPreferences": null,
   "language": "python",
   "notebookMetadata": {
    "mostRecentlyExecutedCommandWithImplicitDF": {
     "commandId": 7410925280062789,
     "dataframes": [
      "_sqldf"
     ]
    },
    "pythonIndentUnit": 4
   },
   "notebookName": "1445_leetcode_medium",
   "widgets": {}
  },
  "language_info": {
   "name": "python"
  }
 },
 "nbformat": 4,
 "nbformat_minor": 0
}
