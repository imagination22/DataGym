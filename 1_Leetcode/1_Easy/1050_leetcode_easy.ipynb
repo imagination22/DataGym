{
 "cells": [
  {
   "cell_type": "markdown",
   "metadata": {
    "application/vnd.databricks.v1+cell": {
     "cellMetadata": {},
     "inputWidgets": {},
     "nuid": "9a753868-df71-4e78-8f77-2b6a65e49669",
     "showTitle": false,
     "tableResultSettingsMap": {},
     "title": ""
    }
   },
   "source": [
    "## 1050. Actors and Directors Who Cooperated At Least Three Times\n",
    "### Table: ActorDirector\n",
    "\n",
    "| Column Name | Type |\n",
    "|-------------|------|\n",
    "| actor_id    | int  |\n",
    "| director_id | int  |\n",
    "| timestamp   | int  |\n",
    "\n",
    "**Primary Key**: `timestamp` — each row represents a unique cooperation event between an actor and a director.\n",
    "\n",
    "**Description**:\n",
    "Each row in the `ActorDirector` table records a collaboration between an actor and a director at a specific timestamp.\n",
    "\n",
    "---\n",
    "\n",
    "### 🧠 Business Logic:\n",
    "Find all `(actor_id, director_id)` pairs where the actor has cooperated with the director **at least three times**.\n",
    "\n",
    "---\n",
    "\n",
    "### ✅ Expected Output Format:\n",
    "\n",
    "#### Input:\n",
    "| actor_id | director_id | timestamp |\n",
    "|----------|-------------|-----------|\n",
    "| 1        | 1           | 0         |\n",
    "| 1        | 1           | 1         |\n",
    "| 1        | 1           | 2         |\n",
    "| 1        | 2           | 3         |\n",
    "| 1        | 2           | 4         |\n",
    "| 2        | 1           | 5         |\n",
    "| 2        | 1           | 6         |\n",
    "\n",
    "#### Output:\n",
    "| actor_id | director_id |\n",
    "|----------|-------------|\n",
    "| 1        | 1           |\n",
    "\n",
    "**Explanation**:  \n",
    "Only the pair `(1, 1)` has collaborated **three times**. All other pairs have fewer than three collaborations."
   ]
  },
  {
   "cell_type": "code",
   "execution_count": 0,
   "metadata": {
    "application/vnd.databricks.v1+cell": {
     "cellMetadata": {
      "byteLimit": 2048000,
      "rowLimit": 10000
     },
     "inputWidgets": {},
     "nuid": "0e84c135-5f90-417d-a356-20c666fdf0b6",
     "showTitle": false,
     "tableResultSettingsMap": {},
     "title": ""
    }
   },
   "outputs": [],
   "source": [
    "from pyspark.sql import SparkSession\n",
    "from pyspark.sql.types import StructType, StructField, IntegerType\n",
    "\n",
    "# Sample data\n",
    "data = [\n",
    "    (1, 1, 0),\n",
    "    (1, 1, 1),\n",
    "    (1, 1, 2),\n",
    "    (1, 2, 3),\n",
    "    (1, 2, 4),\n",
    "    (2, 1, 5),\n",
    "    (2, 1, 6)\n",
    "]\n",
    "\n",
    "# Define schema\n",
    "schema = StructType([\n",
    "    StructField(\"actor_id\", IntegerType(), False),\n",
    "    StructField(\"director_id\", IntegerType(), False),\n",
    "    StructField(\"timestamp\", IntegerType(), False)\n",
    "])\n",
    "\n",
    "# Create DataFrame\n",
    "df = spark.createDataFrame(data, schema)\n",
    "\n",
    "# Register Temp View\n",
    "df.createOrReplaceTempView(\"ActorDirector\")\n",
    "\n",
    "# SQL logic to find pairs with at least 3 collaborations\n",
    "result = spark.sql(\"\"\"\n",
    "    SELECT actor_id, director_id\n",
    "    FROM ActorDirector\n",
    "    GROUP BY actor_id, director_id\n",
    "    HAVING COUNT(*) >= 3\n",
    "\"\"\")\n",
    "\n",
    "# Display result\n",
    "display(result)"
   ]
  },
  {
   "cell_type": "code",
   "execution_count": 0,
   "metadata": {
    "application/vnd.databricks.v1+cell": {
     "cellMetadata": {
      "byteLimit": 2048000,
      "implicitDf": true,
      "rowLimit": 10000
     },
     "inputWidgets": {},
     "nuid": "18465ad1-3c40-431b-9a54-500f32552487",
     "showTitle": false,
     "tableResultSettingsMap": {},
     "title": ""
    }
   },
   "outputs": [],
   "source": [
    "%sql\n",
    "with cte as (\n",
    "Select actor_id , director_id , COUNT(*) AS COLLAB from ActorDirector GROUP BY  actor_id , director_id \n",
    ")\n",
    "select actor_id , director_id  from cte WHERE COLLAB >=3"
   ]
  },
  {
   "cell_type": "code",
   "execution_count": 0,
   "metadata": {
    "application/vnd.databricks.v1+cell": {
     "cellMetadata": {
      "byteLimit": 2048000,
      "implicitDf": true,
      "rowLimit": 10000
     },
     "inputWidgets": {},
     "nuid": "9281851a-e1e5-4995-9471-db372077d4b9",
     "showTitle": false,
     "tableResultSettingsMap": {},
     "title": ""
    }
   },
   "outputs": [],
   "source": [
    "%sql\n",
    "Select actor_id , director_id AS COLLAB from ActorDirector GROUP BY  actor_id , director_id HAVING COUNT(*) >= 3\n"
   ]
  },
  {
   "cell_type": "code",
   "execution_count": 0,
   "metadata": {
    "application/vnd.databricks.v1+cell": {
     "cellMetadata": {
      "byteLimit": 2048000,
      "rowLimit": 10000
     },
     "inputWidgets": {},
     "nuid": "42734772-6d36-46e8-9a63-ad1f08967bab",
     "showTitle": false,
     "tableResultSettingsMap": {
      "0": {
       "dataGridStateBlob": "{\"version\":1,\"tableState\":{\"columnPinning\":{\"left\":[\"#row_number#\"],\"right\":[]},\"columnSizing\":{},\"columnVisibility\":{}},\"settings\":{\"columns\":{}},\"syncTimestamp\":1758368225350}",
       "filterBlob": null,
       "queryPlanFiltersBlob": null,
       "tableResultIndex": 0
      }
     },
     "title": ""
    }
   },
   "outputs": [],
   "source": [
    "from pyspark.sql.functions import *\n",
    "\n",
    "df.groupBy(col(\"actor_id\"),col(\"director_id\")).agg(count(\"*\").alias(\"Collab\"))\\\n",
    "    .filter(col(\"collab\")>=3)\\\n",
    "    .select(\"actor_id\",\"director_id\" )\\\n",
    "    .display()\n"
   ]
  },
  {
   "cell_type": "code",
   "execution_count": 0,
   "metadata": {
    "application/vnd.databricks.v1+cell": {
     "cellMetadata": {},
     "inputWidgets": {},
     "nuid": "78efc3e5-0023-4d3e-9ac2-b8bc82628daf",
     "showTitle": false,
     "tableResultSettingsMap": {},
     "title": ""
    }
   },
   "outputs": [],
   "source": []
  }
 ],
 "metadata": {
  "application/vnd.databricks.v1+notebook": {
   "computePreferences": null,
   "dashboards": [],
   "environmentMetadata": {
    "base_environment": "",
    "environment_version": "3"
   },
   "inputWidgetPreferences": null,
   "language": "python",
   "notebookMetadata": {
    "mostRecentlyExecutedCommandWithImplicitDF": {
     "commandId": 6335100106985711,
     "dataframes": [
      "_sqldf"
     ]
    },
    "pythonIndentUnit": 4
   },
   "notebookName": "1050_leetcode_easy",
   "widgets": {}
  },
  "language_info": {
   "name": "python"
  }
 },
 "nbformat": 4,
 "nbformat_minor": 0
}
