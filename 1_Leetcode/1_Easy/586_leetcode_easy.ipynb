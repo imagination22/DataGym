{
 "cells": [
  {
   "cell_type": "markdown",
   "metadata": {
    "application/vnd.databricks.v1+cell": {
     "cellMetadata": {},
     "inputWidgets": {},
     "nuid": "598d314e-131d-459e-8d5e-4482c2c2c49d",
     "showTitle": false,
     "tableResultSettingsMap": {},
     "title": ""
    }
   },
   "source": [
    "# 🧠 Leetcode 607 — Customer With Most Orders (Databricks Edition)\n",
    "\n",
    "---\n",
    "\n",
    "## 📘 Problem Statement\n",
    "\n",
    "### Table: Orders\n",
    "\n",
    "| Column Name     | Type |\n",
    "|-----------------|------|\n",
    "| order_number    | int  |\n",
    "| customer_number | int  |\n",
    "\n",
    "- `order_number` is the primary key.\n",
    "- This table contains information about the order ID and the customer ID.\n",
    "\n",
    "---\n",
    "\n",
    "## 🎯 Objective\n",
    "\n",
    "Write a query to find the `customer_number` for the customer who has placed the **largest number of orders**.\n",
    "\n",
    "- The test cases are generated so that **exactly one customer** will have placed more orders than any other customer.\n",
    "\n",
    "---\n",
    "\n",
    "## 🧾 Example\n",
    "\n",
    "### Input\n",
    "\n",
    "**Orders Table**\n",
    "\n",
    "| order_number | customer_number |\n",
    "|--------------|-----------------|\n",
    "| 1            | 1               |\n",
    "| 2            | 2               |\n",
    "| 3            | 3               |\n",
    "| 4            | 3               |\n",
    "\n",
    "### Output\n",
    "\n",
    "| customer_number |\n",
    "|-----------------|\n",
    "| 3               |\n",
    "\n",
    "### Explanation\n",
    "\n",
    "- Customer 3 has placed 2 orders.\n",
    "- Customers 1 and 2 have placed only 1 order each.\n",
    "- So the result is `customer_number = 3`.\n",
    "\n",
    "---\n",
    "\n",
    "## 🧩 Follow-Up\n",
    "\n",
    "If **more than one customer** has the largest number of orders, return **all such customer_number(s)**.\n",
    "\n",
    "---\n",
    "\n",
    "## 🧱 PySpark DataFrame Creation\n",
    "\n",
    "```python\n",
    "from pyspark.sql import Row\n",
    "\n",
    "# Sample data\n",
    "orders_data = [\n",
    "    Row(order_number=1, customer_number=1),\n",
    "    Row(order_number=2, customer_number=2),\n",
    "    Row(order_number=3, customer_number=3),\n",
    "    Row(order_number=4, customer_number=3)\n",
    "]\n",
    "\n",
    "# Create DataFrame\n",
    "orders_df = spark.createDataFrame(orders_data)\n",
    "\n",
    "# Register temp view\n",
    "orders_df.createOrReplaceTempView(\"Orders\")\n",
    "```\n",
    "\n",
    "---\n",
    "\n",
    "## ✅ SQL Solution\n",
    "\n",
    "```sql\n",
    "SELECT customer_number\n",
    "FROM Orders\n",
    "GROUP BY customer_number\n",
    "ORDER BY COUNT(*) DESC\n",
    "LIMIT 1;\n",
    "```\n",
    "\n",
    "---\n",
    "\n",
    "## 🧪 PySpark Solution\n",
    "\n",
    "```python\n",
    "from pyspark.sql.functions import count\n",
    "\n",
    "# Group by customer_number and count orders\n",
    "order_counts = orders_df.groupBy(\"customer_number\") \\\n",
    "                        .agg(count(\"*\").alias(\"order_count\"))\n",
    "\n",
    "# Find max order count\n",
    "max_count = order_counts.agg({\"order_count\": \"max\"}).collect()[0][0]\n",
    "\n",
    "# Filter customers with max order count\n",
    "result_df = order_counts.filter(order_counts[\"order_count\"] == max_count) \\\n",
    "                        .select(\"customer_number\")\n",
    "\n",
    "result_df.show()\n",
    "```\n",
    "\n",
    "---\n",
    "\n",
    "📘 *This notebook is part of DataGym’s SQL-to-PySpark transition series. Want to build a reusable template for ranking, aggregation, or customer analytics? Let’s co-create it!*\n"
   ]
  },
  {
   "cell_type": "code",
   "execution_count": 0,
   "metadata": {
    "application/vnd.databricks.v1+cell": {
     "cellMetadata": {
      "byteLimit": 2048000,
      "rowLimit": 10000
     },
     "inputWidgets": {},
     "nuid": "6d018614-2781-4ba8-a19e-006f28fd5fde",
     "showTitle": false,
     "tableResultSettingsMap": {},
     "title": ""
    }
   },
   "outputs": [],
   "source": [
    "from pyspark.sql import SparkSession\n",
    "from pyspark.sql.types import StructType, StructField, IntegerType\n",
    "from pyspark.sql.functions import col, count, row_number, rank\n",
    "from pyspark.sql.window import Window\n",
    "\n",
    "# 1️⃣ Sample Data\n",
    "orders_data = [\n",
    "    (1, 1),\n",
    "    (2, 2),\n",
    "    (3, 3),\n",
    "    (4, 3)\n",
    "]\n",
    "\n",
    "# 2️⃣ Schema Definition\n",
    "orders_schema = StructType([\n",
    "    StructField(\"order_number\", IntegerType(), True),\n",
    "    StructField(\"customer_number\", IntegerType(), True)\n",
    "])\n",
    "\n",
    "# 3️⃣ Create DataFrame\n",
    "orders_df = spark.createDataFrame(orders_data, schema=orders_schema)\n",
    "\n",
    "# 4️⃣ Register Temp View\n",
    "orders_df.createOrReplaceTempView(\"Orders\")"
   ]
  },
  {
   "cell_type": "code",
   "execution_count": 0,
   "metadata": {
    "application/vnd.databricks.v1+cell": {
     "cellMetadata": {},
     "inputWidgets": {},
     "nuid": "3490fd8d-520c-4c5c-9cbb-bd4cfcb9df28",
     "showTitle": false,
     "tableResultSettingsMap": {},
     "title": ""
    }
   },
   "outputs": [],
   "source": [
    "orders_df.groupBy()"
   ]
  },
  {
   "cell_type": "code",
   "execution_count": 0,
   "metadata": {
    "application/vnd.databricks.v1+cell": {
     "cellMetadata": {
      "byteLimit": 2048000,
      "rowLimit": 10000
     },
     "inputWidgets": {},
     "nuid": "57290e40-b540-430a-8d4f-500846926042",
     "showTitle": false,
     "tableResultSettingsMap": {},
     "title": ""
    }
   },
   "outputs": [],
   "source": [
    "result = spark.sql(\"\"\"\n",
    "    SELECT customer_number\n",
    "    FROM Orders\n",
    "    GROUP BY customer_number\n",
    "    ORDER BY COUNT(*) DESC\n",
    "    LIMIT 1\n",
    "\"\"\")\n",
    "\n",
    "result.show()"
   ]
  }
 ],
 "metadata": {
  "application/vnd.databricks.v1+notebook": {
   "computePreferences": null,
   "dashboards": [],
   "environmentMetadata": {
    "base_environment": "",
    "environment_version": "3"
   },
   "inputWidgetPreferences": null,
   "language": "python",
   "notebookMetadata": {
    "pythonIndentUnit": 4
   },
   "notebookName": "586_leetcode_easy",
   "widgets": {}
  },
  "language_info": {
   "name": "python"
  }
 },
 "nbformat": 4,
 "nbformat_minor": 0
}
