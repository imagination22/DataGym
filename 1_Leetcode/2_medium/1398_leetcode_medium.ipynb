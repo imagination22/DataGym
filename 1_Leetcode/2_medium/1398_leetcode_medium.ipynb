{
 "cells": [
  {
   "cell_type": "markdown",
   "metadata": {
    "application/vnd.databricks.v1+cell": {
     "cellMetadata": {},
     "inputWidgets": {},
     "nuid": "6fcfc12e-c287-4e58-a576-797ff5f2a68f",
     "showTitle": false,
     "tableResultSettingsMap": {},
     "title": ""
    }
   },
   "source": [
    "1398. Customers Who Bought Products A and B but Not C\n",
    "### Table: Customers\n",
    "\n",
    "| Column Name   | Type    |\n",
    "|---------------|---------|\n",
    "| customer_id   | int     |\n",
    "| customer_name | varchar |\n",
    "\n",
    "customer_id is the primary key for this table.  \n",
    "customer_name is the name of the customer.\n",
    "\n",
    "---\n",
    "\n",
    "### Table: Orders\n",
    "\n",
    "| Column Name   | Type    |\n",
    "|---------------|---------|\n",
    "| order_id      | int     |\n",
    "| customer_id   | int     |\n",
    "| product_name  | varchar |\n",
    "\n",
    "order_id is the primary key for this table.  \n",
    "customer_id is the id of the customer who bought the product \"product_name\".\n",
    "\n",
    "---\n",
    "\n",
    "Write an SQL query to report the customer_id and customer_name of customers who bought products \"A\", \"B\" but did not buy the product \"C\" since we want to recommend them buy this product.\n",
    "\n",
    "Return the result table ordered by customer_id.\n",
    "\n",
    "---\n",
    "\n",
    "### Customers table:\n",
    "\n",
    "| customer_id | customer_name |\n",
    "|-------------|----------------|\n",
    "| 1           | Daniel         |\n",
    "| 2           | Diana          |\n",
    "| 3           | Elizabeth      |\n",
    "| 4           | Jhon           |\n",
    "\n",
    "---\n",
    "\n",
    "### Orders table:\n",
    "\n",
    "| order_id | customer_id | product_name |\n",
    "|----------|-------------|--------------|\n",
    "| 10       | 1           | A            |\n",
    "| 20       | 1           | B            |\n",
    "| 30       | 1           | D            |\n",
    "| 40       | 1           | C            |\n",
    "| 50       | 2           | A            |\n",
    "| 60       | 3           | A            |\n",
    "| 70       | 3           | B            |\n",
    "| 80       | 3           | D            |\n",
    "| 90       | 4           | C            |\n",
    "\n",
    "---\n",
    "\n",
    "### Result table:\n",
    "\n",
    "| customer_id | customer_name |\n",
    "|-------------|----------------|\n",
    "| 3           | Elizabeth      |\n",
    "\n",
    "---\n",
    "\n",
    "**Explanation:**  \n",
    "Only the customer_id with id 3 bought the product A and B but not the product C."
   ]
  },
  {
   "cell_type": "code",
   "execution_count": 0,
   "metadata": {
    "application/vnd.databricks.v1+cell": {
     "cellMetadata": {
      "byteLimit": 2048000,
      "rowLimit": 10000
     },
     "inputWidgets": {},
     "nuid": "ffb715b3-c53f-45f9-938d-45c715ccaeb2",
     "showTitle": false,
     "tableResultSettingsMap": {},
     "title": ""
    }
   },
   "outputs": [],
   "source": [
    "from pyspark.sql import SparkSession\n",
    "from pyspark.sql.types import StructType, StructField, IntegerType, StringType\n",
    "from pyspark.sql.functions import col, collect_set, array_contains\n",
    "\n",
    "# Start Spark session\n",
    "spark = SparkSession.builder.appName(\"ProductRecommendation\").getOrCreate()\n",
    "\n",
    "# Define schemas\n",
    "customers_schema = StructType([\n",
    "    StructField(\"customer_id\", IntegerType(), True),\n",
    "    StructField(\"customer_name\", StringType(), True)\n",
    "])\n",
    "\n",
    "orders_schema = StructType([\n",
    "    StructField(\"order_id\", IntegerType(), True),\n",
    "    StructField(\"customer_id\", IntegerType(), True),\n",
    "    StructField(\"product_name\", StringType(), True)\n",
    "])\n",
    "\n",
    "# Sample data\n",
    "customers_data = [\n",
    "    (1, \"Daniel\"),\n",
    "    (2, \"Diana\"),\n",
    "    (3, \"Elizabeth\"),\n",
    "    (4, \"Jhon\")\n",
    "]\n",
    "\n",
    "orders_data = [\n",
    "    (10, 1, \"A\"),\n",
    "    (20, 1, \"B\"),\n",
    "    (30, 1, \"D\"),\n",
    "    (40, 1, \"C\"),\n",
    "    (50, 2, \"A\"),\n",
    "    (60, 3, \"A\"),\n",
    "    (70, 3, \"B\"),\n",
    "    (80, 3, \"D\"),\n",
    "    (90, 4, \"C\")\n",
    "]\n",
    "\n",
    "# Create DataFrames\n",
    "customers_df = spark.createDataFrame(customers_data, customers_schema)\n",
    "orders_df = spark.createDataFrame(orders_data, orders_schema)\n",
    "\n",
    "\n",
    "#create tempview\n",
    "customers_df.createOrReplaceTempView(\"customers\")\n",
    "orders_df.createOrReplaceTempView(\"orders\")"
   ]
  },
  {
   "cell_type": "code",
   "execution_count": 0,
   "metadata": {
    "application/vnd.databricks.v1+cell": {
     "cellMetadata": {
      "byteLimit": 2048000,
      "implicitDf": true,
      "rowLimit": 10000
     },
     "inputWidgets": {},
     "nuid": "64d8e4c3-4a1b-4c00-b283-975bb589621a",
     "showTitle": false,
     "tableResultSettingsMap": {},
     "title": ""
    }
   },
   "outputs": [],
   "source": [
    "%sql\n",
    "\n",
    "Select distinct o.customer_id , customer_name   from orders o inner join customers on o.customer_id=customers.customer_id\n",
    "where \n",
    "o.customer_id in (Select distinct customer_id from orders where product_name='A' ) \n",
    "and \n",
    "o.customer_id in (Select distinct customer_id from orders where product_name='B' ) \n",
    "and \n",
    "o.customer_id not in (Select distinct customer_id from orders where product_name='C' ) \n",
    "\n"
   ]
  },
  {
   "cell_type": "code",
   "execution_count": 0,
   "metadata": {
    "application/vnd.databricks.v1+cell": {
     "cellMetadata": {
      "byteLimit": 2048000,
      "rowLimit": 10000
     },
     "inputWidgets": {},
     "nuid": "641cbd9b-4d3e-4d42-ab5b-8b10c0b665a4",
     "showTitle": false,
     "tableResultSettingsMap": {},
     "title": ""
    }
   },
   "outputs": [],
   "source": [
    "from pyspark.sql.functions import *\n",
    "from pyspark.sql.window import Window\n",
    "df_a = orders_df.filter(col(\"product_name\")== \"A\").selectExpr(\"customer_id as cust_a_id\")\n",
    "df_b = orders_df.filter(col(\"product_name\")== \"B\").selectExpr(\"customer_id as cust_b_id\")\n",
    "df_c = orders_df.filter(col(\"product_name\")== \"C\").selectExpr(\"customer_id as cust_c_id\")\n",
    "\n",
    "df_interim = df_a.join(df_b, col(\"cust_a_id\")==col(\"cust_b_id\"),\"inner\").selectExpr(\"cust_a_id as cust_id\")\n",
    "df_filtered =df_interim.join(df_c , col(\"cust_id\")==col(\"cust_c_id\"),\"leftanti\").selectExpr(\"cust_id as f_cust_id\")\n",
    "df_filtered.join(customers_df , col(\"f_cust_id\")==col(\"customer_id\"),\"inner\").select(\"customer_id\",\"customer_name\").display()"
   ]
  },
  {
   "cell_type": "code",
   "execution_count": 0,
   "metadata": {
    "application/vnd.databricks.v1+cell": {
     "cellMetadata": {},
     "inputWidgets": {},
     "nuid": "326da234-3973-484b-a895-9be587f6f810",
     "showTitle": false,
     "tableResultSettingsMap": {},
     "title": ""
    }
   },
   "outputs": [],
   "source": [
    "\n",
    "# Aggregate products per customer\n",
    "from pyspark.sql.functions import collect_set\n",
    "product_df = orders_df.groupBy(\"customer_id\") \\\n",
    "    .agg(collect_set(\"product_name\").alias(\"products\"))\n",
    "\n",
    "# Filter customers who bought A and B but not C\n",
    "filtered_df = product_df.filter(\n",
    "    array_contains(col(\"products\"), \"A\") &\n",
    "    array_contains(col(\"products\"), \"B\") &\n",
    "    ~array_contains(col(\"products\"), \"C\")\n",
    ")\n",
    "\n",
    "# Join with customer names\n",
    "result_df = filtered_df.join(customers_df, on=\"customer_id\") \\\n",
    "    .select(\"customer_id\", \"customer_name\") \\\n",
    "    .orderBy(\"customer_id\")\n",
    "\n",
    "# Display result\n",
    "display(result_df)"
   ]
  }
 ],
 "metadata": {
  "application/vnd.databricks.v1+notebook": {
   "computePreferences": null,
   "dashboards": [],
   "environmentMetadata": {
    "base_environment": "",
    "environment_version": "3"
   },
   "inputWidgetPreferences": null,
   "language": "python",
   "notebookMetadata": {
    "mostRecentlyExecutedCommandWithImplicitDF": {
     "commandId": 8420998414718304,
     "dataframes": [
      "_sqldf"
     ]
    },
    "pythonIndentUnit": 4
   },
   "notebookName": "1398_leetcode_medium",
   "widgets": {}
  },
  "language_info": {
   "name": "python"
  }
 },
 "nbformat": 4,
 "nbformat_minor": 0
}
