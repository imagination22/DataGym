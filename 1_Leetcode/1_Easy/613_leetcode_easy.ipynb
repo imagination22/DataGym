{
 "cells": [
  {
   "cell_type": "markdown",
   "metadata": {
    "application/vnd.databricks.v1+cell": {
     "cellMetadata": {
      "byteLimit": 2048000,
      "rowLimit": 10000
     },
     "inputWidgets": {},
     "nuid": "c96b04b6-9b41-45fd-8d8b-b12c7b8ebc45",
     "showTitle": false,
     "tableResultSettingsMap": {},
     "title": ""
    }
   },
   "source": [
    "#613 shortest distance in line\n",
    "### Table: point\n",
    "\n",
    "| Column Name | Type |\n",
    "|-------------|------|\n",
    "| x           | int  |\n",
    "\n",
    "**Primary Key**: x — each row represents a unique x-coordinate on the x-axis.\n",
    "\n",
    "**Description**:\n",
    "The table `point` holds the x-coordinate of some points on the x-axis in a plane. All values are integers and unique.\n",
    "\n",
    "---\n",
    "\n",
    "### 🧠 Business Logic:\n",
    "Write a query to find the **shortest distance** between any two points.\n",
    "\n",
    "---\n",
    "\n",
    "### ✅ Expected Output Format:\n",
    "\n",
    "#### Input:\n",
    "| x   |\n",
    "|-----|\n",
    "| -1  |\n",
    "| 0   |\n",
    "| 2   |\n",
    "\n",
    "#### Output:\n",
    "| shortest |\n",
    "|----------|\n",
    "| 1        |\n",
    "\n",
    "**Explanation**:\n",
    "- The shortest distance is `1`, between points `-1` and `0`.\n",
    "\n",
    "---\n",
    "\n",
    "**Note**: Every point is unique, so there are no duplicates.\n",
    "\n",
    "**Follow-up**: What if all these points have an `id` and are arranged from the leftmost to the rightmost of the x-axis?"
   ]
  },
  {
   "cell_type": "code",
   "execution_count": 0,
   "metadata": {
    "application/vnd.databricks.v1+cell": {
     "cellMetadata": {
      "byteLimit": 2048000,
      "rowLimit": 10000
     },
     "inputWidgets": {},
     "nuid": "46cc771d-e12d-4ef6-b03a-f18aae233b33",
     "showTitle": false,
     "tableResultSettingsMap": {},
     "title": ""
    }
   },
   "outputs": [],
   "source": [
    "from pyspark.sql import SparkSession\n",
    "from pyspark.sql.types import StructType, StructField, IntegerType\n",
    "from pyspark.sql.functions import col, lead, abs, min\n",
    "from pyspark.sql.window import Window\n",
    "\n",
    "# Sample data\n",
    "data = [(-1,), (0,), (2,)]\n",
    "\n",
    "# Define schema\n",
    "schema = StructType([\n",
    "    StructField(\"x\", IntegerType(), False)\n",
    "])\n",
    "\n",
    "# Create DataFrame\n",
    "df = spark.createDataFrame(data, schema)\n",
    "\n",
    "# Register Temp View\n",
    "df.createOrReplaceTempView(\"point\")\n",
    "\n",
    "# SQL logic using window function to compute pairwise distances\n",
    "windowSpec = Window.orderBy(\"x\")\n",
    "df_with_next = df.withColumn(\"next_x\", lead(\"x\").over(windowSpec))\n",
    "df_with_dist = df_with_next.withColumn(\"distance\", abs(col(\"x\") - col(\"next_x\")))\n",
    "shortest = df_with_dist.select(min(\"distance\").alias(\"shortest\")).filter(col(\"shortest\").isNotNull())\n",
    "\n",
    "# Display result\n",
    "display(shortest)"
   ]
  },
  {
   "cell_type": "code",
   "execution_count": 0,
   "metadata": {
    "application/vnd.databricks.v1+cell": {
     "cellMetadata": {
      "byteLimit": 2048000,
      "rowLimit": 10000
     },
     "inputWidgets": {},
     "nuid": "5a668342-f612-49a5-884b-e8eda27ea641",
     "showTitle": false,
     "tableResultSettingsMap": {},
     "title": ""
    }
   },
   "outputs": [],
   "source": [
    "df_2 =df.selectExpr(\"x as y\")\n",
    "result_df = df.join(df_2, col(\"x\")!=col(\"y\"),\"inner\").withColumn(\"shortest\",abs(col(\"x\")-col(\"y\")))\\\n",
    "    .select(min(\"shortest\").alias(\"shortest\")).display()\n"
   ]
  },
  {
   "cell_type": "code",
   "execution_count": 0,
   "metadata": {
    "application/vnd.databricks.v1+cell": {
     "cellMetadata": {},
     "inputWidgets": {},
     "nuid": "89ec0826-df6a-4977-a4bf-ca7c660029cb",
     "showTitle": false,
     "tableResultSettingsMap": {},
     "title": ""
    }
   },
   "outputs": [],
   "source": []
  }
 ],
 "metadata": {
  "application/vnd.databricks.v1+notebook": {
   "computePreferences": null,
   "dashboards": [],
   "environmentMetadata": {
    "base_environment": "",
    "environment_version": "3"
   },
   "inputWidgetPreferences": null,
   "language": "python",
   "notebookMetadata": {
    "pythonIndentUnit": 4
   },
   "notebookName": "613_leetcode_easy",
   "widgets": {}
  },
  "language_info": {
   "name": "python"
  }
 },
 "nbformat": 4,
 "nbformat_minor": 0
}
