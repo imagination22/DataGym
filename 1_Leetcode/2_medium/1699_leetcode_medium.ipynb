{
 "cells": [
  {
   "cell_type": "markdown",
   "metadata": {
    "application/vnd.databricks.v1+cell": {
     "cellMetadata": {},
     "inputWidgets": {},
     "nuid": "957e5a29-eb27-44c9-9c09-5a6d8b7188a6",
     "showTitle": false,
     "tableResultSettingsMap": {},
     "title": ""
    }
   },
   "source": [
    "## 1699. Number of Calls Between Two Persons\n",
    "### Table: Calls\n",
    "\n",
    "| Column Name | Type |\n",
    "|-------------|------|\n",
    "| from_id     | int  |\n",
    "| to_id       | int  |\n",
    "| duration    | int  |\n",
    "\n",
    "This table does not have a primary key, it may contain duplicates.  \n",
    "This table contains the duration of a phone call between from_id and to_id.  \n",
    "from_id != to_id\n",
    "\n",
    "Write an SQL query to report the number of calls and the total call duration between each pair of distinct persons (person1, person2) where person1 < person2.\n",
    "\n",
    "Return the result table in any order.\n",
    "\n",
    "---\n",
    "\n",
    "### Calls table:\n",
    "\n",
    "| from_id | to_id | duration |\n",
    "|---------|-------|----------|\n",
    "| 1       | 2     | 59       |\n",
    "| 2       | 1     | 11       |\n",
    "| 1       | 3     | 20       |\n",
    "| 3       | 4     | 100      |\n",
    "| 3       | 4     | 200      |\n",
    "| 3       | 4     | 200      |\n",
    "| 4       | 3     | 499      |\n",
    "\n",
    "---\n",
    "\n",
    "### Result table:\n",
    "\n",
    "| person1 | person2 | call_count | total_duration |\n",
    "|---------|---------|------------|----------------|\n",
    "| 1       | 2       | 2          | 70             |\n",
    "| 1       | 3       | 1          | 20             |\n",
    "| 3       | 4       | 4          | 999            |\n",
    "\n",
    "---\n",
    "\n",
    "**Explanation:**  \n",
    "Users 1 and 2 had 2 calls and the total duration is 70 (59 + 11).  \n",
    "Users 1 and 3 had 1 call and the total duration is 20.  \n",
    "Users 3 and 4 had 4 calls and the total duration is 999 (100 + 200 + 200 + 499)."
   ]
  },
  {
   "cell_type": "code",
   "execution_count": 0,
   "metadata": {
    "application/vnd.databricks.v1+cell": {
     "cellMetadata": {
      "byteLimit": 2048000,
      "rowLimit": 10000
     },
     "inputWidgets": {},
     "nuid": "67e71562-07b2-4a87-91a2-82f860bf9cf4",
     "showTitle": false,
     "tableResultSettingsMap": {},
     "title": ""
    }
   },
   "outputs": [],
   "source": [
    "from pyspark.sql import SparkSession\n",
    "from pyspark.sql.types import StructType, StructField, IntegerType\n",
    "from pyspark.sql.functions import col, when, least, greatest\n",
    "\n",
    "# Start Spark session\n",
    "spark = SparkSession.builder.appName(\"CallAggregation\").getOrCreate()\n",
    "\n",
    "# Define schema\n",
    "schema = StructType([\n",
    "    StructField(\"from_id\", IntegerType(), True),\n",
    "    StructField(\"to_id\", IntegerType(), True),\n",
    "    StructField(\"duration\", IntegerType(), True)\n",
    "])\n",
    "\n",
    "# Sample data\n",
    "data = [\n",
    "    (1, 2, 59),\n",
    "    (2, 1, 11),\n",
    "    (1, 3, 20),\n",
    "    (3, 4, 100),\n",
    "    (3, 4, 200),\n",
    "    (3, 4, 200),\n",
    "    (4, 3, 499)\n",
    "]\n",
    "\n",
    "# Create DataFrame\n",
    "df = spark.createDataFrame(data, schema)\n",
    "df.createOrReplaceTempView(\"Calls\")\n"
   ]
  },
  {
   "cell_type": "code",
   "execution_count": 0,
   "metadata": {
    "application/vnd.databricks.v1+cell": {
     "cellMetadata": {
      "byteLimit": 2048000,
      "rowLimit": 10000
     },
     "inputWidgets": {},
     "nuid": "47f925f1-4248-483a-8ca7-8834f25296b3",
     "showTitle": false,
     "tableResultSettingsMap": {},
     "title": ""
    }
   },
   "outputs": [],
   "source": [
    "from pyspark.sql.functions import *\n",
    "df_result = df.withColumn(\"person1\", when(col(\"from_id\")< col(\"to_id\"), col(\"from_id\")).otherwise(col(\"to_id\")))\\\n",
    ".withColumn(\"person2\", when(col(\"from_id\")< col(\"to_id\"), col(\"to_id\")).otherwise(col(\"from_id\"))).select(\"person1\", \"person2\", \"duration\")\n",
    "df_result.groupBy(col(\"person1\"),col(\"person2\"))\\\n",
    "    .agg(\n",
    "        count(\"person1\").alias(\"call_count\")\n",
    "        ,sum(\"duration\").alias(\"total_duration\")\n",
    "        )\\\n",
    "            .display()"
   ]
  },
  {
   "cell_type": "code",
   "execution_count": 0,
   "metadata": {
    "application/vnd.databricks.v1+cell": {
     "cellMetadata": {},
     "inputWidgets": {},
     "nuid": "ca5738fc-dddf-4202-aca7-cb0416fb0619",
     "showTitle": false,
     "tableResultSettingsMap": {},
     "title": ""
    }
   },
   "outputs": [],
   "source": [
    "\n",
    "# Create normalized pairs where person1 < person2\n",
    "normalized_df = df.select(\n",
    "    least(col(\"from_id\"), col(\"to_id\")).alias(\"person1\"),\n",
    "    greatest(col(\"from_id\"), col(\"to_id\")).alias(\"person2\"),\n",
    "    col(\"duration\")\n",
    ")\n",
    "normalized_df.createOrReplaceTempView(\"NormalizedCalls\")\n",
    "\n"
   ]
  },
  {
   "cell_type": "code",
   "execution_count": 0,
   "metadata": {
    "application/vnd.databricks.v1+cell": {
     "cellMetadata": {
      "byteLimit": 2048000,
      "rowLimit": 10000
     },
     "inputWidgets": {},
     "nuid": "360d9272-5b5a-4e55-966a-cd2d453cff8f",
     "showTitle": false,
     "tableResultSettingsMap": {},
     "title": ""
    }
   },
   "outputs": [],
   "source": [
    "# SQL logic\n",
    "query = \"\"\"\n",
    "SELECT \n",
    "    from_id, \n",
    "    to_id, \n",
    "    COUNT(*) AS call_count, \n",
    "    SUM(duration) AS total_duration\n",
    "FROM Calls\n",
    "GROUP BY to_id, from_id\n",
    "\"\"\"\n",
    "\n",
    "# Execute and display\n",
    "result = spark.sql(query)\n",
    "display(result)"
   ]
  }
 ],
 "metadata": {
  "application/vnd.databricks.v1+notebook": {
   "computePreferences": null,
   "dashboards": [],
   "environmentMetadata": {
    "base_environment": "",
    "environment_version": "3"
   },
   "inputWidgetPreferences": null,
   "language": "python",
   "notebookMetadata": {
    "pythonIndentUnit": 4
   },
   "notebookName": "1699_leetcode_medium",
   "widgets": {}
  },
  "language_info": {
   "name": "python"
  }
 },
 "nbformat": 4,
 "nbformat_minor": 0
}
