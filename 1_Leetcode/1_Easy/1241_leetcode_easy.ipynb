{
 "cells": [
  {
   "cell_type": "markdown",
   "metadata": {
    "application/vnd.databricks.v1+cell": {
     "cellMetadata": {},
     "inputWidgets": {},
     "nuid": "65603c06-76c6-4a6e-8e37-8ebeee6f5b42",
     "showTitle": false,
     "tableResultSettingsMap": {},
     "title": ""
    }
   },
   "source": [
    "## 1241. Number of Comments per Post\n",
    "## Table: Submissions\n",
    "\n",
    "| Column Name | Type |\n",
    "|-------------|------|\n",
    "| sub_id      | int  |\n",
    "| parent_id   | int  |\n",
    "\n",
    "There is no primary key for this table, it may have duplicate rows.  \n",
    "Each row can be a post or comment on the post.  \n",
    "parent_id is null for posts.  \n",
    "parent_id for comments is sub_id for another post in the table.\n",
    "\n",
    "Write an SQL query to find number of comments per each post.  \n",
    "SQL courses\n",
    "\n",
    "Result table should contain post_id and its corresponding number_of_comments, and must be sorted by post_id in ascending order.\n",
    "\n",
    "Submissions may contain duplicate comments. You should count the number of unique comments per post.\n",
    "\n",
    "Submissions may contain duplicate posts. You should treat them as one post.\n",
    "\n",
    "The query result format is in the following example:\n",
    "\n",
    "### Submissions table:\n",
    "\n",
    "| sub_id | parent_id |\n",
    "|--------|-----------|\n",
    "| 1      | Null      |\n",
    "| 2      | Null      |\n",
    "| 1      | Null      |\n",
    "| 12     | Null      |\n",
    "| 3      | 1         |\n",
    "| 5      | 2         |\n",
    "| 3      | 1         |\n",
    "| 4      | 1         |\n",
    "| 9      | 1         |\n",
    "| 10     | 2         |\n",
    "| 6      | 7         |\n",
    "\n",
    "### Result table:\n",
    "\n",
    "| post_id | number_of_comments |\n",
    "|---------|--------------------|\n",
    "| 1       | 3                  |\n",
    "| 2       | 2                  |\n",
    "| 12      | 0                  |\n",
    "\n",
    "The post with id 1 has three comments in the table with id 3, 4 and 9. The comment with id 3 is repeated in the table, we counted it only once.  \n",
    "The post with id 2 has two comments in the table with id 5 and 10.  \n",
    "The post with id 12 has no comments in the table.  \n",
    "The comment with id 6 is a comment on a deleted post with id 7 so we ignored it."
   ]
  },
  {
   "cell_type": "code",
   "execution_count": 0,
   "metadata": {
    "application/vnd.databricks.v1+cell": {
     "cellMetadata": {
      "byteLimit": 2048000,
      "rowLimit": 10000
     },
     "inputWidgets": {},
     "nuid": "f557e454-fe51-4807-b3d2-085b343416a8",
     "showTitle": false,
     "tableResultSettingsMap": {
      "0": {
       "dataGridStateBlob": "{\"version\":1,\"tableState\":{\"columnPinning\":{\"left\":[\"#row_number#\"],\"right\":[]},\"columnSizing\":{},\"columnVisibility\":{}},\"settings\":{\"columns\":{}},\"syncTimestamp\":1758383468910}",
       "filterBlob": null,
       "queryPlanFiltersBlob": null,
       "tableResultIndex": 0
      }
     },
     "title": ""
    }
   },
   "outputs": [],
   "source": [
    "from pyspark.sql import SparkSession\n",
    "from pyspark.sql.types import StructType, StructField, IntegerType\n",
    "from pyspark.sql.functions import col, countDistinct, asc\n",
    "\n",
    "# Create Spark session\n",
    "spark = SparkSession.builder.getOrCreate()\n",
    "\n",
    "# Define schema\n",
    "schema = StructType([\n",
    "    StructField(\"sub_id\", IntegerType(), True),\n",
    "    StructField(\"parent_id\", IntegerType(), True)\n",
    "])\n",
    "\n",
    "# Sample data\n",
    "data = [\n",
    "    (1, None),\n",
    "    (2, None),\n",
    "    (1, None),\n",
    "    (12, None),\n",
    "    (3, 1),\n",
    "    (5, 2),\n",
    "    (3, 1),\n",
    "    (4, 1),\n",
    "    (9, 1),\n",
    "    (10, 2),\n",
    "    (6, 7)\n",
    "]\n",
    "\n",
    "# Create DataFrame\n",
    "df = spark.createDataFrame(data, schema)\n",
    "df.createOrReplaceTempView(\"Submissions\")\n",
    "df.display()\n"
   ]
  },
  {
   "cell_type": "code",
   "execution_count": 0,
   "metadata": {
    "application/vnd.databricks.v1+cell": {
     "cellMetadata": {
      "byteLimit": 2048000,
      "rowLimit": 10000
     },
     "inputWidgets": {},
     "nuid": "f90dee5b-3898-45a9-9ef1-4e80a1bf43e2",
     "showTitle": false,
     "tableResultSettingsMap": {},
     "title": ""
    }
   },
   "outputs": [],
   "source": [
    "\n",
    "# SQL logic\n",
    "spark.sql(\"\"\"\n",
    "    WITH posts AS (\n",
    "        SELECT DISTINCT sub_id AS post_id\n",
    "        FROM Submissions\n",
    "        WHERE parent_id IS NULL\n",
    "    ),\n",
    "    comments AS (\n",
    "        SELECT DISTINCT sub_id, parent_id\n",
    "        FROM Submissions\n",
    "        WHERE parent_id IS NOT NULL\n",
    "    )\n",
    "    SELECT\n",
    "        p.post_id,\n",
    "        COUNT(DISTINCT c.sub_id) AS number_of_comments\n",
    "    FROM posts p\n",
    "    LEFT JOIN comments c\n",
    "        ON p.post_id = c.parent_id\n",
    "    GROUP BY p.post_id\n",
    "    ORDER BY p.post_id ASC\n",
    "\"\"\").createOrReplaceTempView(\"PostCommentStats\")\n",
    "\n",
    "# Display result\n",
    "display(spark.sql(\"SELECT * FROM PostCommentStats\"))"
   ]
  },
  {
   "cell_type": "code",
   "execution_count": 0,
   "metadata": {
    "application/vnd.databricks.v1+cell": {
     "cellMetadata": {
      "byteLimit": 2048000,
      "implicitDf": true,
      "rowLimit": 10000
     },
     "inputWidgets": {},
     "nuid": "812f9536-c7af-4a8d-9005-921dddce181f",
     "showTitle": false,
     "tableResultSettingsMap": {},
     "title": ""
    }
   },
   "outputs": [],
   "source": [
    "%sql\n",
    "select count(distinct sub_id) as number_of_comments  ,parent_id from submissions group by parent_id "
   ]
  },
  {
   "cell_type": "code",
   "execution_count": 0,
   "metadata": {
    "application/vnd.databricks.v1+cell": {
     "cellMetadata": {
      "byteLimit": 2048000,
      "implicitDf": true,
      "rowLimit": 10000
     },
     "inputWidgets": {},
     "nuid": "52bf4446-f2dc-41d6-9086-91eb7bb7dda2",
     "showTitle": false,
     "tableResultSettingsMap": {},
     "title": ""
    }
   },
   "outputs": [],
   "source": [
    "%sql\n",
    "with cte as (\n",
    "  select distinct sub_id  as post from Submissions where parent_id   is Null\n",
    ")\n",
    ",cte2 as (\n",
    "  select count(distinct sub_id) as number_of_comments  ,parent_id from submissions group by parent_id \n",
    ")\n",
    "select c1.post  as post_id ,coalesce(c2.number_of_comments , 0) from cte c1 left join cte2 c2 on c1.post=c2.parent_id "
   ]
  },
  {
   "cell_type": "code",
   "execution_count": 0,
   "metadata": {
    "application/vnd.databricks.v1+cell": {
     "cellMetadata": {
      "byteLimit": 2048000,
      "rowLimit": 10000
     },
     "inputWidgets": {},
     "nuid": "2c5488f6-d14f-47ab-bc17-356cc5282685",
     "showTitle": false,
     "tableResultSettingsMap": {
      "0": {
       "dataGridStateBlob": "{\"version\":1,\"tableState\":{\"columnPinning\":{\"left\":[\"#row_number#\"],\"right\":[]},\"columnSizing\":{},\"columnVisibility\":{}},\"settings\":{\"columns\":{}},\"syncTimestamp\":1758384662292}",
       "filterBlob": null,
       "queryPlanFiltersBlob": null,
       "tableResultIndex": 0
      }
     },
     "title": ""
    }
   },
   "outputs": [],
   "source": [
    "post = df.filter(col(\"parent_id\").isNull()).selectExpr(\"sub_id as post_id\").distinct()\n",
    "#post.display()\n",
    "comment = df.groupBy(col(\"parent_id\")).agg(countDistinct(col(\"sub_id\")).alias(\"number_of_comments\"))\n",
    "#comment.display()\n",
    "post.join(comment, col(\"post_id\")== col(\"parent_id\") , \"left\")\\\n",
    "   .selectExpr(\"post_id\", \"coalesce(number_of_comments,0)\").display()\n",
    "        \n"
   ]
  },
  {
   "cell_type": "code",
   "execution_count": 0,
   "metadata": {
    "application/vnd.databricks.v1+cell": {
     "cellMetadata": {},
     "inputWidgets": {},
     "nuid": "bb97be61-fcdf-4e4b-8dfd-351f4958a049",
     "showTitle": false,
     "tableResultSettingsMap": {},
     "title": ""
    }
   },
   "outputs": [],
   "source": []
  }
 ],
 "metadata": {
  "application/vnd.databricks.v1+notebook": {
   "computePreferences": null,
   "dashboards": [],
   "environmentMetadata": {
    "base_environment": "",
    "environment_version": "3"
   },
   "inputWidgetPreferences": null,
   "language": "python",
   "notebookMetadata": {
    "mostRecentlyExecutedCommandWithImplicitDF": {
     "commandId": 5403611654283238,
     "dataframes": [
      "_sqldf"
     ]
    },
    "pythonIndentUnit": 4
   },
   "notebookName": "1241_leetcode_easy",
   "widgets": {}
  },
  "language_info": {
   "name": "python"
  }
 },
 "nbformat": 4,
 "nbformat_minor": 0
}
