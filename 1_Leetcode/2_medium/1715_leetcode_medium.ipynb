{
 "cells": [
  {
   "cell_type": "markdown",
   "metadata": {
    "application/vnd.databricks.v1+cell": {
     "cellMetadata": {},
     "inputWidgets": {},
     "nuid": "2b48b819-a1d5-4b64-9bb3-51cef77d20fc",
     "showTitle": false,
     "tableResultSettingsMap": {},
     "title": ""
    }
   },
   "source": [
    "## 1715. Count Apples and Oranges\n",
    "### Table: Boxes\n",
    "\n",
    "| Column Name  | Type |\n",
    "|--------------|------|\n",
    "| box_id       | int  |\n",
    "| chest_id     | int  |\n",
    "| apple_count  | int  |\n",
    "| orange_count | int  |\n",
    "\n",
    "box_id is the primary key for this table.  \n",
    "chest_id is a foreign key of the chests table.  \n",
    "This table contains information about the boxes and the number of oranges and apples they contain. Each box may contain a chest, which also can contain oranges and apples.\n",
    "\n",
    "---\n",
    "\n",
    "### Table: Chests\n",
    "\n",
    "| Column Name  | Type |\n",
    "|--------------|------|\n",
    "| chest_id     | int  |\n",
    "| apple_count  | int  |\n",
    "| orange_count | int  |\n",
    "\n",
    "chest_id is the primary key for this table.  \n",
    "This table contains information about the chests we have, and the corresponding number if oranges and apples they contain.\n",
    "\n",
    "---\n",
    "\n",
    "### Problem Statement\n",
    "\n",
    "Write an SQL query to count the number of apples and oranges in all the boxes. If a box contains a chest, you should also include the number of apples and oranges it has.\n",
    "\n",
    "Return the result table in any order.\n",
    "\n",
    "---\n",
    "\n",
    "### Sample Input\n",
    "\n",
    "#### Boxes table:\n",
    "\n",
    "| box_id | chest_id | apple_count | orange_count |\n",
    "|--------|----------|-------------|--------------|\n",
    "| 2      | null     | 6           | 15           |\n",
    "| 18     | 14       | 4           | 15           |\n",
    "| 19     | 3        | 8           | 4            |\n",
    "| 12     | 2        | 19          | 20           |\n",
    "| 20     | 6        | 12          | 9            |\n",
    "| 8      | 6        | 9           | 9            |\n",
    "| 3      | 14       | 16          | 7            |\n",
    "\n",
    "#### Chests table:\n",
    "\n",
    "| chest_id | apple_count | orange_count |\n",
    "|----------|-------------|--------------|\n",
    "| 6        | 5           | 6            |\n",
    "| 14       | 20          | 10           |\n",
    "| 2        | 8           | 8            |\n",
    "| 3        | 19          | 4            |\n",
    "| 16       | 19          | 19           |\n",
    "\n",
    "---\n",
    "\n",
    "### Output\n",
    "\n",
    "| apple_count | orange_count |\n",
    "|-------------|--------------|\n",
    "| 151         | 123          |\n",
    "\n",
    "---\n",
    "\n",
    "### Explanation\n",
    "\n",
    "box 2 has 6 apples and 15 oranges.  \n",
    "box 18 has 4 + 20 (from the chest) = 24 apples and 15 + 10 (from the chest) = 25 oranges.  \n",
    "box 19 has 8 + 19 (from the chest) = 27 apples and 4 + 4 (from the chest) = 8 oranges.  \n",
    "box 12 has 19 + 8 (from the chest) = 27 apples and 20 + 8 (from the chest) = 28 oranges.  \n",
    "box 20 has 12 + 5 (from the chest) = 17 apples and 9 + 6 (from the chest) = 15 oranges.  \n",
    "box 8 has 9 + 5 (from the chest) = 14 apples and 9 + 6 (from the chest) = 15 oranges.  \n",
    "box 3 has 16 + 20 (from the chest) = 36 apples and 7 + 10 (from the chest) = 17 oranges.  \n",
    "Total number of apples = 6 + 24 + 27 + 27 + 17 + 14 + 36 = 151  \n",
    "Total number of oranges = 15 + 25 + 8 + 28 + 15 + 15 + 17 = 123"
   ]
  },
  {
   "cell_type": "code",
   "execution_count": 0,
   "metadata": {
    "application/vnd.databricks.v1+cell": {
     "cellMetadata": {
      "byteLimit": 2048000,
      "rowLimit": 10000
     },
     "inputWidgets": {},
     "nuid": "3224284a-0b6d-4130-b2c7-00d24af77f37",
     "showTitle": false,
     "tableResultSettingsMap": {},
     "title": ""
    }
   },
   "outputs": [],
   "source": [
    "from pyspark.sql import SparkSession\n",
    "from pyspark.sql.types import StructType, StructField, IntegerType\n",
    "from pyspark.sql import Row\n",
    "\n",
    "spark = SparkSession.builder.getOrCreate()\n",
    "\n",
    "# Define schemas\n",
    "boxes_schema = StructType([\n",
    "    StructField(\"box_id\", IntegerType(), True),\n",
    "    StructField(\"chest_id\", IntegerType(), True),\n",
    "    StructField(\"apple_count\", IntegerType(), True),\n",
    "    StructField(\"orange_count\", IntegerType(), True)\n",
    "])\n",
    "\n",
    "chests_schema = StructType([\n",
    "    StructField(\"chest_id\", IntegerType(), True),\n",
    "    StructField(\"apple_count\", IntegerType(), True),\n",
    "    StructField(\"orange_count\", IntegerType(), True)\n",
    "])\n",
    "\n",
    "# Sample data\n",
    "boxes_data = [\n",
    "    (2, None, 6, 15),\n",
    "    (18, 14, 4, 15),\n",
    "    (19, 3, 8, 4),\n",
    "    (12, 2, 19, 20),\n",
    "    (20, 6, 12, 9),\n",
    "    (8, 6, 9, 9),\n",
    "    (3, 14, 16, 7)\n",
    "]\n",
    "\n",
    "chests_data = [\n",
    "    (6, 5, 6),\n",
    "    (14, 20, 10),\n",
    "    (2, 8, 8),\n",
    "    (3, 19, 4),\n",
    "    (16, 19, 19)\n",
    "]\n",
    "\n",
    "# Create DataFrames\n",
    "boxes_df = spark.createDataFrame(boxes_data, schema=boxes_schema)\n",
    "chests_df = spark.createDataFrame(chests_data, schema=chests_schema)\n",
    "\n",
    "# Register temp views\n",
    "boxes_df.createOrReplaceTempView(\"Boxes\")\n",
    "chests_df.createOrReplaceTempView(\"Chests\")\n"
   ]
  },
  {
   "cell_type": "code",
   "execution_count": 0,
   "metadata": {
    "application/vnd.databricks.v1+cell": {
     "cellMetadata": {
      "byteLimit": 2048000,
      "rowLimit": 10000
     },
     "inputWidgets": {},
     "nuid": "574bca34-56cc-4eec-8db0-17c8bb32d0e7",
     "showTitle": false,
     "tableResultSettingsMap": {},
     "title": ""
    }
   },
   "outputs": [],
   "source": [
    "\n",
    "from pyspark.sql.functions import *\n",
    "box=boxes_df.selectExpr(\"box_id\", \"chest_id as b_c_id\", \"apple_count as b_ac\", \"orange_count as b_oc\")\n",
    "chest=chests_df.selectExpr(\"chest_id as c_c_id\", \"apple_count as c_ac\", \"orange_count as c_oc\")\n",
    "box.join(chest,col(\"b_c_id\") == col(\"c_c_id\"),\"left\").selectExpr(\"coalesce(b_ac , 0)+coalesce(c_ac , 0) as apple_count\", \"coalesce(b_oc , 0)+coalesce(c_oc , 0) as orange_count\").agg(sum(col(\"apple_count\")), sum(col(\"orange_count\"))).display()\n"
   ]
  },
  {
   "cell_type": "code",
   "execution_count": 0,
   "metadata": {
    "application/vnd.databricks.v1+cell": {
     "cellMetadata": {
      "byteLimit": 2048000,
      "implicitDf": true,
      "rowLimit": 10000
     },
     "inputWidgets": {},
     "nuid": "70ae3f31-c8d6-4507-a8fc-61d91844fb9f",
     "showTitle": false,
     "tableResultSettingsMap": {},
     "title": ""
    }
   },
   "outputs": [],
   "source": [
    "%sql\n",
    "Select sum(coalesce(b.apple_count,0) + coalesce(c.apple_count,0) )as total_apples,\n",
    "       sum(coalesce(b.orange_count,0) + coalesce(c.orange_count,0) ) as total_oranges\n",
    "from Boxes b\n",
    " left join Chests c\n",
    "  on b.chest_id = c.chest_id"
   ]
  },
  {
   "cell_type": "code",
   "execution_count": 0,
   "metadata": {
    "application/vnd.databricks.v1+cell": {
     "cellMetadata": {},
     "inputWidgets": {},
     "nuid": "83d8d392-4600-445d-86ab-6b1596256739",
     "showTitle": false,
     "tableResultSettingsMap": {},
     "title": ""
    }
   },
   "outputs": [],
   "source": [
    "\n",
    "# SQL logic\n",
    "query = \"\"\"\n",
    "SELECT \n",
    "    SUM(b.apple_count + COALESCE(c.apple_count, 0)) AS apple_count,\n",
    "    SUM(b.orange_count + COALESCE(c.orange_count, 0)) AS orange_count\n",
    "FROM Boxes b\n",
    "LEFT JOIN Chests c\n",
    "ON b.chest_id = c.chest_id\n",
    "\"\"\"\n",
    "\n",
    "result_df = spark.sql(query)\n",
    "display(result_df)"
   ]
  }
 ],
 "metadata": {
  "application/vnd.databricks.v1+notebook": {
   "computePreferences": null,
   "dashboards": [],
   "environmentMetadata": {
    "base_environment": "",
    "environment_version": "3"
   },
   "inputWidgetPreferences": null,
   "language": "python",
   "notebookMetadata": {
    "mostRecentlyExecutedCommandWithImplicitDF": {
     "commandId": 6400570187503218,
     "dataframes": [
      "_sqldf"
     ]
    },
    "pythonIndentUnit": 4
   },
   "notebookName": "1715_leetcode_medium",
   "widgets": {}
  },
  "language_info": {
   "name": "python"
  }
 },
 "nbformat": 4,
 "nbformat_minor": 0
}
