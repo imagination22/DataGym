{
 "cells": [
  {
   "cell_type": "markdown",
   "metadata": {
    "application/vnd.databricks.v1+cell": {
     "cellMetadata": {},
     "inputWidgets": {},
     "nuid": "a99f7004-480d-442f-9577-0a964b507d05",
     "showTitle": false,
     "tableResultSettingsMap": {},
     "title": ""
    }
   },
   "source": [
    "## 1393. Capital Gain/Loss\n",
    "### Table: Stocks\n",
    "\n",
    "| Column Name   | Type    |\n",
    "|---------------|---------|\n",
    "| stock_name    | varchar |\n",
    "| operation     | enum    |\n",
    "| operation_day | int     |\n",
    "| price         | int     |\n",
    "\n",
    "(stock_name, operation_day) is the primary key (combination of columns with unique values) for this table.  \n",
    "The operation column is an ENUM (category) of type ('Sell', 'Buy')  \n",
    "Each row of this table indicates that the stock which has stock_name had an operation on the day operation_day with the price.  \n",
    "It is guaranteed that each 'Sell' operation for a stock has a corresponding 'Buy' operation in a previous day.  \n",
    "It is also guaranteed that each 'Buy' operation for a stock has a corresponding 'Sell' operation in an upcoming day.\n",
    "\n",
    "Write a solution to report the Capital gain/loss for each stock.\n",
    "\n",
    "The Capital gain/loss of a stock is the total gain or loss after buying and selling the stock one or many times.\n",
    "\n",
    "Return the result table in any order.\n",
    "\n",
    "#### Example 1:\n",
    "\n",
    "**Input:**  \n",
    "Stocks table:\n",
    "\n",
    "| stock_name    | operation | operation_day | price  |\n",
    "|---------------|-----------|---------------|--------|\n",
    "| Leetcode      | Buy       | 1             | 1000   |\n",
    "| Corona Masks  | Buy       | 2             | 10     |\n",
    "| Leetcode      | Sell      | 5             | 9000   |\n",
    "| Handbags      | Buy       | 17            | 30000  |\n",
    "| Corona Masks  | Sell      | 3             | 1010   |\n",
    "| Corona Masks  | Buy       | 4             | 1000   |\n",
    "| Corona Masks  | Sell      | 5             | 500    |\n",
    "| Corona Masks  | Buy       | 6             | 1000   |\n",
    "| Handbags      | Sell      | 29            | 7000   |\n",
    "| Corona Masks  | Sell      | 10            | 10000  |\n",
    "\n",
    "**Output:**\n",
    "\n",
    "| stock_name    | capital_gain_loss |\n",
    "|---------------|-------------------|\n",
    "| Corona Masks  | 9500              |\n",
    "| Leetcode      | 8000              |\n",
    "| Handbags      | -23000            |\n",
    "\n",
    "**Explanation:**  \n",
    "Leetcode stock was bought at day 1 for 1000$ and was sold at day 5 for 9000$. Capital gain = 9000 - 1000 = 8000$.  \n",
    "Handbags stock was bought at day 17 for 30000$ and was sold at day 29 for 7000$. Capital loss = 7000 - 30000 = -23000$.  \n",
    "Corona Masks stock was bought at day 1 for 10$ and was sold at day 3 for 1010$. It was bought again at day 4 for 1000$ and was sold at day 5 for 500$. At last, it was bought at day 6 for 1000$ and was sold at day 10 for 10000$.  \n",
    "Capital gain/loss is the sum of capital gains/losses for each ('Buy' --> 'Sell') operation = (1010 - 10) + (500 - 1000) + (10000 - 1000) = 1000 - 500 + 9000 = 9500$."
   ]
  },
  {
   "cell_type": "code",
   "execution_count": 0,
   "metadata": {
    "application/vnd.databricks.v1+cell": {
     "cellMetadata": {
      "byteLimit": 2048000,
      "rowLimit": 10000
     },
     "inputWidgets": {},
     "nuid": "f7ca6787-818c-4cdc-8173-d5dc95a6ea14",
     "showTitle": false,
     "tableResultSettingsMap": {},
     "title": ""
    }
   },
   "outputs": [],
   "source": [
    "from pyspark.sql import SparkSession\n",
    "from pyspark.sql.types import StructType, StructField, StringType, IntegerType\n",
    "from pyspark.sql.functions import col, expr\n",
    "\n",
    "# Start Spark session\n",
    "spark = SparkSession.builder.appName(\"CapitalGainLoss\").getOrCreate()\n",
    "\n",
    "# Define schema\n",
    "schema = StructType([\n",
    "    StructField(\"stock_name\", StringType(), True),\n",
    "    StructField(\"operation\", StringType(), True),\n",
    "    StructField(\"operation_day\", IntegerType(), True),\n",
    "    StructField(\"price\", IntegerType(), True)\n",
    "])\n",
    "\n",
    "# Sample data\n",
    "data = [\n",
    "    (\"Leetcode\", \"Buy\", 1, 1000),\n",
    "    (\"Corona Masks\", \"Buy\", 2, 10),\n",
    "    (\"Leetcode\", \"Sell\", 5, 9000),\n",
    "    (\"Handbags\", \"Buy\", 17, 30000),\n",
    "    (\"Corona Masks\", \"Sell\", 3, 1010),\n",
    "    (\"Corona Masks\", \"Buy\", 4, 1000),\n",
    "    (\"Corona Masks\", \"Sell\", 5, 500),\n",
    "    (\"Corona Masks\", \"Buy\", 6, 1000),\n",
    "    (\"Handbags\", \"Sell\", 29, 7000),\n",
    "    (\"Corona Masks\", \"Sell\", 10, 10000)\n",
    "]\n",
    "\n",
    "# Create DataFrame\n",
    "df = spark.createDataFrame(data, schema)\n",
    "df.createOrReplaceTempView(\"Stocks\")\n",
    "\n"
   ]
  },
  {
   "cell_type": "code",
   "execution_count": 0,
   "metadata": {
    "application/vnd.databricks.v1+cell": {
     "cellMetadata": {
      "byteLimit": 2048000,
      "rowLimit": 10000
     },
     "inputWidgets": {},
     "nuid": "27d974c2-522d-4f7d-b849-93348d18af11",
     "showTitle": false,
     "tableResultSettingsMap": {
      "0": {
       "dataGridStateBlob": "{\"version\":1,\"tableState\":{\"columnPinning\":{\"left\":[\"#row_number#\"],\"right\":[]},\"columnSizing\":{},\"columnVisibility\":{}},\"settings\":{\"columns\":{}},\"syncTimestamp\":1758455193697}",
       "filterBlob": null,
       "queryPlanFiltersBlob": null,
       "tableResultIndex": 0
      }
     },
     "title": ""
    }
   },
   "outputs": [],
   "source": [
    "from pyspark.sql.functions import * \n",
    "df.groupBy(col(\"stock_name\"))\\\n",
    "    .agg(\n",
    "        (sum(\n",
    "            when(\n",
    "                 col(\"operation\")==\"Buy\",\n",
    "                    col(\"price\")\n",
    "                ).otherwise(0)\n",
    "        ).alias(\"cp\")),\n",
    "        sum(\n",
    "            when(\n",
    "                col(\"operation\")==\"Sell\",\n",
    "                col(\"price\")\n",
    "            ).otherwise(0)\n",
    "        ).alias(\"Sp\")\n",
    "\n",
    "    )\\\n",
    "        .withColumn(\"capital_gain_loss\", expr(\"Sp-cp\"))\\\n",
    "            .select(\"stock_name\", \"capital_gain_loss\").display()"
   ]
  },
  {
   "cell_type": "code",
   "execution_count": 0,
   "metadata": {
    "application/vnd.databricks.v1+cell": {
     "cellMetadata": {
      "byteLimit": 2048000,
      "implicitDf": true,
      "rowLimit": 10000
     },
     "inputWidgets": {},
     "nuid": "fbf9aa9b-92e5-4c97-ab0e-028e4857a9ec",
     "showTitle": false,
     "tableResultSettingsMap": {
      "0": {
       "dataGridStateBlob": "{\"version\":1,\"tableState\":{\"columnPinning\":{\"left\":[\"#row_number#\"],\"right\":[]},\"columnSizing\":{},\"columnVisibility\":{}},\"settings\":{\"columns\":{}},\"syncTimestamp\":1758455427519}",
       "filterBlob": null,
       "queryPlanFiltersBlob": null,
       "tableResultIndex": 0
      }
     },
     "title": ""
    }
   },
   "outputs": [],
   "source": [
    "%sql\n",
    "Select stock_name , \n",
    "sum(\n",
    "   case \n",
    "   when operation = 'Buy' then -price \n",
    "   when operation = 'Sell' then price else 0 end ) from Stocks\n",
    "group by stock_name"
   ]
  },
  {
   "cell_type": "code",
   "execution_count": 0,
   "metadata": {
    "application/vnd.databricks.v1+cell": {
     "cellMetadata": {},
     "inputWidgets": {},
     "nuid": "905e6704-ace8-4874-8ff3-2276f00ff674",
     "showTitle": false,
     "tableResultSettingsMap": {},
     "title": ""
    }
   },
   "outputs": [],
   "source": [
    "# SQL logic\n",
    "query = \"\"\"\n",
    "SELECT stock_name, SUM(\n",
    "    CASE WHEN operation = 'Sell' THEN price\n",
    "         WHEN operation = 'Buy' THEN -price\n",
    "         ELSE 0 END\n",
    ") AS capital_gain_loss\n",
    "FROM Stocks\n",
    "GROUP BY stock_name\n",
    "\"\"\"\n",
    "\n",
    "# Execute and display\n",
    "result = spark.sql(query)\n",
    "display(result)"
   ]
  }
 ],
 "metadata": {
  "application/vnd.databricks.v1+notebook": {
   "computePreferences": null,
   "dashboards": [],
   "environmentMetadata": {
    "base_environment": "",
    "environment_version": "3"
   },
   "inputWidgetPreferences": null,
   "language": "python",
   "notebookMetadata": {
    "mostRecentlyExecutedCommandWithImplicitDF": {
     "commandId": 4924655153237380,
     "dataframes": [
      "_sqldf"
     ]
    },
    "pythonIndentUnit": 4
   },
   "notebookName": "1393_leetcode_medium",
   "widgets": {}
  },
  "language_info": {
   "name": "python"
  }
 },
 "nbformat": 4,
 "nbformat_minor": 0
}
