{
 "cells": [
  {
   "cell_type": "markdown",
   "metadata": {
    "application/vnd.databricks.v1+cell": {
     "cellMetadata": {},
     "inputWidgets": {},
     "nuid": "7e336699-968f-4030-bb0b-6fbbf03a7901",
     "showTitle": false,
     "tableResultSettingsMap": {},
     "title": ""
    }
   },
   "source": [
    "#610  Triangle Judgement\n",
    "### Table: Triangle\n",
    "\n",
    "| Column Name | Type |\n",
    "|-------------|------|\n",
    "| x           | int  |\n",
    "| y           | int  |\n",
    "| z           | int  |\n",
    "\n",
    "**Primary Key**: (x, y, z) — each row represents a unique set of three line segments.\n",
    "\n",
    "**Description**:\n",
    "Each row of this table contains the lengths of three line segments.\n",
    "\n",
    "---\n",
    "\n",
    "### 🧠 Business Logic:\n",
    "Report for every set of three line segments whether they can form a triangle.\n",
    "\n",
    "A triangle is valid **only if** the sum of any two sides is **greater than** the third side:\n",
    "- x + y > z\n",
    "- x + z > y\n",
    "- y + z > x\n",
    "\n",
    "---\n",
    "\n",
    "### ✅ Expected Output Format:\n",
    "\n",
    "#### Input:\n",
    "| x  | y  | z  |\n",
    "|----|----|----|\n",
    "| 13 | 15 | 30 |\n",
    "| 10 | 20 | 15 |\n",
    "\n",
    "#### Output:\n",
    "| x  | y  | z  | triangle |\n",
    "|----|----|----|----------|\n",
    "| 13 | 15 | 30 | No       |\n",
    "| 10 | 20 | 15 | Yes      |"
   ]
  },
  {
   "cell_type": "code",
   "execution_count": 0,
   "metadata": {
    "application/vnd.databricks.v1+cell": {
     "cellMetadata": {
      "byteLimit": 2048000,
      "rowLimit": 10000
     },
     "inputWidgets": {},
     "nuid": "6345eb76-0976-4458-8564-951889330a10",
     "showTitle": false,
     "tableResultSettingsMap": {},
     "title": ""
    }
   },
   "outputs": [],
   "source": [
    "from pyspark.sql import SparkSession\n",
    "from pyspark.sql.types import StructType, StructField, IntegerType\n",
    "from pyspark.sql.functions import *\n",
    "\n",
    "# Sample data\n",
    "data = [\n",
    "    (13, 15, 30),\n",
    "    (10, 20, 15)\n",
    "]\n",
    "\n",
    "# Define schema\n",
    "schema = StructType([\n",
    "    StructField(\"x\", IntegerType(), False),\n",
    "    StructField(\"y\", IntegerType(), False),\n",
    "    StructField(\"z\", IntegerType(), False)\n",
    "])\n",
    "\n",
    "# Create DataFrame\n",
    "df = spark.createDataFrame(data, schema)\n",
    "\n",
    "# Register Temp View\n",
    "df.createOrReplaceTempView(\"Triangle\")\n",
    "\n",
    "# SQL logic to check triangle validity\n",
    "result = spark.sql(\"\"\"\n",
    "    SELECT x, y, z,\n",
    "           CASE \n",
    "               WHEN x + y > z AND x + z > y AND y + z > x THEN 'Yes'\n",
    "               ELSE 'No'\n",
    "           END AS triangle\n",
    "    FROM Triangle\n",
    "\"\"\")\n",
    "\n",
    "# Display result\n",
    "display(result)"
   ]
  },
  {
   "cell_type": "code",
   "execution_count": 0,
   "metadata": {
    "application/vnd.databricks.v1+cell": {
     "cellMetadata": {
      "byteLimit": 2048000,
      "rowLimit": 10000
     },
     "inputWidgets": {},
     "nuid": "8d392143-74fb-43c4-af3a-33d6869c87d2",
     "showTitle": false,
     "tableResultSettingsMap": {},
     "title": ""
    }
   },
   "outputs": [],
   "source": [
    "df.withColumn(\n",
    "    \"triangle\",\n",
    "    when(\n",
    "        ((col(\"x\") + col(\"y\")) > col(\"z\"))\n",
    "        & (((col(\"y\") + col(\"z\")) >= col(\"x\")))\n",
    "        & ((col(\"z\") + col(\"x\")) > col(\"y\")),\n",
    "        \"Yes\",\n",
    "    ).otherwise(\"No\"),\n",
    ").display()"
   ]
  }
 ],
 "metadata": {
  "application/vnd.databricks.v1+notebook": {
   "computePreferences": null,
   "dashboards": [],
   "environmentMetadata": {
    "base_environment": "",
    "environment_version": "3"
   },
   "inputWidgetPreferences": null,
   "language": "python",
   "notebookMetadata": {
    "pythonIndentUnit": 4
   },
   "notebookName": "610_leeetcode_easy",
   "widgets": {}
  },
  "language_info": {
   "name": "python"
  }
 },
 "nbformat": 4,
 "nbformat_minor": 0
}
