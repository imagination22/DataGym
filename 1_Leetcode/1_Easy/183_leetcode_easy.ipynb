{
 "cells": [
  {
   "cell_type": "markdown",
   "metadata": {
    "application/vnd.databricks.v1+cell": {
     "cellMetadata": {
      "byteLimit": 2048000,
      "rowLimit": 10000
     },
     "inputWidgets": {},
     "nuid": "39b77565-8985-47fc-b787-c21950be2065",
     "showTitle": false,
     "tableResultSettingsMap": {},
     "title": ""
    }
   },
   "source": [
    "# 🧠 Leetcode 183 — Customers Who Never Order (Databricks Edition)\n",
    "\n",
    "---\n",
    "\n",
    "## 📘 Problem Statement\n",
    "\n",
    "### Table: Customers\n",
    "\n",
    "| Column Name | Type    |\n",
    "|-------------|---------|\n",
    "| id          | int     |\n",
    "| name        | varchar |\n",
    "\n",
    "- `id` is the primary key.\n",
    "- Each row indicates the ID and name of a customer.\n",
    "\n",
    "---\n",
    "\n",
    "### Table: Orders\n",
    "\n",
    "| Column Name | Type |\n",
    "|-------------|------|\n",
    "| id          | int  |\n",
    "| customerId  | int  |\n",
    "\n",
    "- `id` is the primary key.\n",
    "- `customerId` is a foreign key referencing `Customers.id`.\n",
    "- Each row indicates the ID of an order and the ID of the customer who placed it.\n",
    "\n",
    "---\n",
    "\n",
    "## 🎯 Objective\n",
    "\n",
    "Write a query to find all customers who **never order anything**.\n",
    "\n",
    "Return the result table in any order.\n",
    "\n",
    "---\n",
    "\n",
    "## 🧾 Example\n",
    "\n",
    "### Input\n",
    "\n",
    "**Customers Table**\n",
    "\n",
    "| id | name  |\n",
    "|----|-------|\n",
    "| 1  | Joe   |\n",
    "| 2  | Henry |\n",
    "| 3  | Sam   |\n",
    "| 4  | Max   |\n",
    "\n",
    "**Orders Table**\n",
    "\n",
    "| id | customerId |\n",
    "|----|------------|\n",
    "| 1  | 3          |\n",
    "| 2  | 1          |\n",
    "\n",
    "### Output\n",
    "\n",
    "| Customers |\n",
    "|-----------|\n",
    "| Henry     |\n",
    "| Max       |\n",
    "\n",
    "### Explanation\n",
    "\n",
    "- Henry and Max have no matching entries in the `Orders` table.\n",
    "- So they are returned as customers who never placed an order.\n",
    "\n",
    "---\n",
    "\n",
    "## 🧱 PySpark DataFrame Creation\n",
    "\n",
    "```python\n",
    "from pyspark.sql import Row\n",
    "\n",
    "# Sample data\n",
    "customers_data = [\n",
    "    Row(id=1, name=\"Joe\"),\n",
    "    Row(id=2, name=\"Henry\"),\n",
    "    Row(id=3, name=\"Sam\"),\n",
    "    Row(id=4, name=\"Max\")\n",
    "]\n",
    "\n",
    "orders_data = [\n",
    "    Row(id=1, customerId=3),\n",
    "    Row(id=2, customerId=1)\n",
    "]\n",
    "\n",
    "# Create DataFrames\n",
    "customers_df = spark.createDataFrame(customers_data)\n",
    "orders_df = spark.createDataFrame(orders_data)\n",
    "\n",
    "# Register temp views\n",
    "customers_df.createOrReplaceTempView(\"Customers\")\n",
    "orders_df.createOrReplaceTempView(\"Orders\")\n",
    "```\n",
    "\n",
    "---\n",
    "\n",
    "## ✅ SQL Solution\n",
    "\n",
    "```sql\n",
    "SELECT name AS Customers\n",
    "FROM Customers\n",
    "WHERE id NOT IN (\n",
    "    SELECT customerId FROM Orders\n",
    ");\n",
    "```\n",
    "\n",
    "---\n",
    "\n",
    "## 🧪 PySpark Solution\n",
    "\n",
    "```python\n",
    "from pyspark.sql.functions import col\n",
    "\n",
    "result_df = customers_df.join(\n",
    "    orders_df,\n",
    "    customers_df[\"id\"] == orders_df[\"customerId\"],\n",
    "    how=\"left_anti\"\n",
    ").select(\n",
    "    col(\"name\").alias(\"Customers\")\n",
    ")\n",
    "\n",
    "result_df.show()\n",
    "```\n",
    "\n",
    "---\n",
    "\n",
    "📘 *This notebook is part of DataGym’s SQL-to-PySpark transition series. Want to build a reusable template for anti-join problems or customer segmentation? Let’s co-create it!*\n"
   ]
  },
  {
   "cell_type": "code",
   "execution_count": 0,
   "metadata": {
    "application/vnd.databricks.v1+cell": {
     "cellMetadata": {
      "byteLimit": 2048000,
      "rowLimit": 10000
     },
     "inputWidgets": {},
     "nuid": "a1e26404-e77a-48c9-a423-5c760f20d36f",
     "showTitle": false,
     "tableResultSettingsMap": {},
     "title": ""
    }
   },
   "outputs": [],
   "source": []
  },
  {
   "cell_type": "code",
   "execution_count": 0,
   "metadata": {
    "application/vnd.databricks.v1+cell": {
     "cellMetadata": {
      "byteLimit": 2048000,
      "rowLimit": 10000
     },
     "inputWidgets": {},
     "nuid": "fe3e3605-c0f4-4335-a1c2-e4d4b2498251",
     "showTitle": false,
     "tableResultSettingsMap": {},
     "title": ""
    }
   },
   "outputs": [],
   "source": [
    "# Step 1: Sample data\n",
    "customers_data = [\n",
    "    (1, \"Joe\"),\n",
    "    (2, \"Henry\"),\n",
    "    (3, \"Sam\"),\n",
    "    (4, \"Max\")\n",
    "]\n",
    "\n",
    "orders_data = [\n",
    "    (1, 3),\n",
    "    (2, 1)\n",
    "]\n",
    "\n",
    "# Step 2: Define schemas\n",
    "from pyspark.sql.types import StructType, StructField, IntegerType, StringType\n",
    "\n",
    "customers_schema = StructType([\n",
    "    StructField(\"id\", IntegerType(), nullable=False),\n",
    "    StructField(\"name\", StringType(), nullable=False)\n",
    "])\n",
    "\n",
    "orders_schema = StructType([\n",
    "    StructField(\"id\", IntegerType(), nullable=False),\n",
    "    StructField(\"customerId\", IntegerType(), nullable=False)\n",
    "])\n",
    "\n",
    "# Step 3: Create DataFrames\n",
    "customers_df = spark.createDataFrame(customers_data, customers_schema)\n",
    "orders_df = spark.createDataFrame(orders_data, orders_schema)\n"
   ]
  },
  {
   "cell_type": "code",
   "execution_count": 0,
   "metadata": {
    "application/vnd.databricks.v1+cell": {
     "cellMetadata": {
      "byteLimit": 2048000,
      "rowLimit": 10000
     },
     "inputWidgets": {},
     "nuid": "eb2fd98b-1ea4-4a9b-a4da-fd296de21453",
     "showTitle": false,
     "tableResultSettingsMap": {},
     "title": ""
    }
   },
   "outputs": [],
   "source": [
    "customers_df.display()\n",
    "orders_df.display()"
   ]
  },
  {
   "cell_type": "code",
   "execution_count": 0,
   "metadata": {
    "application/vnd.databricks.v1+cell": {
     "cellMetadata": {
      "byteLimit": 2048000,
      "rowLimit": 10000
     },
     "inputWidgets": {},
     "nuid": "9b6a79fe-d8ef-4014-87a5-28dc3fcee1d2",
     "showTitle": false,
     "tableResultSettingsMap": {
      "0": {
       "dataGridStateBlob": "{\"version\":1,\"tableState\":{\"columnPinning\":{\"left\":[\"#row_number#\"],\"right\":[]},\"columnSizing\":{},\"columnVisibility\":{}},\"settings\":{\"columns\":{}},\"syncTimestamp\":1758344491051}",
       "filterBlob": null,
       "queryPlanFiltersBlob": null,
       "tableResultIndex": 0
      }
     },
     "title": ""
    }
   },
   "outputs": [],
   "source": [
    "customers_df.join(orders_df, customers_df.id == orders_df.customerId,\"left\").\\\n",
    "    filter(orders_df.id.isNull()).\\\n",
    "    select(customers_df.name.alias(\"Customers\")).\\\n",
    "    display()"
   ]
  },
  {
   "cell_type": "code",
   "execution_count": 0,
   "metadata": {
    "application/vnd.databricks.v1+cell": {
     "cellMetadata": {
      "byteLimit": 2048000,
      "rowLimit": 10000
     },
     "inputWidgets": {},
     "nuid": "533dffc7-9baf-43bf-b17f-90807601ff19",
     "showTitle": false,
     "tableResultSettingsMap": {},
     "title": ""
    }
   },
   "outputs": [],
   "source": [
    "customers_df.join(orders_df, customers_df.id == orders_df.customerId, \"left\") \\\n",
    "    .filter(orders_df.id.isNull()) \\\n",
    "    .select(customers_df.name.alias(\"Customers\")) \\\n",
    "    .display()"
   ]
  },
  {
   "cell_type": "code",
   "execution_count": 0,
   "metadata": {
    "application/vnd.databricks.v1+cell": {
     "cellMetadata": {
      "byteLimit": 2048000,
      "rowLimit": 10000
     },
     "inputWidgets": {},
     "nuid": "32dadab0-2bc6-48e9-9401-637fdd848fdc",
     "showTitle": false,
     "tableResultSettingsMap": {},
     "title": ""
    }
   },
   "outputs": [],
   "source": [
    "\n",
    "# Step 4: Create temp views\n",
    "customers_df.createOrReplaceTempView(\"Customers\")\n",
    "orders_df.createOrReplaceTempView(\"Orders\")\n",
    "\n",
    "# Step 5: SQL query to find customers who never ordered\n",
    "result = spark.sql(\"\"\"\n",
    "    SELECT name AS Customers\n",
    "    FROM Customers\n",
    "    WHERE id NOT IN (\n",
    "        SELECT customerId FROM Orders\n",
    "    )\n",
    "\"\"\")\n",
    "\n",
    "# Step 6: Show result\n",
    "result.display()"
   ]
  },
  {
   "cell_type": "code",
   "execution_count": 0,
   "metadata": {
    "application/vnd.databricks.v1+cell": {
     "cellMetadata": {
      "byteLimit": 2048000,
      "rowLimit": 10000
     },
     "inputWidgets": {},
     "nuid": "e1467ed5-6712-4bf9-8487-a65f71b60adb",
     "showTitle": false,
     "tableResultSettingsMap": {},
     "title": ""
    }
   },
   "outputs": [],
   "source": [
    "# Step 1: Get all customer IDs who placed orders\n",
    "ordered_customer_ids = orders_df.select(\"customerId\")\n",
    "\n",
    "# Step 2: Filter customers whose ID is NOT IN the ordered list\n",
    "customers_without_orders = customers_df.filter(~customers_df.id.isin([row.customerId for row in ordered_customer_ids.collect()]))\n",
    "\n",
    "# Step 3: Rename column and display\n",
    "customers_without_orders.selectExpr(\"name AS Customers\").display()"
   ]
  }
 ],
 "metadata": {
  "application/vnd.databricks.v1+notebook": {
   "computePreferences": null,
   "dashboards": [],
   "environmentMetadata": {
    "base_environment": "",
    "environment_version": "3"
   },
   "inputWidgetPreferences": null,
   "language": "python",
   "notebookMetadata": {
    "pythonIndentUnit": 4
   },
   "notebookName": "183_leetcode_easy",
   "widgets": {}
  },
  "language_info": {
   "name": "python"
  }
 },
 "nbformat": 4,
 "nbformat_minor": 0
}
