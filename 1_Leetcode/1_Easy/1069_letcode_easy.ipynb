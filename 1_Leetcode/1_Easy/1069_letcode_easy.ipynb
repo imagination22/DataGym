{
 "cells": [
  {
   "cell_type": "markdown",
   "metadata": {
    "application/vnd.databricks.v1+cell": {
     "cellMetadata": {},
     "inputWidgets": {},
     "nuid": "0962e7b5-f6b6-42e6-8306-4d8ebda31c98",
     "showTitle": false,
     "tableResultSettingsMap": {},
     "title": ""
    }
   },
   "source": [
    "## 1069. Product Sales Analysis II\n",
    "### Table: Sales\n",
    "\n",
    "| Column Name | Type |\n",
    "|-------------|------|\n",
    "| sale_id     | int  |\n",
    "| product_id  | int  |\n",
    "| year        | int  |\n",
    "| quantity    | int  |\n",
    "| price       | int  |\n",
    "\n",
    "**Primary Key**: `sale_id`  \n",
    "**Foreign Key**: `product_id` references `Product.product_id`  \n",
    "**Note**: `price` is per unit\n",
    "\n",
    "---\n",
    "\n",
    "### Table: Product\n",
    "\n",
    "| Column Name  | Type    |\n",
    "|--------------|---------|\n",
    "| product_id   | int     |\n",
    "| product_name | varchar |\n",
    "\n",
    "**Primary Key**: `product_id`\n",
    "\n",
    "---\n",
    "\n",
    "### 🧠 Business Logic:\n",
    "Write an SQL query that reports the **total quantity sold** for every `product_id`.\n",
    "\n",
    "---\n",
    "\n",
    "### ✅ Expected Output Format:\n",
    "\n",
    "#### Sales Table:\n",
    "| sale_id | product_id | year | quantity | price |\n",
    "|---------|------------|------|----------|-------|\n",
    "| 1       | 100        | 2008 | 10       | 5000  |\n",
    "| 2       | 100        | 2009 | 12       | 5000  |\n",
    "| 7       | 200        | 2011 | 15       | 9000  |\n",
    "\n",
    "#### Product Table:\n",
    "| product_id | product_name |\n",
    "|------------|--------------|\n",
    "| 100        | Nokia        |\n",
    "| 200        | Apple        |\n",
    "| 300        | Samsung      |\n",
    "\n",
    "#### Output:\n",
    "| product_id | total_quantity |\n",
    "|------------|----------------|\n",
    "| 100        | 22             |\n",
    "| 200        | 15             |\n",
    "\n",
    "**Explanation**:  \n",
    "- Product 100 (Nokia): 10 + 12 = 22  \n",
    "- Product 200 (Apple): 15  \n",
    "- Product 300 (Samsung): no sales → excluded"
   ]
  },
  {
   "cell_type": "code",
   "execution_count": 0,
   "metadata": {
    "application/vnd.databricks.v1+cell": {
     "cellMetadata": {
      "byteLimit": 2048000,
      "rowLimit": 10000
     },
     "inputWidgets": {},
     "nuid": "68670ca5-49a4-48fb-9344-2576e11f2cda",
     "showTitle": false,
     "tableResultSettingsMap": {},
     "title": ""
    }
   },
   "outputs": [],
   "source": [
    "from pyspark.sql import SparkSession\n",
    "from pyspark.sql.types import StructType, StructField, IntegerType, StringType\n",
    "\n",
    "# Sample data for Sales\n",
    "sales_data = [\n",
    "    (1, 100, 2008, 10, 5000),\n",
    "    (2, 100, 2009, 12, 5000),\n",
    "    (7, 200, 2011, 15, 9000)\n",
    "]\n",
    "\n",
    "sales_schema = StructType([\n",
    "    StructField(\"sale_id\", IntegerType(), False),\n",
    "    StructField(\"product_id\", IntegerType(), True),\n",
    "    StructField(\"year\", IntegerType(), True),\n",
    "    StructField(\"quantity\", IntegerType(), True),\n",
    "    StructField(\"price\", IntegerType(), True)\n",
    "])\n",
    "\n",
    "# Sample data for Product\n",
    "product_data = [\n",
    "    (100, \"Nokia\"),\n",
    "    (200, \"Apple\"),\n",
    "    (300, \"Samsung\")\n",
    "]\n",
    "\n",
    "product_schema = StructType([\n",
    "    StructField(\"product_id\", IntegerType(), False),\n",
    "    StructField(\"product_name\", StringType(), True)\n",
    "])\n",
    "\n",
    "# Create DataFrames\n",
    "sales_df = spark.createDataFrame(sales_data, sales_schema)\n",
    "product_df = spark.createDataFrame(product_data, product_schema)\n",
    "\n",
    "# Register Temp Views\n",
    "sales_df.createOrReplaceTempView(\"Sales\")\n",
    "product_df.createOrReplaceTempView(\"Product\")\n",
    "\n",
    "# SQL logic to compute total quantity per product_id\n",
    "result = spark.sql(\"\"\"\n",
    "    SELECT s.product_id, SUM(s.quantity) AS total_quantity\n",
    "    FROM Sales s\n",
    "    GROUP BY s.product_id\n",
    "\"\"\")\n",
    "\n",
    "# Display result\n",
    "display(result)"
   ]
  },
  {
   "cell_type": "code",
   "execution_count": 0,
   "metadata": {
    "application/vnd.databricks.v1+cell": {
     "cellMetadata": {
      "byteLimit": 2048000,
      "implicitDf": true,
      "rowLimit": 10000
     },
     "inputWidgets": {},
     "nuid": "a7bc53d5-263b-44b1-ab4f-b02193119006",
     "showTitle": false,
     "tableResultSettingsMap": {},
     "title": ""
    }
   },
   "outputs": [],
   "source": [
    "%sql\n",
    "\n",
    "Select  p.product_id , sum(s.quantity) as total_quantity from Product p  inner join \n",
    "Sales  s on p.product_id = s.product_id\n",
    "group by p.product_id"
   ]
  },
  {
   "cell_type": "code",
   "execution_count": 0,
   "metadata": {
    "application/vnd.databricks.v1+cell": {
     "cellMetadata": {
      "byteLimit": 2048000,
      "rowLimit": 10000
     },
     "inputWidgets": {},
     "nuid": "1c6db324-199d-4504-97f9-706a0f693d99",
     "showTitle": false,
     "tableResultSettingsMap": {},
     "title": ""
    }
   },
   "outputs": [],
   "source": [
    "from pyspark.sql.functions import *\n",
    "product_df_new = product_df.selectExpr(\"product_id as p_id\",\"product_name as p_name\")\n",
    "sales_df_new = sales_df.selectExpr(\"sale_id as s_id\",\"product_id as sp_id\",\"year as year\",\"quantity\",  \"price\")\n",
    "\n",
    "\n",
    "product_df_new.join(sales_df_new, col(\"p_id\")==col(\"sp_id\"),\"inner\")\\\n",
    "    .groupBy(\"p_id\")\\\n",
    "    .agg(sum(\"quantity\").alias(\"total_quantity\" ))\\\n",
    "    .display()"
   ]
  },
  {
   "cell_type": "code",
   "execution_count": 0,
   "metadata": {
    "application/vnd.databricks.v1+cell": {
     "cellMetadata": {},
     "inputWidgets": {},
     "nuid": "4fdac78c-d9c3-4d54-984c-095116d1714e",
     "showTitle": false,
     "tableResultSettingsMap": {},
     "title": ""
    }
   },
   "outputs": [],
   "source": []
  }
 ],
 "metadata": {
  "application/vnd.databricks.v1+notebook": {
   "computePreferences": null,
   "dashboards": [],
   "environmentMetadata": {
    "base_environment": "",
    "environment_version": "3"
   },
   "inputWidgetPreferences": null,
   "language": "python",
   "notebookMetadata": {
    "mostRecentlyExecutedCommandWithImplicitDF": {
     "commandId": 6335100106985718,
     "dataframes": [
      "_sqldf"
     ]
    },
    "pythonIndentUnit": 4
   },
   "notebookName": "1069_letcode_easy",
   "widgets": {}
  },
  "language_info": {
   "name": "python"
  }
 },
 "nbformat": 4,
 "nbformat_minor": 0
}
