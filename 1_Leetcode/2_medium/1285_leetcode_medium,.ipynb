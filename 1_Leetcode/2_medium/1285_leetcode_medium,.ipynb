{
 "cells": [
  {
   "cell_type": "markdown",
   "metadata": {
    "application/vnd.databricks.v1+cell": {
     "cellMetadata": {},
     "inputWidgets": {},
     "nuid": "7e11f68d-48ab-4879-b10d-d3c43001bdbd",
     "showTitle": false,
     "tableResultSettingsMap": {},
     "title": ""
    }
   },
   "source": [
    "## 1285. Find the Start and End Number of Continuous Ranges\n",
    "### Table: Logs\n",
    "\n",
    "| Column Name | Type |\n",
    "|-------------|------|\n",
    "| log_id      | int  |\n",
    "\n",
    "id is the primary key for this table.  \n",
    "Each row of this table contains the ID in a log Table.\n",
    "\n",
    "Since some IDs have been removed from Logs. Write an SQL query to find the start and end number of continuous ranges in table Logs.\n",
    "\n",
    "Order the result table by start_id.\n",
    "\n",
    "---\n",
    "\n",
    "### Logs table:\n",
    "\n",
    "| log_id |\n",
    "|--------|\n",
    "| 1      |\n",
    "| 2      |\n",
    "| 3      |\n",
    "| 7      |\n",
    "| 8      |\n",
    "| 10     |\n",
    "\n",
    "---\n",
    "\n",
    "### Result table:\n",
    "\n",
    "| start_id | end_id |\n",
    "|----------|--------|\n",
    "| 1        | 3      |\n",
    "| 7        | 8      |\n",
    "| 10       | 10     |\n",
    "\n",
    "---\n",
    "\n",
    "**Explanation:**  \n",
    "The result table should contain all ranges in table Logs.  \n",
    "From 1 to 3 is contained in the table.  \n",
    "From 4 to 6 is missing in the table  \n",
    "From 7 to 8 is contained in the table.  \n",
    "Number 9 is missing in the table.  \n",
    "Number 10 is contained in the table."
   ]
  },
  {
   "cell_type": "code",
   "execution_count": 0,
   "metadata": {
    "application/vnd.databricks.v1+cell": {
     "cellMetadata": {
      "byteLimit": 2048000,
      "rowLimit": 10000
     },
     "inputWidgets": {},
     "nuid": "0acf23f0-c414-41f7-8b28-da159ad56e4c",
     "showTitle": false,
     "tableResultSettingsMap": {},
     "title": ""
    }
   },
   "outputs": [],
   "source": [
    "from pyspark.sql import SparkSession\n",
    "from pyspark.sql.types import StructType, StructField, IntegerType\n",
    "from pyspark.sql.functions import col, lag, row_number, min, max\n",
    "from pyspark.sql.window import Window\n",
    "\n",
    "# Start Spark session\n",
    "spark = SparkSession.builder.appName(\"LogRanges\").getOrCreate()\n",
    "\n",
    "# Define schema\n",
    "schema = StructType([\n",
    "    StructField(\"log_id\", IntegerType(), True)\n",
    "])\n",
    "\n",
    "# Sample data\n",
    "data = [(1,), (2,), (3,), (7,), (8,), (10,)]\n",
    "\n",
    "# Create DataFrame\n",
    "df = spark.createDataFrame(data, schema)\n",
    " \n",
    "\n",
    "# Register temp view\n",
    "df.createOrReplaceTempView(\"Logs\")\n",
    "\n",
    "\n"
   ]
  },
  {
   "cell_type": "code",
   "execution_count": 0,
   "metadata": {
    "application/vnd.databricks.v1+cell": {
     "cellMetadata": {
      "byteLimit": 2048000,
      "rowLimit": 10000
     },
     "inputWidgets": {},
     "nuid": "03c1139a-2485-4f29-a7ea-7f53e7f2711e",
     "showTitle": false,
     "tableResultSettingsMap": {
      "0": {
       "dataGridStateBlob": "{\"version\":1,\"tableState\":{\"columnPinning\":{\"left\":[\"#row_number#\"],\"right\":[]},\"columnSizing\":{},\"columnVisibility\":{}},\"settings\":{\"columns\":{}},\"syncTimestamp\":1758514005004}",
       "filterBlob": null,
       "queryPlanFiltersBlob": null,
       "tableResultIndex": 0
      }
     },
     "title": ""
    }
   },
   "outputs": [],
   "source": [
    "from pyspark.sql.functions import *\n",
    "from pyspark.sql.window import * \n",
    "\n",
    "win_spec = Window.orderBy(\"log_id\")\n",
    "rn = row_number().over(win_spec)\n",
    "result = df.withColumn(\"rn\",rn).withColumn(\"group_id\",col(\"log_id\")-col(\"rn\"))\n",
    "result.groupBy(\"group_id\").agg(min(\"log_id\").alias(\"start_id\"),max(\"log_id\").alias(\"end_id\")).orderBy(\"start_id\").select(\"start_id\",\"end_id\").display()"
   ]
  },
  {
   "cell_type": "code",
   "execution_count": 0,
   "metadata": {
    "application/vnd.databricks.v1+cell": {
     "cellMetadata": {
      "byteLimit": 2048000,
      "implicitDf": true,
      "rowLimit": 10000
     },
     "inputWidgets": {},
     "nuid": "7bcb5f9d-d246-4e97-835b-38666acc25fb",
     "showTitle": false,
     "tableResultSettingsMap": {
      "0": {
       "dataGridStateBlob": "{\"version\":1,\"tableState\":{\"columnPinning\":{\"left\":[\"#row_number#\"],\"right\":[]},\"columnSizing\":{},\"columnVisibility\":{}},\"settings\":{\"columns\":{}},\"syncTimestamp\":1758511975615}",
       "filterBlob": null,
       "queryPlanFiltersBlob": null,
       "tableResultIndex": 0
      }
     },
     "title": ""
    }
   },
   "outputs": [],
   "source": [
    "%sql\n",
    "\n",
    "with cte as (\n",
    "  select \n",
    "  log_id , \n",
    "  row_number()over(order by log_id ) as rn  , (log_id - rn) as diff from logs\n",
    ")\n",
    "Select min (log_id) as start_id ,max(log_id) as end_id from cte group by diff\n",
    "\n"
   ]
  },
  {
   "cell_type": "code",
   "execution_count": 0,
   "metadata": {
    "application/vnd.databricks.v1+cell": {
     "cellMetadata": {
      "byteLimit": 2048000,
      "implicitDf": true,
      "rowLimit": 10000
     },
     "inputWidgets": {},
     "nuid": "c8c7f088-acea-4392-bf09-c853dbd8afbd",
     "showTitle": false,
     "tableResultSettingsMap": {
      "0": {
       "dataGridStateBlob": "{\"version\":1,\"tableState\":{\"columnPinning\":{\"left\":[\"#row_number#\"],\"right\":[]},\"columnSizing\":{},\"columnVisibility\":{}},\"settings\":{\"columns\":{}},\"syncTimestamp\":1758511700088}",
       "filterBlob": null,
       "queryPlanFiltersBlob": null,
       "tableResultIndex": 0
      }
     },
     "title": ""
    }
   },
   "outputs": [],
   "source": [
    "%sql\n",
    "WITH NumberedLogs AS (\n",
    "  SELECT \n",
    "    log_id,\n",
    "    ROW_NUMBER() OVER (ORDER BY log_id) AS row_num\n",
    "  FROM Logs\n",
    "),\n",
    "GroupedLogs AS (\n",
    "  SELECT \n",
    "    log_id,\n",
    "    row_num,\n",
    "    log_id - row_num AS group_id\n",
    "  FROM NumberedLogs\n",
    ")\n",
    "SELECT \n",
    "  MIN(log_id) AS start_id,\n",
    "  MAX(log_id) AS end_id, group_id\n",
    "FROM GroupedLogs\n",
    "GROUP BY group_id\n",
    "ORDER BY start_id;"
   ]
  },
  {
   "cell_type": "code",
   "execution_count": 0,
   "metadata": {
    "application/vnd.databricks.v1+cell": {
     "cellMetadata": {},
     "inputWidgets": {},
     "nuid": "577610ae-2f6a-419e-a65d-fa5c61a18ae8",
     "showTitle": false,
     "tableResultSettingsMap": {},
     "title": ""
    }
   },
   "outputs": [],
   "source": [
    "# Step 1: Sort and assign row numbers\n",
    "window_spec = Window.orderBy(\"log_id\")\n",
    "df_with_row = df.withColumn(\"row_num\", row_number().over(window_spec))\n",
    "\n",
    "# Step 2: Compute group identifier\n",
    "df_grouped = df_with_row.withColumn(\"group_id\", col(\"log_id\") - col(\"row_num\"))\n",
    "# Step 3: Group by group_id and aggregate\n",
    "result = df_grouped.groupBy(\"group_id\").agg(\n",
    "    min(\"log_id\").alias(\"start_id\"),\n",
    "    max(\"log_id\").alias(\"end_id\")\n",
    ").orderBy(\"start_id\")\n",
    "\n",
    "# Display result\n",
    "display(result)"
   ]
  }
 ],
 "metadata": {
  "application/vnd.databricks.v1+notebook": {
   "computePreferences": null,
   "dashboards": [],
   "environmentMetadata": {
    "base_environment": "",
    "environment_version": "3"
   },
   "inputWidgetPreferences": null,
   "language": "python",
   "notebookMetadata": {
    "mostRecentlyExecutedCommandWithImplicitDF": {
     "commandId": 4954692329817637,
     "dataframes": [
      "_sqldf"
     ]
    },
    "pythonIndentUnit": 4
   },
   "notebookName": "1285_leetcode_medium,",
   "widgets": {}
  },
  "language_info": {
   "name": "python"
  }
 },
 "nbformat": 4,
 "nbformat_minor": 0
}
