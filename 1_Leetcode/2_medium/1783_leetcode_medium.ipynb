{
 "cells": [
  {
   "cell_type": "markdown",
   "metadata": {
    "application/vnd.databricks.v1+cell": {
     "cellMetadata": {},
     "inputWidgets": {},
     "nuid": "970e3285-7577-4eab-b4be-2bdd99248db5",
     "showTitle": false,
     "tableResultSettingsMap": {},
     "title": ""
    }
   },
   "source": [
    "1783. Grand Slam Titles\n",
    "### Table: Players\n",
    "\n",
    "| Column Name | Type    |\n",
    "|-------------|---------|\n",
    "| player_id   | int     |\n",
    "| player_name | varchar |\n",
    "\n",
    "player_id is the primary key for this table.  \n",
    "Each row in this table contains the name and the ID of a tennis player.\n",
    "\n",
    "---\n",
    "\n",
    "### Table: Championships\n",
    "\n",
    "| Column Name | Type |\n",
    "|-------------|------|\n",
    "| year        | int  |\n",
    "| Wimbledon   | int  |\n",
    "| Fr_open     | int  |\n",
    "| US_open     | int  |\n",
    "| Au_open     | int  |\n",
    "\n",
    "year is the primary key for this table.  \n",
    "Each row of this table containts the IDs of the players who won one each tennis tournament of the grand slam.\n",
    "\n",
    "---\n",
    "\n",
    "Write an SQL query to report the number of grand slam tournaments won by each player. Do not include the players who did not win any tournament.\n",
    "\n",
    "Return the result table in any order.\n",
    "\n",
    "---\n",
    "\n",
    "### Players table:\n",
    "\n",
    "| player_id | player_name |\n",
    "|-----------|-------------|\n",
    "| 1         | Nadal       |\n",
    "| 2         | Federer     |\n",
    "| 3         | Novak       |\n",
    "\n",
    "### Championships table:\n",
    "\n",
    "| year | Wimbledon | Fr_open | US_open | Au_open |\n",
    "|------|-----------|---------|---------|---------|\n",
    "| 2018 | 1         | 1       | 1       | 1       |\n",
    "| 2019 | 1         | 1       | 2       | 2       |\n",
    "| 2020 | 2         | 1       | 2       | 2       |\n",
    "\n",
    "---\n",
    "\n",
    "### Result table:\n",
    "\n",
    "| player_id | player_name | grand_slams_count |\n",
    "|-----------|-------------|-------------------|\n",
    "| 2         | Federer     | 5                 |\n",
    "| 1         | Nadal       | 7                 |\n",
    "\n",
    "Player 1 (Nadal) won 7 titles: Wimbledon (2018, 2019), Fr_open (2018, 2019, 2020), US_open (2018), and Au_open (2018).  \n",
    "Player 2 (Federer) won 5 titles: Wimbledon (2020), US_open (2019, 2020), and Au_open (2019, 2020).  \n",
    "Player 3 (Novak) did not win anything, we did not include them in the result table."
   ]
  },
  {
   "cell_type": "code",
   "execution_count": 0,
   "metadata": {
    "application/vnd.databricks.v1+cell": {
     "cellMetadata": {
      "byteLimit": 2048000,
      "rowLimit": 10000
     },
     "inputWidgets": {},
     "nuid": "5d2ca334-e610-4898-a8d2-cfc73dfdd155",
     "showTitle": false,
     "tableResultSettingsMap": {},
     "title": ""
    }
   },
   "outputs": [],
   "source": [
    "from pyspark.sql import SparkSession\n",
    "from pyspark.sql.types import StructType, StructField, IntegerType, StringType\n",
    "from pyspark.sql.functions import col, expr\n",
    "\n",
    "# Start Spark session\n",
    "spark = SparkSession.builder.appName(\"GrandSlamCount\").getOrCreate()\n",
    "\n",
    "# Define Players schema and data\n",
    "players_schema = StructType([\n",
    "    StructField(\"player_id\", IntegerType(), True),\n",
    "    StructField(\"player_name\", StringType(), True)\n",
    "])\n",
    "\n",
    "players_data = [\n",
    "    (1, \"Nadal\"),\n",
    "    (2, \"Federer\"),\n",
    "    (3, \"Novak\")\n",
    "]\n",
    "\n",
    "players_df = spark.createDataFrame(players_data, players_schema)\n",
    "players_df.createOrReplaceTempView(\"Players\")\n",
    "\n",
    "# Define Championships schema and data\n",
    "champ_schema = StructType([\n",
    "    StructField(\"year\", IntegerType(), True),\n",
    "    StructField(\"Wimbledon\", IntegerType(), True),\n",
    "    StructField(\"Fr_open\", IntegerType(), True),\n",
    "    StructField(\"US_open\", IntegerType(), True),\n",
    "    StructField(\"Au_open\", IntegerType(), True)\n",
    "])\n",
    "\n",
    "champ_data = [\n",
    "    (2018, 1, 1, 1, 1),\n",
    "    (2019, 1, 1, 2, 2),\n",
    "    (2020, 2, 1, 2, 2)\n",
    "]\n",
    "\n",
    "champ_df = spark.createDataFrame(champ_data, champ_schema)\n",
    "champ_df.createOrReplaceTempView(\"Championships\")\n"
   ]
  },
  {
   "cell_type": "code",
   "execution_count": 0,
   "metadata": {
    "application/vnd.databricks.v1+cell": {
     "cellMetadata": {
      "byteLimit": 2048000,
      "rowLimit": 10000
     },
     "inputWidgets": {},
     "nuid": "5948cb3d-4482-4081-b567-ca0928fb9713",
     "showTitle": false,
     "tableResultSettingsMap": {
      "0": {
       "dataGridStateBlob": "{\"version\":1,\"tableState\":{\"columnPinning\":{\"left\":[\"#row_number#\"],\"right\":[]},\"columnSizing\":{},\"columnVisibility\":{}},\"settings\":{\"columns\":{}},\"syncTimestamp\":1758456880932}",
       "filterBlob": null,
       "queryPlanFiltersBlob": null,
       "tableResultIndex": 0
      }
     },
     "title": ""
    }
   },
   "outputs": [],
   "source": [
    "from pyspark.sql.functions import *\n",
    "df1 = champ_df.selectExpr(\"Wimbledon as player\")\n",
    "df2 = champ_df.selectExpr(\"Fr_open as player\")\n",
    "df3 = champ_df.selectExpr(\"US_open as player\")\n",
    "df4 = champ_df.selectExpr(\"Au_open as player\")\n",
    "\n",
    "df_player = df1.union(df2).union(df3).union(df4)\n",
    "df_player.groupBy(\"player\")\\\n",
    "    .agg(count(\"*\").alias(\"won\"))\\\n",
    "        .join(players_df , col(\"player_id\") == col(\"player\"),\"inner\")\\\n",
    "            .selectExpr(\"player_id\" , \"player_name\"  ,\"won as grand_slams_count\")\\\n",
    "            .display()\n"
   ]
  },
  {
   "cell_type": "code",
   "execution_count": 0,
   "metadata": {
    "application/vnd.databricks.v1+cell": {
     "cellMetadata": {
      "byteLimit": 2048000,
      "implicitDf": true,
      "rowLimit": 10000
     },
     "inputWidgets": {},
     "nuid": "52e6b228-28a3-4e0c-a4ce-6d7944f00b79",
     "showTitle": false,
     "tableResultSettingsMap": {},
     "title": ""
    }
   },
   "outputs": [],
   "source": [
    "%sql\n",
    "SELECT Wimbledon AS player_id FROM Championships\n",
    "    UNION ALL\n",
    "    SELECT Fr_open FROM Championships\n",
    "    UNION ALL\n",
    "    SELECT US_open FROM Championships\n",
    "    UNION ALL\n",
    "    SELECT Au_open FROM Championships"
   ]
  },
  {
   "cell_type": "code",
   "execution_count": 0,
   "metadata": {
    "application/vnd.databricks.v1+cell": {
     "cellMetadata": {},
     "inputWidgets": {},
     "nuid": "4a1acea0-0da2-4b80-ba60-33035aba174b",
     "showTitle": false,
     "tableResultSettingsMap": {},
     "title": ""
    }
   },
   "outputs": [],
   "source": [
    "\n",
    "# SQL logic\n",
    "query = \"\"\"\n",
    "SELECT player_id, player_name, COUNT(*) AS grand_slams_count\n",
    "FROM (\n",
    "    SELECT Wimbledon AS player_id FROM Championships\n",
    "    UNION ALL\n",
    "    SELECT Fr_open FROM Championships\n",
    "    UNION ALL\n",
    "    SELECT US_open FROM Championships\n",
    "    UNION ALL\n",
    "    SELECT Au_open FROM Championships\n",
    ") AS all_wins\n",
    "JOIN Players USING (player_id)\n",
    "GROUP BY player_id, player_name\n",
    "\"\"\"\n",
    "\n",
    "# Execute and display\n",
    "result = spark.sql(query)\n",
    "display(result)"
   ]
  }
 ],
 "metadata": {
  "application/vnd.databricks.v1+notebook": {
   "computePreferences": null,
   "dashboards": [],
   "environmentMetadata": {
    "base_environment": "",
    "environment_version": "3"
   },
   "inputWidgetPreferences": null,
   "language": "python",
   "notebookMetadata": {
    "mostRecentlyExecutedCommandWithImplicitDF": {
     "commandId": 4924655153237385,
     "dataframes": [
      "_sqldf"
     ]
    },
    "pythonIndentUnit": 4
   },
   "notebookName": "1783_leetcode_medium",
   "widgets": {}
  },
  "language_info": {
   "name": "python"
  }
 },
 "nbformat": 4,
 "nbformat_minor": 0
}
