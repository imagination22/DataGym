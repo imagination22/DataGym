{
 "cells": [
  {
   "cell_type": "markdown",
   "metadata": {
    "application/vnd.databricks.v1+cell": {
     "cellMetadata": {},
     "inputWidgets": {},
     "nuid": "e6f3c333-16eb-4b93-a79c-55e681b9e7db",
     "showTitle": false,
     "tableResultSettingsMap": {},
     "title": ""
    }
   },
   "source": [
    "## 1303. Find the Team Size\n",
    "### Table: Employee\n",
    "\n",
    "| Column Name   | Type |\n",
    "|---------------|------|\n",
    "| employee_id   | int  |\n",
    "| team_id       | int  |\n",
    "\n",
    "employee_id is the primary key for this table.  \n",
    "Each row of this table contains the ID of each employee and their respective team.  \n",
    "Write an SQL query to find the team size of each of the employees.\n",
    "\n",
    "Return result table in any order.\n",
    "\n",
    "#### Employee Table:\n",
    "\n",
    "| employee_id | team_id |\n",
    "|-------------|---------|\n",
    "|     1       |    8    |\n",
    "|     2       |    8    |\n",
    "|     3       |    8    |\n",
    "|     4       |    7    |\n",
    "|     5       |    9    |\n",
    "|     6       |    9    |\n",
    "\n",
    "#### Result Table:\n",
    "\n",
    "| employee_id | team_size |\n",
    "|-------------|-----------|\n",
    "|     1       |     3     |\n",
    "|     2       |     3     |\n",
    "|     3       |     3     |\n",
    "|     4       |     1     |\n",
    "|     5       |     2     |\n",
    "|     6       |     2     |\n",
    "\n",
    "Employees with Id 1,2,3 are part of a team with team_id = 8.  \n",
    "Employees with Id 4 is part of a team with team_id = 7.  \n",
    "Employees with Id 5,6 are part of a team with team_id = 9."
   ]
  },
  {
   "cell_type": "code",
   "execution_count": 0,
   "metadata": {
    "application/vnd.databricks.v1+cell": {
     "cellMetadata": {
      "byteLimit": 2048000,
      "rowLimit": 10000
     },
     "inputWidgets": {},
     "nuid": "8ea533d5-5b37-4a4e-8b1f-d94b08b3d85b",
     "showTitle": false,
     "tableResultSettingsMap": {},
     "title": ""
    }
   },
   "outputs": [],
   "source": [
    "from pyspark.sql import SparkSession\n",
    "from pyspark.sql.types import StructType, StructField, IntegerType\n",
    "from pyspark.sql.functions import count, col\n",
    "\n",
    "# Create Spark session\n",
    "spark = SparkSession.builder.appName(\"TeamSize\").getOrCreate()\n",
    "\n",
    "# Define schema\n",
    "schema = StructType([\n",
    "    StructField(\"employee_id\", IntegerType(), True),\n",
    "    StructField(\"team_id\", IntegerType(), True)\n",
    "])\n",
    "\n",
    "# Sample data\n",
    "data = [\n",
    "    (1, 8),\n",
    "    (2, 8),\n",
    "    (3, 8),\n",
    "    (4, 7),\n",
    "    (5, 9),\n",
    "    (6, 9)\n",
    "]\n",
    "\n",
    "# Create DataFrame\n",
    "df = spark.createDataFrame(data, schema)\n",
    "\n",
    "# Register as temp view\n",
    "df.createOrReplaceTempView(\"Employee\")\n",
    "\n"
   ]
  },
  {
   "cell_type": "code",
   "execution_count": 0,
   "metadata": {
    "application/vnd.databricks.v1+cell": {
     "cellMetadata": {
      "byteLimit": 2048000,
      "rowLimit": 10000
     },
     "inputWidgets": {},
     "nuid": "00238927-6171-42f2-aeab-372b0cc35b0d",
     "showTitle": false,
     "tableResultSettingsMap": {},
     "title": ""
    }
   },
   "outputs": [],
   "source": [
    "from pyspark.sql.functions import count\n",
    "\n",
    "# Step 1: Subquery equivalent\n",
    "team_sizes = df.groupBy(\"team_id\").agg(count(\"*\").alias(\"team_size\")).filter(\"team_size > 2\")\n",
    "\n",
    "# Step 2: Join with original\n",
    "result = df.join(team_sizes, \"team_id\")\n",
    "result.show()\n"
   ]
  },
  {
   "cell_type": "code",
   "execution_count": 0,
   "metadata": {
    "application/vnd.databricks.v1+cell": {
     "cellMetadata": {
      "byteLimit": 2048000,
      "rowLimit": 10000
     },
     "inputWidgets": {},
     "nuid": "553f17cf-d0ce-4c93-af94-729939df4817",
     "showTitle": false,
     "tableResultSettingsMap": {
      "0": {
       "dataGridStateBlob": "{\"version\":1,\"tableState\":{\"columnPinning\":{\"left\":[\"#row_number#\"],\"right\":[]},\"columnSizing\":{},\"columnVisibility\":{}},\"settings\":{\"columns\":{}},\"syncTimestamp\":1758439883327}",
       "filterBlob": null,
       "queryPlanFiltersBlob": null,
       "tableResultIndex": 0
      }
     },
     "title": ""
    }
   },
   "outputs": [],
   "source": [
    "df_1 = df.groupBy(col(\"team_id\")).agg(count(\"employee_id\").alias(\"teamsize\"))\n",
    "#df_1.display()\n",
    "df_2 = df.selectExpr(\"team_id as t2_id\",\"employee_id as e_id\")\n",
    "#df_2.display()\n",
    "df_2.join(df_1,col(\"t2_id\") == col(\"team_id\"),\"left\").selectExpr(\"e_id as employee_id\",\"teamsize\").display()\n"
   ]
  },
  {
   "cell_type": "code",
   "execution_count": 0,
   "metadata": {
    "application/vnd.databricks.v1+cell": {
     "cellMetadata": {
      "byteLimit": 2048000,
      "rowLimit": 10000
     },
     "inputWidgets": {},
     "nuid": "72dfdb4c-61b6-4682-aa71-fdfc6235f0ab",
     "showTitle": false,
     "tableResultSettingsMap": {},
     "title": ""
    }
   },
   "outputs": [],
   "source": [
    "# SQL logic\n",
    "query = \"\"\"\n",
    "SELECT e.employee_id, t.team_size\n",
    "FROM Employee e\n",
    "JOIN (\n",
    "    SELECT team_id, COUNT(*) AS team_size\n",
    "    FROM Employee\n",
    "    GROUP BY team_id\n",
    ") t\n",
    "ON e.team_id = t.team_id order by e.employee_id asc\n",
    "\"\"\"\n",
    "\n",
    "# Execute and display\n",
    "result = spark.sql(query)\n",
    "display(result)"
   ]
  },
  {
   "cell_type": "code",
   "execution_count": 0,
   "metadata": {
    "application/vnd.databricks.v1+cell": {
     "cellMetadata": {},
     "inputWidgets": {},
     "nuid": "98f98085-72de-4b8e-acc8-41935d47b2db",
     "showTitle": false,
     "tableResultSettingsMap": {},
     "title": ""
    }
   },
   "outputs": [],
   "source": []
  }
 ],
 "metadata": {
  "application/vnd.databricks.v1+notebook": {
   "computePreferences": null,
   "dashboards": [],
   "environmentMetadata": {
    "base_environment": "",
    "environment_version": "3"
   },
   "inputWidgetPreferences": null,
   "language": "python",
   "notebookMetadata": {
    "pythonIndentUnit": 4
   },
   "notebookName": "1303_leetcode_easy",
   "widgets": {}
  },
  "language_info": {
   "name": "python"
  }
 },
 "nbformat": 4,
 "nbformat_minor": 0
}
