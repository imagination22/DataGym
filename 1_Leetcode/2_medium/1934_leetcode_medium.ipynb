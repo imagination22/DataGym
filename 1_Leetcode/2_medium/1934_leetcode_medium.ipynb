{
 "cells": [
  {
   "cell_type": "markdown",
   "metadata": {
    "application/vnd.databricks.v1+cell": {
     "cellMetadata": {},
     "inputWidgets": {},
     "nuid": "521d32c5-db05-4923-8b25-a615b3b5ea5f",
     "showTitle": false,
     "tableResultSettingsMap": {},
     "title": ""
    }
   },
   "source": [
    "## 1934. Confirmation Rate\n",
    "### Table: Signups\n",
    "\n",
    "| Column Name | Type     |\n",
    "|-------------|----------|\n",
    "| user_id     | int      |\n",
    "| time_stamp  | datetime |\n",
    "\n",
    "user_id is the column of unique values for this table.  \n",
    "Each row contains information about the signup time for the user with ID user_id.\n",
    "\n",
    "---\n",
    "\n",
    "### Table: Confirmations\n",
    "\n",
    "| Column Name | Type     |\n",
    "|-------------|----------|\n",
    "| user_id     | int      |\n",
    "| time_stamp  | datetime |\n",
    "| action      | ENUM     |\n",
    "\n",
    "(user_id, time_stamp) is the primary key (combination of columns with unique values) for this table.  \n",
    "user_id is a foreign key (reference column) to the Signups table.  \n",
    "action is an ENUM (category) of the type ('confirmed', 'timeout')  \n",
    "Each row of this table indicates that the user with ID user_id requested a confirmation message at time_stamp and that confirmation message was either confirmed ('confirmed') or expired without confirming ('timeout').\n",
    "\n",
    "---\n",
    "\n",
    "### Problem Statement\n",
    "\n",
    "The confirmation rate of a user is the number of 'confirmed' messages divided by the total number of requested confirmation messages. The confirmation rate of a user that did not request any confirmation messages is 0. Round the confirmation rate to two decimal places.\n",
    "\n",
    "Write a solution to find the confirmation rate of each user.\n",
    "\n",
    "Return the result table in any order.\n",
    "\n",
    "---\n",
    "\n",
    "### Example 1:\n",
    "\n",
    "#### Input:\n",
    "\n",
    "##### Signups table:\n",
    "\n",
    "| user_id | time_stamp          |\n",
    "|---------|---------------------|\n",
    "| 3       | 2020-03-21 10:16:13 |\n",
    "| 7       | 2020-01-04 13:57:59 |\n",
    "| 2       | 2020-07-29 23:09:44 |\n",
    "| 6       | 2020-12-09 10:39:37 |\n",
    "\n",
    "##### Confirmations table:\n",
    "\n",
    "| user_id | time_stamp          | action    |\n",
    "|---------|---------------------|-----------|\n",
    "| 3       | 2021-01-06 03:30:46 | timeout   |\n",
    "| 3       | 2021-07-14 14:00:00 | timeout   |\n",
    "| 7       | 2021-06-12 11:57:29 | confirmed |\n",
    "| 7       | 2021-06-13 12:58:28 | confirmed |\n",
    "| 7       | 2021-06-14 13:59:27 | confirmed |\n",
    "| 2       | 2021-01-22 00:00:00 | confirmed |\n",
    "| 2       | 2021-02-28 23:59:59 | timeout   |\n",
    "\n",
    "---\n",
    "\n",
    "#### Output:\n",
    "\n",
    "| user_id | confirmation_rate |\n",
    "|---------|-------------------|\n",
    "| 6       | 0.00              |\n",
    "| 3       | 0.00              |\n",
    "| 7       | 1.00              |\n",
    "| 2       | 0.50              |\n",
    "\n",
    "---\n",
    "\n",
    "### Explanation:\n",
    "\n",
    "User 6 did not request any confirmation messages. The confirmation rate is 0.  \n",
    "User 3 made 2 requests and both timed out. The confirmation rate is 0.  \n",
    "User 7 made 3 requests and all were confirmed. The confirmation rate is 1.  \n",
    "User 2 made 2 requests where one was confirmed and the other timed out. The confirmation rate is 1 / 2 = 0.5."
   ]
  },
  {
   "cell_type": "code",
   "execution_count": 0,
   "metadata": {
    "application/vnd.databricks.v1+cell": {
     "cellMetadata": {
      "byteLimit": 2048000,
      "rowLimit": 10000
     },
     "inputWidgets": {},
     "nuid": "49057b0f-3c2d-4d3f-83c7-c2f827681281",
     "showTitle": false,
     "tableResultSettingsMap": {},
     "title": ""
    }
   },
   "outputs": [],
   "source": [
    "from pyspark.sql import SparkSession\n",
    "from pyspark.sql.types import StructType, StructField, IntegerType, StringType, TimestampType\n",
    "from pyspark.sql import functions as F\n",
    "\n",
    "spark = SparkSession.builder.getOrCreate()\n",
    "\n",
    "# Define schemas\n",
    "signups_schema = StructType([\n",
    "    StructField(\"user_id\", IntegerType(), True),\n",
    "    StructField(\"time_stamp\", TimestampType(), True)\n",
    "])\n",
    "\n",
    "confirmations_schema = StructType([\n",
    "    StructField(\"user_id\", IntegerType(), True),\n",
    "    StructField(\"time_stamp\", TimestampType(), True),\n",
    "    StructField(\"action\", StringType(), True)\n",
    "])\n",
    "\n",
    "# Sample data\n",
    "from datetime import datetime\n",
    "\n",
    "signups_data = [\n",
    "    (3, datetime(2020, 3, 21, 10, 16, 13)),\n",
    "    (7, datetime(2020, 1, 4, 13, 57, 59)),\n",
    "    (2, datetime(2020, 7, 29, 23, 9, 44)),\n",
    "    (6, datetime(2020, 12, 9, 10, 39, 37))\n",
    "]\n",
    "\n",
    "from datetime import datetime\n",
    "\n",
    "confirmations_data = [\n",
    "    (3, datetime(2021, 1, 6, 3, 30, 46), \"timeout\"),\n",
    "    (3, datetime(2021, 7, 14, 14, 0, 0), \"timeout\"),\n",
    "    (7, datetime(2021, 6, 12, 11, 57, 29), \"confirmed\"),\n",
    "    (7, datetime(2021, 6, 13, 12, 58, 28), \"confirmed\"),\n",
    "    (7, datetime(2021, 6, 14, 13, 59, 27), \"confirmed\"),\n",
    "    (2, datetime(2021, 1, 22, 0, 0, 0), \"confirmed\"),\n",
    "    (2, datetime(2021, 2, 28, 23, 59, 59), \"timeout\")\n",
    "]\n",
    "\n",
    "# Create DataFrames\n",
    "signups_df = spark.createDataFrame(signups_data, schema=signups_schema)\n",
    "confirmations_df = spark.createDataFrame(confirmations_data, schema=confirmations_schema)\n",
    "\n",
    "# Register temp views\n",
    "signups_df.createOrReplaceTempView(\"Signups\")\n",
    "confirmations_df.createOrReplaceTempView(\"Confirmations\")\n"
   ]
  },
  {
   "cell_type": "code",
   "execution_count": 0,
   "metadata": {
    "application/vnd.databricks.v1+cell": {
     "cellMetadata": {
      "byteLimit": 2048000,
      "rowLimit": 10000
     },
     "inputWidgets": {},
     "nuid": "0978241c-0950-4b9a-ab5b-04ffff83a018",
     "showTitle": false,
     "tableResultSettingsMap": {},
     "title": ""
    }
   },
   "outputs": [],
   "source": [
    "from pyspark.sql.functions import *\n",
    "s_df = signups_df.selectExpr(\"user_id as u_id\",\"time_stamp as s_ts\")\n",
    "c_df = confirmations_df.selectExpr(\"user_id as c_u_id\",\"time_stamp as c_ts\",\"action\")\n",
    "s_df.join(c_df,col(\"u_id\") == col(\"c_u_id\"),\"left\")\\\n",
    "    .groupBy(col(\"u_id\"))\\\n",
    "        .agg(\n",
    "            count(\"*\").alias(\"total_request\"),\n",
    "            sum(when(col(\"action\") == \"confirmed\",1).otherwise(0 )\n",
    "                ).alias(\"confirmed_request\")\n",
    "            )\\\n",
    "            .withColumn(\n",
    "                \"confirmed_rate\",\n",
    "                round(\n",
    "                    coalesce(col(\"confirmed_request\"),lit(0))\n",
    "                    /\n",
    "                    when(\n",
    "                        col(\"total_request\") == 0,lit(1)).otherwise(col(\"total_request\"))\n",
    "                    ,2)\n",
    "                ).selectExpr(\"u_id as user_id\",\"confirmed_rate\").display()"
   ]
  },
  {
   "cell_type": "code",
   "execution_count": 0,
   "metadata": {
    "application/vnd.databricks.v1+cell": {
     "cellMetadata": {
      "byteLimit": 2048000,
      "implicitDf": true,
      "rowLimit": 10000
     },
     "inputWidgets": {},
     "nuid": "73c8ba39-3468-42fe-b82a-941e81948bf0",
     "showTitle": false,
     "tableResultSettingsMap": {},
     "title": ""
    }
   },
   "outputs": [],
   "source": [
    "%sql\n",
    "WITH cte AS (\n",
    "    SELECT s.user_id,\n",
    "           COUNT(*) AS total_requests,\n",
    "           SUM(CASE WHEN c.action = 'confirmed' THEN 1 ELSE 0 END) AS confirmed_requests\n",
    "    FROM Signups s\n",
    "    LEFT JOIN Confirmations c ON s.user_id = c.user_id\n",
    "    GROUP BY s.user_id\n",
    ")\n",
    "SELECT user_id,\n",
    "       ROUND(\n",
    "           COALESCE(confirmed_requests * 1.0 / NULLIF(total_requests, 0), 0), 2\n",
    "       )  AS confirmation_rate\n",
    "FROM cte;"
   ]
  },
  {
   "cell_type": "code",
   "execution_count": 0,
   "metadata": {
    "application/vnd.databricks.v1+cell": {
     "cellMetadata": {},
     "inputWidgets": {},
     "nuid": "c59fa0e6-b6bb-4dd8-89dc-4fb2e1dc30d4",
     "showTitle": false,
     "tableResultSettingsMap": {},
     "title": ""
    }
   },
   "outputs": [],
   "source": [
    "\n",
    "# SQL logic\n",
    "query = \"\"\"\n",
    "SELECT \n",
    "    s.user_id,\n",
    "    ROUND(\n",
    "        COALESCE(SUM(CASE WHEN c.action = 'confirmed' THEN 1 ELSE 0 END), 0) * 1.0 /\n",
    "        COALESCE(COUNT(c.action), 0), 2\n",
    "    ) AS confirmation_rate\n",
    "FROM Signups s\n",
    "LEFT JOIN Confirmations c\n",
    "ON s.user_id = c.user_id\n",
    "GROUP BY s.user_id\n",
    "\"\"\"\n",
    "\n",
    "result_df = spark.sql(query)\n",
    "display(result_df)"
   ]
  }
 ],
 "metadata": {
  "application/vnd.databricks.v1+notebook": {
   "computePreferences": null,
   "dashboards": [],
   "environmentMetadata": {
    "base_environment": "",
    "environment_version": "3"
   },
   "inputWidgetPreferences": null,
   "language": "python",
   "notebookMetadata": {
    "mostRecentlyExecutedCommandWithImplicitDF": {
     "commandId": 4747636552301142,
     "dataframes": [
      "_sqldf"
     ]
    },
    "pythonIndentUnit": 4
   },
   "notebookName": "1934_leetcode_medium",
   "widgets": {}
  },
  "language_info": {
   "name": "python"
  }
 },
 "nbformat": 4,
 "nbformat_minor": 0
}
