{
 "cells": [
  {
   "cell_type": "markdown",
   "metadata": {
    "application/vnd.databricks.v1+cell": {
     "cellMetadata": {},
     "inputWidgets": {},
     "nuid": "902bf066-a244-4830-9893-4fdbd7cd0168",
     "showTitle": false,
     "tableResultSettingsMap": {},
     "title": ""
    }
   },
   "source": [
    "# 🧠 Leetcode 584 — Find Customers Who Are Not Referred by Customer 2 (Databricks Edition)\n",
    "\n",
    "---\n",
    "\n",
    "## 📘 Problem Statement\n",
    "\n",
    "### Table: Customer\n",
    "\n",
    "| Column Name | Type    |\n",
    "|-------------|---------|\n",
    "| id          | int     |\n",
    "| name        | varchar |\n",
    "| referee_id  | int     |\n",
    "\n",
    "- `id` is the primary key.\n",
    "- Each row indicates the ID of a customer, their name, and the ID of the customer who referred them.\n",
    "\n",
    "---\n",
    "\n",
    "## 🎯 Objective\n",
    "\n",
    "Find the names of customers who are either:\n",
    "\n",
    "- Referred by any customer with `id != 2`, or  \n",
    "- Not referred by any customer (`referee_id IS NULL`)\n",
    "\n",
    "Return the result table in any order.\n",
    "\n",
    "---\n",
    "\n",
    "## 🧾 Example\n",
    "\n",
    "### Input\n",
    "\n",
    "**Customer Table**\n",
    "\n",
    "| id | name | referee_id |\n",
    "|----|------|------------|\n",
    "| 1  | Will | null       |\n",
    "| 2  | Jane | null       |\n",
    "| 3  | Alex | 2          |\n",
    "| 4  | Bill | null       |\n",
    "| 5  | Zack | 1          |\n",
    "| 6  | Mark | 2          |\n",
    "\n",
    "### Output\n",
    "\n",
    "| name |\n",
    "|------|\n",
    "| Will |\n",
    "| Jane |\n",
    "| Bill |\n",
    "| Zack |\n",
    "\n",
    "---\n",
    "\n",
    "## 🧱 PySpark DataFrame Creation\n",
    "\n",
    "```python\n",
    "from pyspark.sql import Row\n",
    "\n",
    "# Sample data\n",
    "customer_data = [\n",
    "    Row(id=1, name=\"Will\", referee_id=None),\n",
    "    Row(id=2, name=\"Jane\", referee_id=None),\n",
    "    Row(id=3, name=\"Alex\", referee_id=2),\n",
    "    Row(id=4, name=\"Bill\", referee_id=None),\n",
    "    Row(id=5, name=\"Zack\", referee_id=1),\n",
    "    Row(id=6, name=\"Mark\", referee_id=2)\n",
    "]\n",
    "\n",
    "# Create DataFrame\n",
    "customer_df = spark.createDataFrame(customer_data)\n",
    "\n",
    "# Register temp view\n",
    "customer_df.createOrReplaceTempView(\"Customer\")\n",
    "```\n",
    "\n",
    "---\n",
    "\n",
    "## ✅ SQL Solution\n",
    "\n",
    "```sql\n",
    "SELECT name\n",
    "FROM Customer\n",
    "WHERE referee_id != 2 OR referee_id IS NULL;\n",
    "```\n",
    "\n",
    "---\n",
    "\n",
    "## 🧪 PySpark Solution\n",
    "\n",
    "```python\n",
    "from pyspark.sql.functions import col\n",
    "\n",
    "result_df = customer_df.filter(\n",
    "    (col(\"referee_id\") != 2) | col(\"referee_id\").isNull()\n",
    ").select(\"name\")\n",
    "\n",
    "result_df.show()\n",
    "```\n",
    "\n",
    "---\n",
    "\n",
    "📘 *This notebook is part of DataGym’s SQL-to-PySpark transition series. Want to build a reusable template for filter + null logic problems or referral-based segmentation? Let’s co-create it!*\n"
   ]
  },
  {
   "cell_type": "code",
   "execution_count": 0,
   "metadata": {
    "application/vnd.databricks.v1+cell": {
     "cellMetadata": {
      "byteLimit": 2048000,
      "rowLimit": 10000
     },
     "inputWidgets": {},
     "nuid": "7c745459-e8ac-4d6f-b5a3-e8038f0a8e58",
     "showTitle": false,
     "tableResultSettingsMap": {},
     "title": ""
    }
   },
   "outputs": [],
   "source": [
    "from pyspark.sql import SparkSession\n",
    "from pyspark.sql.types import StructType, StructField, IntegerType, StringType\n",
    "from pyspark.sql.functions import *\n",
    "\n",
    "# 1️⃣ Sample Data\n",
    "customer_data = [\n",
    "    (1, \"Will\", None),\n",
    "    (2, \"Jane\", None),\n",
    "    (3, \"Alex\", 2),\n",
    "    (4, \"Bill\", None),\n",
    "    (5, \"Zack\", 1),\n",
    "    (6, \"Mark\", 2)\n",
    "]\n",
    "\n",
    "# 2️⃣ Schema Definition\n",
    "customer_schema = StructType([\n",
    "    StructField(\"id\", IntegerType(), True),\n",
    "    StructField(\"name\", StringType(), True),\n",
    "    StructField(\"referee_id\", IntegerType(), True)\n",
    "])\n",
    "\n",
    "# 3️⃣ Create DataFrame\n",
    "customer_df = spark.createDataFrame(customer_data, schema=customer_schema)\n",
    "\n",
    "# 4️⃣ Register Temp View\n",
    "customer_df.createOrReplaceTempView(\"Customer\")\n",
    "\n",
    "# 5️⃣ SQL Query: Filter by referral logic\n",
    "result = spark.sql(\"\"\"\n",
    "    SELECT name\n",
    "    FROM Customer\n",
    "    WHERE referee_id != 2 OR referee_id IS NULL\n",
    "\"\"\")\n",
    "\n",
    "# 6️⃣ Show Result\n",
    "result.show()"
   ]
  },
  {
   "cell_type": "code",
   "execution_count": 0,
   "metadata": {
    "application/vnd.databricks.v1+cell": {
     "cellMetadata": {
      "byteLimit": 2048000,
      "rowLimit": 10000
     },
     "inputWidgets": {},
     "nuid": "b7e16fe9-0ac0-4b32-86e9-236f970317d7",
     "showTitle": false,
     "tableResultSettingsMap": {},
     "title": ""
    }
   },
   "outputs": [],
   "source": [
    "customer_df.filter((col(\"referee_id\") != 2 )|( col(\"referee_id\").isNull())).selectExpr(\"name\").display()"
   ]
  },
  {
   "cell_type": "code",
   "execution_count": 0,
   "metadata": {
    "application/vnd.databricks.v1+cell": {
     "cellMetadata": {},
     "inputWidgets": {},
     "nuid": "159b5aa5-9dca-4cdc-8423-2b6d60426d90",
     "showTitle": false,
     "tableResultSettingsMap": {},
     "title": ""
    }
   },
   "outputs": [],
   "source": []
  }
 ],
 "metadata": {
  "application/vnd.databricks.v1+notebook": {
   "computePreferences": null,
   "dashboards": [],
   "environmentMetadata": {
    "base_environment": "",
    "environment_version": "3"
   },
   "inputWidgetPreferences": null,
   "language": "python",
   "notebookMetadata": {
    "pythonIndentUnit": 4
   },
   "notebookName": "584_leetcode_easy",
   "widgets": {}
  },
  "language_info": {
   "name": "python"
  }
 },
 "nbformat": 4,
 "nbformat_minor": 0
}
